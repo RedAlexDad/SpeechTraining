{
 "cells": [
  {
   "cell_type": "code",
   "execution_count": 13,
   "id": "1d287cc5-2190-41ab-b9b1-8b7c0a1abda6",
   "metadata": {},
   "source": [
    "import torch\n",
    "import torchaudio\n",
    "from torch.utils.data import Dataset, DataLoader\n",
    "from torchaudio.transforms import Resample\n",
    "from datasets import load_dataset\n",
    "from torch.nn import CTCLoss\n",
    "from torch.optim import Adam\n",
    "import torch.nn as nn"
   ],
   "outputs": []
  },
  {
   "cell_type": "code",
   "execution_count": 2,
   "id": "f337058d-710e-40b1-8aad-7dcbac28981f",
   "metadata": {},
   "source": [
    "# Скачиваем датасет с русскими данными \n",
    "# https://huggingface.co/datasets/mozilla-foundation/common_voice_11_0\n",
    "cv_11_train = load_dataset(\"mozilla-foundation/common_voice_11_0\", \"ru\", split=\"train\")"
   ],
   "outputs": []
  },
  {
   "cell_type": "code",
   "execution_count": 6,
   "id": "01855c5d-e125-447d-8dca-569305ffd0c3",
   "metadata": {},
   "source": [
    "# Создание класса датасета\n",
    "class VoiceDataset(Dataset):\n",
    "    def __init__(self, dataset):\n",
    "        self.dataset = dataset\n",
    "        self.resampler = Resample(orig_freq=48_000, new_freq=16_000)\n",
    "\n",
    "    def __len__(self):\n",
    "        return len(self.dataset)\n",
    "\n",
    "    def __getitem__(self, idx):\n",
    "        audio_path = self.dataset[idx][\"path\"]\n",
    "        waveform, sample_rate = torchaudio.load(audio_path, normalize=True)\n",
    "        waveform = self.resampler(waveform)\n",
    "        transcription = self.dataset[idx][\"sentence\"]\n",
    "        return waveform, transcription"
   ],
   "outputs": []
  },
  {
   "cell_type": "code",
   "execution_count": 7,
   "id": "90aed2d8-5e22-4d05-90a8-e5989061bce0",
   "metadata": {},
   "source": [
    "# Инициализация датасета и загрузчика данных\n",
    "voice_dataset = VoiceDataset(cv_11_train)\n",
    "dataloader = DataLoader(voice_dataset, batch_size=32, shuffle=True, num_workers=4)"
   ],
   "outputs": []
  },
  {
   "cell_type": "code",
   "execution_count": 18,
   "id": "11acee84-44be-4c56-aa0d-1093f3aaaa92",
   "metadata": {},
   "source": [
    "# Пример определения простой модели для голосового распознавания\n",
    "class SimpleSpeechRecognitionModel(nn.Module):\n",
    "    def __init__(self, num_classes):\n",
    "        super(SimpleSpeechRecognitionModel, self).__init__()\n",
    "        self.conv1 = nn.Conv2d(1, 64, kernel_size=3, stride=1, padding=1)\n",
    "        self.relu = nn.ReLU()\n",
    "        self.fc = nn.Linear(64, num_classes)\n",
    "\n",
    "    def forward(self, x):\n",
    "        x = self.conv1(x)\n",
    "        x = self.relu(x)\n",
    "        x = x.view(x.size(0), -1)\n",
    "        x = self.fc(x)\n",
    "        return x"
   ],
   "outputs": []
  },
  {
   "cell_type": "code",
   "execution_count": 19,
   "id": "3a3fc7a6-480b-4a28-96e5-e6d73a03f473",
   "metadata": {},
   "source": [
    "# Указание количества классов\n",
    "num_classes = 10  # Замените на фактическое количество классов в вашем датасете\n",
    "\n",
    "# Инициализация модели\n",
    "model = SimpleSpeechRecognitionModel(num_classes)"
   ],
   "outputs": []
  },
  {
   "cell_type": "code",
   "execution_count": 20,
   "id": "8b0119a9-6730-4ca5-a07b-bfb9ce43c821",
   "metadata": {},
   "source": [
    "# Определение функции потерь и оптимизатора\n",
    "criterion = CTCLoss(blank=0)\n",
    "optimizer = Adam(model.parameters(), lr=0.001)"
   ],
   "outputs": []
  },
  {
   "cell_type": "code",
   "execution_count": 25,
   "id": "8e7456db-d841-407a-b44e-ea9e57f13bc5",
   "metadata": {},
   "source": [
    "# Пример обучения модели на нескольких эпохах\n",
    "num_epochs = 5\n",
    "for epoch in range(num_epochs):\n",
    "    for batch_idx, (waveform, transcription) in enumerate(dataloader):\n",
    "        optimizer.zero_grad()\n",
    "        output = model(waveform)\n",
    "        # Преобразование текстов в тензоры для расчета функции потерь CTC\n",
    "        target = torch.IntTensor([ord(char) for char in transcription])\n",
    "        loss = criterion(output, target)\n",
    "        loss.backward()\n",
    "        optimizer.step()\n",
    "\n",
    "        if batch_idx % 10 == 0:\n",
    "            print(f\"Эпоха {epoch+1}/{num_epochs}, Шаг {batch_idx}, Потеря: {loss.item()}\")"
   ],
   "outputs": []
  },
  {
   "cell_type": "code",
   "execution_count": null,
   "id": "0c2152b1-955b-40e5-8f6a-b755bd2a0dc9",
   "metadata": {},
   "source": [
    "# Сохранение обученной модели\n",
    "torch.save(model.state_dict(), \"my_model_001.pth\")"
   ],
   "outputs": []
  },
  {
   "cell_type": "code",
   "execution_count": null,
   "id": "dc78233a-2a18-4008-bd6e-c744f756fa90",
   "metadata": {},
   "source": [],
   "outputs": []
  }
 ],
 "metadata": {
  "kernelspec": {
   "display_name": "Python 3 (ipykernel)",
   "language": "python",
   "name": "python3"
  },
  "language_info": {
   "codemirror_mode": {
    "name": "ipython",
    "version": 3
   },
   "file_extension": ".py",
   "mimetype": "text/x-python",
   "name": "python",
   "nbconvert_exporter": "python",
   "pygments_lexer": "ipython3",
   "version": "3.9.18"
  }
 },
 "nbformat": 4,
 "nbformat_minor": 5
}
