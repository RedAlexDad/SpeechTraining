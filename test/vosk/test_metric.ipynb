{
 "cells": [
  {
   "cell_type": "markdown",
   "id": "8266d84e-6b08-4770-93c4-55085dbb6ddb",
   "metadata": {},
   "source": [
    "# VOSK"
   ]
  },
  {
   "cell_type": "markdown",
   "id": "2eb2e94c-a0f4-416a-ac55-c62f29420fd1",
   "metadata": {},
   "source": [
    "##### https://alphacephei.com/vosk/"
   ]
  },
  {
   "cell_type": "markdown",
   "id": "0bd931cf-266f-4b1a-b407-d0ee8a8e5511",
   "metadata": {},
   "source": [
    "## Подключение библиотеки"
   ]
  },
  {
   "cell_type": "code",
   "execution_count": 1,
   "id": "fa1966e1-da83-48f8-a78f-b78aa81148c9",
   "metadata": {},
   "source": [
    "import os\n",
    "import wave\n",
    "import sys\n",
    "import pickle\n",
    "import warnings\n",
    "import numpy as np\n",
    "import json\n",
    "import io\n",
    "\n",
    "import torch\n",
    "from datasets import load_dataset, load_from_disk\n",
    "from datasets.features import Audio\n",
    "from transformers import Wav2Vec2ForCTC, Wav2Vec2Processor\n",
    "import pandas as pd\n",
    "import torchaudio\n",
    "from pydub import AudioSegment\n",
    "\n",
    "from vosk import Model, KaldiRecognizer, SetLogLevel\n",
    "\n",
    "# Для теста WER - Word Error Rate\n",
    "# CER - Character Error Rate\n",
    "# MER - Match Error Rate\n",
    "# WIL - Word Information Lost\n",
    "from jiwer import wer, cer, mer, wil"
   ],
   "outputs": []
  },
  {
   "cell_type": "markdown",
   "id": "6d26f7f4-7a27-41d0-8e1a-1137fde271df",
   "metadata": {},
   "source": [
    "## Использование CUDA"
   ]
  },
  {
   "cell_type": "code",
   "execution_count": 2,
   "id": "1cbd1059-a47b-4e8b-95f8-8afbd0df2c63",
   "metadata": {},
   "source": [
    "# Check if CUDA is available\n",
    "if torch.cuda.is_available():\n",
    "    # Get the device name\n",
    "    device = torch.cuda.current_device()\n",
    "    print(f\"Code is connected to CUDA. Using GPU: {torch.cuda.get_device_name(device)}\")\n",
    "else:\n",
    "    print(\"CUDA is not available. Running on CPU.\")"
   ],
   "outputs": []
  },
  {
   "cell_type": "code",
   "execution_count": 3,
   "id": "095466a4-2817-4f50-8be5-f299e5ca18a8",
   "metadata": {},
   "source": [
    "# Все равно у меня не хватит памяти для выполнения(\n",
    "device = 'cpu'"
   ],
   "outputs": []
  },
  {
   "cell_type": "markdown",
   "id": "64bd65de-79ee-4aa6-955b-d7ed6159ebe0",
   "metadata": {},
   "source": [
    "Не загружаем модель через CUDA, памяти не хватило\n",
    "\n",
    "`RuntimeError: CUDA out of memory. Tried to allocate 16.00 MiB (GPU 0; 3.63 GiB total capacity; 2.56 GiB already allocated; 7.12 MiB free; 2.58 GiB reserved in total by PyTorch) If reserved memory is >> allocated memory try setting max_split_size_mb to avoid fragmentation.  See documentation for Memory Management and PYTORCH_CUDA_ALLOC_CONF`"
   ]
  },
  {
   "cell_type": "code",
   "execution_count": 4,
   "id": "37568392-0261-43ed-b804-f374cdbfc159",
   "metadata": {},
   "source": [
    "# Создадим датафрейм, который будет собирать данные и сохранять\n",
    "info = pd.DataFrame()"
   ],
   "outputs": []
  },
  {
   "cell_type": "code",
   "execution_count": 5,
   "id": "ed2afbae-ba5e-4c4f-8d13-7cc5e3ad1ec8",
   "metadata": {},
   "source": [
    "# Установите уровень журнала на -1, чтобы отключить отладочные сообщения\n",
    "SetLogLevel(0)"
   ],
   "outputs": []
  },
  {
   "cell_type": "markdown",
   "id": "91c81c5b-8a0c-4575-887d-4bf475afd21c",
   "metadata": {},
   "source": [
    "## Загрузка модели"
   ]
  },
  {
   "cell_type": "code",
   "execution_count": 6,
   "id": "65085af6-5544-4736-a06a-bc8def031988",
   "metadata": {},
   "source": [
    "LANG_ID = \"ru\"\n",
    "MODEL_ID = 'vosk-model-ru-0.42'\n",
    "PATH_MODEL = '/home/redalexdad/recognition_speech/vosk'\n",
    "# Кол-во текстов для предсказания\n",
    "# ВНИМАНИЕ, НЕ СТАВЬ БОЛЬШЕ 10, ОС ЗАВИСНЕТ И ЯДРО УПАДЕТ!\n",
    "SAMPLES = 10"
   ],
   "outputs": []
  },
  {
   "cell_type": "code",
   "execution_count": 7,
   "id": "bb414907-fea4-435c-b09a-2c5c6eb4625b",
   "metadata": {},
   "source": [
    "%%time\n",
    "# Нет метода, который позволяет сохранить модель в локальном месте\n",
    "model = Model(model_name=MODEL_ID, lang=LANG_ID)"
   ],
   "outputs": []
  },
  {
   "cell_type": "markdown",
   "id": "286895f5-1d7a-4290-8105-927418c7c992",
   "metadata": {},
   "source": [
    "## Функции"
   ]
  },
  {
   "cell_type": "markdown",
   "id": "60339cd3-2753-4035-b73d-181a6735903e",
   "metadata": {},
   "source": [
    "### Предсказание"
   ]
  },
  {
   "cell_type": "code",
   "execution_count": 8,
   "id": "a63732ef-dc9f-4de8-9679-acd862df7995",
   "metadata": {},
   "source": [
    "# Освобождаем памяти\n",
    "torch.cuda.empty_cache()\n",
    "\n",
    "def create_recognizer():\n",
    "    SAMPLE_RATE = 16000\n",
    "    \n",
    "    rec = KaldiRecognizer(model, SAMPLE_RATE)\n",
    "    rec.SetWords(True)\n",
    "    rec.SetPartialWords(True)\n",
    "    \n",
    "    return rec"
   ],
   "outputs": []
  },
  {
   "cell_type": "code",
   "execution_count": 9,
   "id": "2384d16a-0912-42d8-bacd-d7f7a5d20970",
   "metadata": {},
   "source": [
    "# Освобождаем памяти\n",
    "torch.cuda.empty_cache()\n",
    "\n",
    "def predict_text(batch):\n",
    "    audio_data = batch[\"audio\"]\n",
    "    rec = create_recognizer()\n",
    "\n",
    "    original_text = batch[\"sentence\"]\n",
    "    \n",
    "    # Конвертация mp3 в wav\n",
    "    audio_array = np.array(audio_data['array'], dtype=np.float32)\n",
    "    audio_array = (audio_array * 32767).astype(np.int16)  # приведение к формату int16\n",
    "    audio = AudioSegment(audio_array.tobytes(), frame_rate=audio_data['sampling_rate'], sample_width=2, channels=1)\n",
    "\n",
    "    # Проход по аудиофайлу\n",
    "    if rec.AcceptWaveform(audio.raw_data):\n",
    "        result = rec.Result()\n",
    "        # print(f\"Оригинальный текст: {original_text}\")\n",
    "        # print(f\"Предсказанный текст: {result['text']}\")\n",
    "        # print(\"-\" * 100)\n",
    "    else:\n",
    "        partial_result = rec.PartialResult()\n",
    "        # print(f\"Оригинальный текст: {original_text}\")\n",
    "        # print(f\"Предсказанный текст (частичный): {partial_result}\")\n",
    "        # print(\"-\" * 100)\n",
    "    \n",
    "    # Вывод окончательного результата\n",
    "    final_result = rec.FinalResult()\n",
    "    # Извлекаем текст, если он есть.\n",
    "    if isinstance(final_result, str):\n",
    "        # Если final_result строка, преобразуем ее в словарь\n",
    "        final_result = json.loads(final_result)\n",
    "    predicted_text = final_result.get('text', '')\n",
    "    \n",
    "    print(f\"Оригинальный текст: {original_text}\")\n",
    "    print(f\"Предсказанный текст: {predicted_text}\")\n",
    "    print(\"-\" * 100)\n",
    "    \n",
    "    return {\"predicted_text\": predicted_text}"
   ],
   "outputs": []
  },
  {
   "cell_type": "markdown",
   "id": "fd5ab5f9-ab7d-476e-8484-87f03d95cd48",
   "metadata": {},
   "source": [
    "### Тест метрики WER, CER, MER, WIL"
   ]
  },
  {
   "cell_type": "code",
   "execution_count": 10,
   "id": "63b1f187-572e-4684-907b-33090b1a6db8",
   "metadata": {},
   "source": [
    "# Функция для вычисления WER, CER, MER, WIL\n",
    "def compute_metrics(original_texts, transcription):\n",
    "    wer_score = wer(original_texts, transcription)\n",
    "    cer_score = cer(original_texts, transcription)\n",
    "    mer_score = mer(original_texts, transcription)\n",
    "    wil_score = wil(original_texts, transcription)\n",
    "    \n",
    "    return wer_score, cer_score, mer_score, wil_score"
   ],
   "outputs": []
  },
  {
   "cell_type": "markdown",
   "id": "a6d73116-2bd7-461e-9709-ee82e5032a64",
   "metadata": {},
   "source": [
    "## Загрузка датасета `common_voice_11_0`"
   ]
  },
  {
   "cell_type": "code",
   "execution_count": 11,
   "id": "fe875f79-ade7-45fa-b0bc-71a28c43129f",
   "metadata": {},
   "source": [
    "%%time\n",
    "test_dataset_cv_11 = load_dataset(\"mozilla-foundation/common_voice_11_0\", LANG_ID, split=f\"test[:{SAMPLES}]\", trust_remote_code=True)"
   ],
   "outputs": []
  },
  {
   "cell_type": "code",
   "execution_count": 12,
   "id": "c398204b-8f71-4fa6-9bf5-fc584d6983f7",
   "metadata": {},
   "source": [
    "test_dataset_cv_11"
   ],
   "outputs": []
  },
  {
   "cell_type": "code",
   "execution_count": 13,
   "id": "d872bbb5-d9ff-4aa2-88c6-e31cae39bfd2",
   "metadata": {},
   "source": [
    "if test_dataset_cv_11.features['audio'].sampling_rate != 16_000:\n",
    "    test_dataset_cv_11 = test_dataset_cv_11.cast_column(\n",
    "        'audio',\n",
    "        Audio(sampling_rate=16_000)\n",
    "    )"
   ],
   "outputs": []
  },
  {
   "cell_type": "markdown",
   "id": "66b25d00-99e1-4192-9fea-be1be764096b",
   "metadata": {},
   "source": [
    "### Вывод результатов"
   ]
  },
  {
   "cell_type": "code",
   "execution_count": 14,
   "id": "17dc2da9-e9b4-4332-bec6-8e865bbceb7f",
   "metadata": {},
   "source": [
    "%%time\n",
    "# Добавление новой колонки с предсказанными текстами\n",
    "test_dataset_cv_11 = test_dataset_cv_11.map(predict_text)"
   ],
   "outputs": []
  },
  {
   "cell_type": "code",
   "execution_count": 15,
   "id": "beee0ddb-9f1b-4448-b6ac-5c7ca36dad45",
   "metadata": {},
   "source": [
    "test_dataset_cv_11"
   ],
   "outputs": []
  },
  {
   "cell_type": "markdown",
   "id": "11ed616a-216f-476d-8080-256429f94943",
   "metadata": {},
   "source": [
    "### Тест WER, CER, MER, WIL"
   ]
  },
  {
   "cell_type": "code",
   "execution_count": 16,
   "id": "464e2f7c-37da-4f05-98fc-b38b09165103",
   "metadata": {},
   "source": [
    "# Приведем все к нижнему регистру\n",
    "original_texts = [ref.lower() for ref in test_dataset_cv_11['sentence']]\n",
    "transcription = [pred.lower() for pred in test_dataset_cv_11['predicted_text']]"
   ],
   "outputs": []
  },
  {
   "cell_type": "code",
   "execution_count": 17,
   "id": "56f21c30-b48f-47fb-8f54-8b04dcade35c",
   "metadata": {},
   "source": [
    "# Получаем метрику\n",
    "wer_score, cer_score, mer_score, wil_score = compute_metrics(original_texts, transcription)"
   ],
   "outputs": []
  },
  {
   "cell_type": "code",
   "execution_count": 18,
   "id": "3341eef5-0088-4145-8187-ff34162acc3c",
   "metadata": {},
   "source": [
    "print(f\"Word Error Rate (WER): {wer_score * 100:.2f}%\")\n",
    "print(f\"Character Error Rate (CER): {cer_score * 100:.2f}%\")\n",
    "print(f\"Match Error Rate (MER): {mer_score * 100:.2f}%\")\n",
    "print(f\"Word Information Lost (WIL): {wil_score * 100:.2f}%\")"
   ],
   "outputs": []
  },
  {
   "cell_type": "code",
   "execution_count": 19,
   "id": "82de810f-9b5f-4236-829a-d60b7ca1adef",
   "metadata": {},
   "source": [
    "# Создание датафрейма\n",
    "info = info.append({\n",
    "    'MODEL': MODEL_ID,\n",
    "    'DATASET': test_dataset_cv_11.info.dataset_name,\n",
    "    'ORIGINAL TEXT': original_texts,\n",
    "    'PREDICTION TEXT': transcription,\n",
    "    'WER': wer_score,\n",
    "    'CER': cer_score,\n",
    "    'MER': mer_score,\n",
    "    'WIL': wil_score,\n",
    "    'SAMPLES': SAMPLES\n",
    "}, ignore_index=True)\n",
    "display(info)"
   ],
   "outputs": []
  },
  {
   "cell_type": "markdown",
   "id": "4623b59a-e291-4dc5-9e9f-8dcaca30ea36",
   "metadata": {},
   "source": [
    "## Загрузка датасета `common_voice_12_0`"
   ]
  },
  {
   "cell_type": "code",
   "execution_count": 20,
   "id": "b8f91cad-2cca-4f4d-ad39-bd2bf7c2e245",
   "metadata": {},
   "source": [
    "%%time\n",
    "test_dataset_cv_12 = load_dataset(\"mozilla-foundation/common_voice_12_0\", LANG_ID, split=f\"test[:{SAMPLES}]\", trust_remote_code=True)"
   ],
   "outputs": []
  },
  {
   "cell_type": "code",
   "execution_count": 21,
   "id": "bbe87430-c4d7-4241-a3ac-79faaf9820e1",
   "metadata": {},
   "source": [
    "test_dataset_cv_12"
   ],
   "outputs": []
  },
  {
   "cell_type": "code",
   "execution_count": 22,
   "id": "61a93d64-b8f8-43b0-930f-653e76679045",
   "metadata": {},
   "source": [
    "if test_dataset_cv_12.features['audio'].sampling_rate != 16_000:\n",
    "    test_dataset_cv_12 = test_dataset_cv_12.cast_column(\n",
    "        'audio',\n",
    "        Audio(sampling_rate=16_000)\n",
    "    )"
   ],
   "outputs": []
  },
  {
   "cell_type": "markdown",
   "id": "9743ccaf-7d44-4469-872b-5d15d7d31c86",
   "metadata": {},
   "source": [
    "### Вывод результатов"
   ]
  },
  {
   "cell_type": "code",
   "execution_count": 23,
   "id": "f788e39e-581a-4b87-8164-63cc5b7921ae",
   "metadata": {},
   "source": [
    "%%time\n",
    "# Добавление новой колонки с предсказанными текстами\n",
    "test_dataset_cv_12 = test_dataset_cv_12.map(predict_text)"
   ],
   "outputs": []
  },
  {
   "cell_type": "code",
   "execution_count": 24,
   "id": "a0b243c3-188d-4ef0-b793-0e4924602ebd",
   "metadata": {},
   "source": [
    "test_dataset_cv_12"
   ],
   "outputs": []
  },
  {
   "cell_type": "markdown",
   "id": "eb19783e-4960-4282-b347-78e7d317b863",
   "metadata": {},
   "source": [
    "### Тест WER, CER, MER, WIL"
   ]
  },
  {
   "cell_type": "code",
   "execution_count": 25,
   "id": "5572938f-5df6-469b-83b1-b3cbbfd8f1b9",
   "metadata": {},
   "source": [
    "# Приведем все к нижнему регистру\n",
    "original_texts = [ref.lower() for ref in test_dataset_cv_12['sentence']]\n",
    "transcription = [pred.lower() for pred in test_dataset_cv_12['predicted_text']]"
   ],
   "outputs": []
  },
  {
   "cell_type": "code",
   "execution_count": 26,
   "id": "079da87a-5b87-4af4-b2b1-a05bc8cd76a5",
   "metadata": {},
   "source": [
    "# Получаем метрику\n",
    "wer_score, cer_score, mer_score, wil_score = compute_metrics(original_texts, transcription)"
   ],
   "outputs": []
  },
  {
   "cell_type": "code",
   "execution_count": 27,
   "id": "8cfb3554-b3e4-4849-8880-f8cdc3840d29",
   "metadata": {},
   "source": [
    "print(f\"Word Error Rate (WER): {wer_score * 100:.2f}%\")\n",
    "print(f\"Character Error Rate (CER): {cer_score * 100:.2f}%\")\n",
    "print(f\"Match Error Rate (MER): {mer_score * 100:.2f}%\")\n",
    "print(f\"Word Information Lost (WIL): {wil_score * 100:.2f}%\")"
   ],
   "outputs": []
  },
  {
   "cell_type": "code",
   "execution_count": 28,
   "id": "bdf2b9d0-884f-47a7-8028-2226254c6530",
   "metadata": {},
   "source": [
    "# Создание датафрейма\n",
    "info = info.append({\n",
    "    'MODEL': MODEL_ID,\n",
    "    'DATASET': test_dataset_cv_12.info.dataset_name,\n",
    "    'ORIGINAL TEXT': original_texts,\n",
    "    'PREDICTION TEXT': transcription,\n",
    "    'WER': wer_score,\n",
    "    'CER': cer_score,\n",
    "    'MER': mer_score,\n",
    "    'WIL': wil_score,\n",
    "    'SAMPLES': SAMPLES\n",
    "}, ignore_index=True)\n",
    "display(info)"
   ],
   "outputs": []
  },
  {
   "cell_type": "markdown",
   "id": "3fad51a2-6b43-48b7-a486-5a90b73dd382",
   "metadata": {},
   "source": [
    "## Загрузка датасета `common_voice_14_0`"
   ]
  },
  {
   "cell_type": "code",
   "execution_count": 29,
   "id": "512f9011-9d16-47eb-9861-b732e60bbce8",
   "metadata": {},
   "source": [
    "%%time\n",
    "test_dataset_cv_14 = load_dataset(\"mozilla-foundation/common_voice_14_0\", LANG_ID, split=f\"test[:{SAMPLES}]\", trust_remote_code=True)"
   ],
   "outputs": []
  },
  {
   "cell_type": "code",
   "execution_count": 30,
   "id": "d841a5f0-2c7b-4ada-afcb-b0d3836be4de",
   "metadata": {},
   "source": [
    "test_dataset_cv_14"
   ],
   "outputs": []
  },
  {
   "cell_type": "code",
   "execution_count": 31,
   "id": "187b61e0-f769-4305-abcf-6a4c76030784",
   "metadata": {},
   "source": [
    "if test_dataset_cv_14.features['audio'].sampling_rate != 16_000:\n",
    "    test_dataset_cv_14 = test_dataset_cv_14.cast_column(\n",
    "        'audio',\n",
    "        Audio(sampling_rate=16_000)\n",
    "    )"
   ],
   "outputs": []
  },
  {
   "cell_type": "markdown",
   "id": "552c75a5-1d00-40ab-a98a-45b4d2fbd97e",
   "metadata": {},
   "source": [
    "### Вывод результатов"
   ]
  },
  {
   "cell_type": "code",
   "execution_count": 32,
   "id": "67b26727-d796-4661-97bf-c92b9bd96423",
   "metadata": {},
   "source": [
    "%%time\n",
    "# Добавление новой колонки с предсказанными текстами\n",
    "test_dataset_cv_14 = test_dataset_cv_14.map(predict_text)"
   ],
   "outputs": []
  },
  {
   "cell_type": "code",
   "execution_count": 33,
   "id": "77d5424c-2141-489d-b9d3-31ad7a6ff37a",
   "metadata": {},
   "source": [
    "test_dataset_cv_14"
   ],
   "outputs": []
  },
  {
   "cell_type": "markdown",
   "id": "b6bebd08-2c47-440b-a173-9fb416324153",
   "metadata": {},
   "source": [
    "### Тест WER, CER, MER, WIL"
   ]
  },
  {
   "cell_type": "code",
   "execution_count": 34,
   "id": "a212f515-c8ed-4385-a48a-1f01899763db",
   "metadata": {},
   "source": [
    "# Приведем все к нижнему регистру\n",
    "original_texts = [ref.lower() for ref in test_dataset_cv_14['sentence']]\n",
    "transcription = [pred.lower() for pred in test_dataset_cv_14['predicted_text']]"
   ],
   "outputs": []
  },
  {
   "cell_type": "code",
   "execution_count": 35,
   "id": "3104e101-817e-4798-91bc-b76ed40015d8",
   "metadata": {},
   "source": [
    "# Получаем метрику\n",
    "wer_score, cer_score, mer_score, wil_score = compute_metrics(original_texts, transcription)"
   ],
   "outputs": []
  },
  {
   "cell_type": "code",
   "execution_count": 36,
   "id": "0e532b9c-8143-4ec4-ab16-47a94ee492a4",
   "metadata": {},
   "source": [
    "print(f\"Word Error Rate (WER): {wer_score * 100:.2f}%\")\n",
    "print(f\"Character Error Rate (CER): {cer_score * 100:.2f}%\")\n",
    "print(f\"Match Error Rate (MER): {mer_score * 100:.2f}%\")\n",
    "print(f\"Word Information Lost (WIL): {wil_score * 100:.2f}%\")"
   ],
   "outputs": []
  },
  {
   "cell_type": "code",
   "execution_count": 37,
   "id": "be86d98b-130c-4d7b-b099-cae1fdab3c53",
   "metadata": {},
   "source": [
    "# Создание датафрейма\n",
    "info = info.append({\n",
    "    'MODEL': MODEL_ID,\n",
    "    'DATASET': test_dataset_cv_14.info.dataset_name,\n",
    "    'ORIGINAL TEXT': original_texts,\n",
    "    'PREDICTION TEXT': transcription,\n",
    "    'WER': wer_score,\n",
    "    'CER': cer_score,\n",
    "    'MER': mer_score,\n",
    "    'WIL': wil_score,\n",
    "    'SAMPLES': SAMPLES\n",
    "}, ignore_index=True)\n",
    "display(info)"
   ],
   "outputs": []
  },
  {
   "cell_type": "code",
   "execution_count": 38,
   "id": "781e0e1c-b005-4ad5-a39f-92147dc40ee0",
   "metadata": {},
   "source": [
    "info.to_csv('vosk-model-ru-0.42.csv', index=False)"
   ],
   "outputs": []
  }
 ],
 "metadata": {
  "kernelspec": {
   "display_name": "Python 3 (ipykernel)",
   "language": "python",
   "name": "python3"
  },
  "language_info": {
   "codemirror_mode": {
    "name": "ipython",
    "version": 3
   },
   "file_extension": ".py",
   "mimetype": "text/x-python",
   "name": "python",
   "nbconvert_exporter": "python",
   "pygments_lexer": "ipython3",
   "version": "3.9.18"
  }
 },
 "nbformat": 4,
 "nbformat_minor": 5
}
