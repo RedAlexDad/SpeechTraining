{
 "cells": [
  {
   "cell_type": "markdown",
   "id": "8266d84e-6b08-4770-93c4-55085dbb6ddb",
   "metadata": {},
   "source": [
    "# VOSK"
   ]
  },
  {
   "cell_type": "markdown",
   "id": "2eb2e94c-a0f4-416a-ac55-c62f29420fd1",
   "metadata": {},
   "source": [
    "##### https://alphacephei.com/vosk/"
   ]
  },
  {
   "cell_type": "markdown",
   "id": "0bd931cf-266f-4b1a-b407-d0ee8a8e5511",
   "metadata": {},
   "source": [
    "## Подключение библиотеки"
   ]
  },
  {
   "cell_type": "code",
   "execution_count": 1,
   "id": "fa1966e1-da83-48f8-a78f-b78aa81148c9",
   "metadata": {},
   "outputs": [],
   "source": [
    "import os\n",
    "import wave\n",
    "import sys\n",
    "import pickle\n",
    "import warnings\n",
    "import numpy as np\n",
    "import json\n",
    "import io\n",
    "\n",
    "import torch\n",
    "from datasets import load_dataset, load_from_disk\n",
    "from datasets.features import Audio\n",
    "from transformers import Wav2Vec2ForCTC, Wav2Vec2Processor\n",
    "import pandas as pd\n",
    "import torchaudio\n",
    "from pydub import AudioSegment\n",
    "\n",
    "from vosk import Model, KaldiRecognizer, SetLogLevel\n",
    "\n",
    "# Для теста WER - Word Error Rate\n",
    "# CER - Character Error Rate\n",
    "# MER - Match Error Rate\n",
    "# WIL - Word Information Lost\n",
    "from jiwer import wer, cer, mer, wil"
   ]
  },
  {
   "cell_type": "markdown",
   "id": "6d26f7f4-7a27-41d0-8e1a-1137fde271df",
   "metadata": {},
   "source": [
    "## Использование CUDA"
   ]
  },
  {
   "cell_type": "code",
   "execution_count": 2,
   "id": "1cbd1059-a47b-4e8b-95f8-8afbd0df2c63",
   "metadata": {},
   "outputs": [
    {
     "name": "stdout",
     "output_type": "stream",
     "text": [
      "Code is connected to CUDA. Using GPU: NVIDIA GeForce GTX 1650 Ti\n"
     ]
    }
   ],
   "source": [
    "# Check if CUDA is available\n",
    "if torch.cuda.is_available():\n",
    "    # Get the device name\n",
    "    device = torch.cuda.current_device()\n",
    "    print(f\"Code is connected to CUDA. Using GPU: {torch.cuda.get_device_name(device)}\")\n",
    "else:\n",
    "    print(\"CUDA is not available. Running on CPU.\")"
   ]
  },
  {
   "cell_type": "code",
   "execution_count": 3,
   "id": "095466a4-2817-4f50-8be5-f299e5ca18a8",
   "metadata": {},
   "outputs": [],
   "source": [
    "# Все равно у меня не хватит памяти для выполнения(\n",
    "device = 'cpu'"
   ]
  },
  {
   "cell_type": "markdown",
   "id": "64bd65de-79ee-4aa6-955b-d7ed6159ebe0",
   "metadata": {},
   "source": [
    "Не загружаем модель через CUDA, памяти не хватило\n",
    "\n",
    "`RuntimeError: CUDA out of memory. Tried to allocate 16.00 MiB (GPU 0; 3.63 GiB total capacity; 2.56 GiB already allocated; 7.12 MiB free; 2.58 GiB reserved in total by PyTorch) If reserved memory is >> allocated memory try setting max_split_size_mb to avoid fragmentation.  See documentation for Memory Management and PYTORCH_CUDA_ALLOC_CONF`"
   ]
  },
  {
   "cell_type": "code",
   "execution_count": 4,
   "id": "37568392-0261-43ed-b804-f374cdbfc159",
   "metadata": {},
   "outputs": [],
   "source": [
    "# Создадим датафрейм, который будет собирать данные и сохранять\n",
    "info = pd.DataFrame()"
   ]
  },
  {
   "cell_type": "code",
   "execution_count": 5,
   "id": "ed2afbae-ba5e-4c4f-8d13-7cc5e3ad1ec8",
   "metadata": {},
   "outputs": [],
   "source": [
    "# Установите уровень журнала на -1, чтобы отключить отладочные сообщения\n",
    "SetLogLevel(0)"
   ]
  },
  {
   "cell_type": "markdown",
   "id": "91c81c5b-8a0c-4575-887d-4bf475afd21c",
   "metadata": {},
   "source": [
    "## Загрузка модели"
   ]
  },
  {
   "cell_type": "code",
   "execution_count": 6,
   "id": "65085af6-5544-4736-a06a-bc8def031988",
   "metadata": {},
   "outputs": [],
   "source": [
    "LANG_ID = \"ru\"\n",
    "MODEL_ID = 'vosk-model-ru-0.42'\n",
    "PATH_MODEL = '/home/redalexdad/recognition_speech/vosk'\n",
    "# Кол-во текстов для предсказания\n",
    "# ВНИМАНИЕ, НЕ СТАВЬ БОЛЬШЕ 10, ОС ЗАВИСНЕТ И ЯДРО УПАДЕТ!\n",
    "SAMPLES = 10"
   ]
  },
  {
   "cell_type": "code",
   "execution_count": 7,
   "id": "bb414907-fea4-435c-b09a-2c5c6eb4625b",
   "metadata": {},
   "outputs": [
    {
     "name": "stderr",
     "output_type": "stream",
     "text": [
      "LOG (VoskAPI:ReadDataFiles():model.cc:213) Decoding params beam=13 max-active=7000 lattice-beam=6\n",
      "LOG (VoskAPI:ReadDataFiles():model.cc:216) Silence phones 1:2:3:4:5:6:7:8:9:10\n",
      "LOG (VoskAPI:RemoveOrphanNodes():nnet-nnet.cc:948) Removed 1 orphan nodes.\n",
      "LOG (VoskAPI:RemoveOrphanComponents():nnet-nnet.cc:847) Removing 2 orphan components.\n",
      "LOG (VoskAPI:Collapse():nnet-utils.cc:1488) Added 1 components, removed 2\n",
      "LOG (VoskAPI:ReadDataFiles():model.cc:248) Loading i-vector extractor from /home/redalexdad/.cache/vosk/vosk-model-ru-0.42/ivector/final.ie\n",
      "LOG (VoskAPI:ComputeDerivedVars():ivector-extractor.cc:183) Computing derived variables for iVector extractor\n",
      "LOG (VoskAPI:ComputeDerivedVars():ivector-extractor.cc:204) Done.\n",
      "LOG (VoskAPI:ReadDataFiles():model.cc:279) Loading HCLG from /home/redalexdad/.cache/vosk/vosk-model-ru-0.42/graph/HCLG.fst\n",
      "LOG (VoskAPI:ReadDataFiles():model.cc:297) Loading words from /home/redalexdad/.cache/vosk/vosk-model-ru-0.42/graph/words.txt\n",
      "LOG (VoskAPI:ReadDataFiles():model.cc:308) Loading winfo /home/redalexdad/.cache/vosk/vosk-model-ru-0.42/graph/phones/word_boundary.int\n",
      "LOG (VoskAPI:ReadDataFiles():model.cc:315) Loading subtract G.fst model from /home/redalexdad/.cache/vosk/vosk-model-ru-0.42/rescore/G.fst\n",
      "LOG (VoskAPI:ReadDataFiles():model.cc:317) Loading CARPA model from /home/redalexdad/.cache/vosk/vosk-model-ru-0.42/rescore/G.carpa\n",
      "LOG (VoskAPI:ReadDataFiles():model.cc:323) Loading RNNLM model from /home/redalexdad/.cache/vosk/vosk-model-ru-0.42/rnnlm/final.raw\n"
     ]
    },
    {
     "name": "stdout",
     "output_type": "stream",
     "text": [
      "CPU times: user 20 s, sys: 3.09 s, total: 23.1 s\n",
      "Wall time: 23.6 s\n"
     ]
    }
   ],
   "source": [
    "%%time\n",
    "# Нет метода, который позволяет сохранить модель в локальном месте\n",
    "model = Model(model_name=MODEL_ID, lang=LANG_ID)"
   ]
  },
  {
   "cell_type": "markdown",
   "id": "286895f5-1d7a-4290-8105-927418c7c992",
   "metadata": {},
   "source": [
    "## Функции"
   ]
  },
  {
   "cell_type": "markdown",
   "id": "60339cd3-2753-4035-b73d-181a6735903e",
   "metadata": {},
   "source": [
    "### Предсказание"
   ]
  },
  {
   "cell_type": "code",
   "execution_count": 8,
   "id": "a63732ef-dc9f-4de8-9679-acd862df7995",
   "metadata": {},
   "outputs": [],
   "source": [
    "# Освобождаем памяти\n",
    "torch.cuda.empty_cache()\n",
    "\n",
    "def create_recognizer():\n",
    "    SAMPLE_RATE = 16000\n",
    "    \n",
    "    rec = KaldiRecognizer(model, SAMPLE_RATE)\n",
    "    rec.SetWords(True)\n",
    "    rec.SetPartialWords(True)\n",
    "    \n",
    "    return rec"
   ]
  },
  {
   "cell_type": "code",
   "execution_count": 9,
   "id": "2384d16a-0912-42d8-bacd-d7f7a5d20970",
   "metadata": {},
   "outputs": [],
   "source": [
    "# Освобождаем памяти\n",
    "torch.cuda.empty_cache()\n",
    "\n",
    "def predict_text(batch):\n",
    "    audio_data = batch[\"audio\"]\n",
    "    rec = create_recognizer()\n",
    "\n",
    "    original_text = batch[\"sentence\"]\n",
    "    \n",
    "    # Конвертация mp3 в wav\n",
    "    audio_array = np.array(audio_data['array'], dtype=np.float32)\n",
    "    audio_array = (audio_array * 32767).astype(np.int16)  # приведение к формату int16\n",
    "    audio = AudioSegment(audio_array.tobytes(), frame_rate=audio_data['sampling_rate'], sample_width=2, channels=1)\n",
    "\n",
    "    # Проход по аудиофайлу\n",
    "    if rec.AcceptWaveform(audio.raw_data):\n",
    "        result = rec.Result()\n",
    "        # print(f\"Оригинальный текст: {original_text}\")\n",
    "        # print(f\"Предсказанный текст: {result['text']}\")\n",
    "        # print(\"-\" * 100)\n",
    "    else:\n",
    "        partial_result = rec.PartialResult()\n",
    "        # print(f\"Оригинальный текст: {original_text}\")\n",
    "        # print(f\"Предсказанный текст (частичный): {partial_result}\")\n",
    "        # print(\"-\" * 100)\n",
    "    \n",
    "    # Вывод окончательного результата\n",
    "    final_result = rec.FinalResult()\n",
    "    # Извлекаем текст, если он есть.\n",
    "    if isinstance(final_result, str):\n",
    "        # Если final_result строка, преобразуем ее в словарь\n",
    "        final_result = json.loads(final_result)\n",
    "    predicted_text = final_result.get('text', '')\n",
    "    \n",
    "    print(f\"Оригинальный текст: {original_text}\")\n",
    "    print(f\"Предсказанный текст: {predicted_text}\")\n",
    "    print(\"-\" * 100)\n",
    "    \n",
    "    return {\"predicted_text\": predicted_text}"
   ]
  },
  {
   "cell_type": "markdown",
   "id": "fd5ab5f9-ab7d-476e-8484-87f03d95cd48",
   "metadata": {},
   "source": [
    "### Тест метрики WER, CER, MER, WIL"
   ]
  },
  {
   "cell_type": "code",
   "execution_count": 10,
   "id": "63b1f187-572e-4684-907b-33090b1a6db8",
   "metadata": {},
   "outputs": [],
   "source": [
    "# Функция для вычисления WER, CER, MER, WIL\n",
    "def compute_metrics(original_texts, transcription):\n",
    "    wer_score = wer(original_texts, transcription)\n",
    "    cer_score = cer(original_texts, transcription)\n",
    "    mer_score = mer(original_texts, transcription)\n",
    "    wil_score = wil(original_texts, transcription)\n",
    "    \n",
    "    return wer_score, cer_score, mer_score, wil_score"
   ]
  },
  {
   "cell_type": "markdown",
   "id": "a6d73116-2bd7-461e-9709-ee82e5032a64",
   "metadata": {},
   "source": [
    "## Загрузка датасета `common_voice_11_0`"
   ]
  },
  {
   "cell_type": "code",
   "execution_count": 11,
   "id": "fe875f79-ade7-45fa-b0bc-71a28c43129f",
   "metadata": {},
   "outputs": [
    {
     "name": "stdout",
     "output_type": "stream",
     "text": [
      "CPU times: user 380 ms, sys: 25.5 ms, total: 405 ms\n",
      "Wall time: 20.2 s\n"
     ]
    }
   ],
   "source": [
    "%%time\n",
    "test_dataset_cv_11 = load_dataset(\"mozilla-foundation/common_voice_11_0\", LANG_ID, split=f\"test[:{SAMPLES}]\", trust_remote_code=True)"
   ]
  },
  {
   "cell_type": "code",
   "execution_count": 12,
   "id": "c398204b-8f71-4fa6-9bf5-fc584d6983f7",
   "metadata": {},
   "outputs": [
    {
     "data": {
      "text/plain": [
       "Dataset({\n",
       "    features: ['client_id', 'path', 'audio', 'sentence', 'up_votes', 'down_votes', 'age', 'gender', 'accent', 'locale', 'segment'],\n",
       "    num_rows: 10\n",
       "})"
      ]
     },
     "execution_count": 12,
     "metadata": {},
     "output_type": "execute_result"
    }
   ],
   "source": [
    "test_dataset_cv_11"
   ]
  },
  {
   "cell_type": "code",
   "execution_count": 13,
   "id": "d872bbb5-d9ff-4aa2-88c6-e31cae39bfd2",
   "metadata": {},
   "outputs": [],
   "source": [
    "if test_dataset_cv_11.features['audio'].sampling_rate != 16_000:\n",
    "    test_dataset_cv_11 = test_dataset_cv_11.cast_column(\n",
    "        'audio',\n",
    "        Audio(sampling_rate=16_000)\n",
    "    )"
   ]
  },
  {
   "cell_type": "markdown",
   "id": "66b25d00-99e1-4192-9fea-be1be764096b",
   "metadata": {},
   "source": [
    "### Вывод результатов"
   ]
  },
  {
   "cell_type": "code",
   "execution_count": 14,
   "id": "17dc2da9-e9b4-4332-bec6-8e865bbceb7f",
   "metadata": {},
   "outputs": [
    {
     "name": "stderr",
     "output_type": "stream",
     "text": [
      "Parameter 'function'=<function predict_text at 0x7ffab36189d0> of the transform datasets.arrow_dataset.Dataset._map_single couldn't be hashed properly, a random hash was used instead. Make sure your transforms and parameters are serializable with pickle or dill for the dataset fingerprinting and caching to work. If you reuse this transform, the caching mechanism will consider it to be different from the previous calls and recompute everything. This warning is only showed once. Subsequent hashing failures won't be showed.\n"
     ]
    },
    {
     "data": {
      "application/vnd.jupyter.widget-view+json": {
       "model_id": "3b5e48cea7a14f3ca1c5e0e9037fd502",
       "version_major": 2,
       "version_minor": 0
      },
      "text/plain": [
       "Map:   0%|          | 0/10 [00:00<?, ? examples/s]"
      ]
     },
     "metadata": {},
     "output_type": "display_data"
    },
    {
     "name": "stdout",
     "output_type": "stream",
     "text": [
      "Оригинальный текст: К сожалению, эти предложения не нашли отражения в тексте.\n",
      "Предсказанный текст: к сожалению эти предложения не нашли отражения в тексте\n",
      "----------------------------------------------------------------------------------------------------\n",
      "Оригинальный текст: Если не будет возражений, я буду считать, что Ассамблея согласна с этим предложением.\n",
      "Предсказанный текст: если не будет возражений я буду считать что ассамблея согласна с этим предложением\n",
      "----------------------------------------------------------------------------------------------------\n",
      "Оригинальный текст: Новошахтинск — милый город\n",
      "Предсказанный текст: новошахтинск милый город\n",
      "----------------------------------------------------------------------------------------------------\n",
      "Оригинальный текст: Мы особенно рады отметить, что число скрывающихся от правосудия лиц уменьшилось.\n",
      "Предсказанный текст: все равно надо знать что число строящихся помещений слушаюсь\n",
      "----------------------------------------------------------------------------------------------------\n",
      "Оригинальный текст: Контроллер\n",
      "Предсказанный текст: контролёр\n",
      "----------------------------------------------------------------------------------------------------\n",
      "Оригинальный текст: Создание устойчивых обществ требует от нас готовности на всех уровнях.\n",
      "Предсказанный текст: создание устойчивых общество требует от нас способности на всех уровнях\n",
      "----------------------------------------------------------------------------------------------------\n",
      "Оригинальный текст: Нет, я не вижу, почему это не может быть новая сила, если она....\n",
      "Предсказанный текст: нет я не вижу почему это не может быть новая сила если она\n",
      "----------------------------------------------------------------------------------------------------\n",
      "Оригинальный текст: Палестинцам необходимо сначала установить мир с Израилем, а затем добиваться признания государственности.\n",
      "Предсказанный текст: палестинцам необходимо сначала установить мир физ-ры лиам а затем добиваться признания государственности\n",
      "----------------------------------------------------------------------------------------------------\n",
      "Оригинальный текст: Наталия\n",
      "Предсказанный текст: наталья\n",
      "----------------------------------------------------------------------------------------------------\n",
      "Оригинальный текст: И главное, переговори с ней.\n",
      "Предсказанный текст: и главное переговорить с ним\n",
      "----------------------------------------------------------------------------------------------------\n",
      "CPU times: user 16.5 s, sys: 94.2 ms, total: 16.6 s\n",
      "Wall time: 16.8 s\n"
     ]
    }
   ],
   "source": [
    "%%time\n",
    "# Добавление новой колонки с предсказанными текстами\n",
    "test_dataset_cv_11 = test_dataset_cv_11.map(predict_text)"
   ]
  },
  {
   "cell_type": "code",
   "execution_count": 15,
   "id": "beee0ddb-9f1b-4448-b6ac-5c7ca36dad45",
   "metadata": {},
   "outputs": [
    {
     "data": {
      "text/plain": [
       "Dataset({\n",
       "    features: ['client_id', 'path', 'audio', 'sentence', 'up_votes', 'down_votes', 'age', 'gender', 'accent', 'locale', 'segment', 'predicted_text'],\n",
       "    num_rows: 10\n",
       "})"
      ]
     },
     "execution_count": 15,
     "metadata": {},
     "output_type": "execute_result"
    }
   ],
   "source": [
    "test_dataset_cv_11"
   ]
  },
  {
   "cell_type": "markdown",
   "id": "11ed616a-216f-476d-8080-256429f94943",
   "metadata": {},
   "source": [
    "### Тест WER, CER, MER, WIL"
   ]
  },
  {
   "cell_type": "code",
   "execution_count": 16,
   "id": "464e2f7c-37da-4f05-98fc-b38b09165103",
   "metadata": {},
   "outputs": [],
   "source": [
    "# Приведем все к нижнему регистру\n",
    "original_texts = [ref.lower() for ref in test_dataset_cv_11['sentence']]\n",
    "transcription = [pred.lower() for pred in test_dataset_cv_11['predicted_text']]"
   ]
  },
  {
   "cell_type": "code",
   "execution_count": 17,
   "id": "56f21c30-b48f-47fb-8f54-8b04dcade35c",
   "metadata": {},
   "outputs": [],
   "source": [
    "# Получаем метрику\n",
    "wer_score, cer_score, mer_score, wil_score = compute_metrics(original_texts, transcription)"
   ]
  },
  {
   "cell_type": "code",
   "execution_count": 18,
   "id": "3341eef5-0088-4145-8187-ff34162acc3c",
   "metadata": {},
   "outputs": [
    {
     "name": "stdout",
     "output_type": "stream",
     "text": [
      "Word Error Rate (WER): 37.97%\n",
      "Character Error Rate (CER): 15.76%\n",
      "Match Error Rate (MER): 37.97%\n",
      "Word Information Lost (WIL): 60.01%\n"
     ]
    }
   ],
   "source": [
    "print(f\"Word Error Rate (WER): {wer_score * 100:.2f}%\")\n",
    "print(f\"Character Error Rate (CER): {cer_score * 100:.2f}%\")\n",
    "print(f\"Match Error Rate (MER): {mer_score * 100:.2f}%\")\n",
    "print(f\"Word Information Lost (WIL): {wil_score * 100:.2f}%\")"
   ]
  },
  {
   "cell_type": "code",
   "execution_count": 19,
   "id": "82de810f-9b5f-4236-829a-d60b7ca1adef",
   "metadata": {},
   "outputs": [
    {
     "name": "stderr",
     "output_type": "stream",
     "text": [
      "/tmp/ipykernel_28163/3376670737.py:2: FutureWarning: The frame.append method is deprecated and will be removed from pandas in a future version. Use pandas.concat instead.\n",
      "  info = info.append({\n"
     ]
    },
    {
     "data": {
      "text/html": [
       "<div>\n",
       "<style scoped>\n",
       "    .dataframe tbody tr th:only-of-type {\n",
       "        vertical-align: middle;\n",
       "    }\n",
       "\n",
       "    .dataframe tbody tr th {\n",
       "        vertical-align: top;\n",
       "    }\n",
       "\n",
       "    .dataframe thead th {\n",
       "        text-align: right;\n",
       "    }\n",
       "</style>\n",
       "<table border=\"1\" class=\"dataframe\">\n",
       "  <thead>\n",
       "    <tr style=\"text-align: right;\">\n",
       "      <th></th>\n",
       "      <th>MODEL</th>\n",
       "      <th>DATASET</th>\n",
       "      <th>ORIGINAL TEXT</th>\n",
       "      <th>PREDICTION TEXT</th>\n",
       "      <th>WER</th>\n",
       "      <th>CER</th>\n",
       "      <th>MER</th>\n",
       "      <th>WIL</th>\n",
       "      <th>SAMPLES</th>\n",
       "    </tr>\n",
       "  </thead>\n",
       "  <tbody>\n",
       "    <tr>\n",
       "      <th>0</th>\n",
       "      <td>vosk-model-ru-0.42</td>\n",
       "      <td>common_voice_11_0</td>\n",
       "      <td>[к сожалению, эти предложения не нашли отражен...</td>\n",
       "      <td>[к сожалению эти предложения не нашли отражени...</td>\n",
       "      <td>0.379747</td>\n",
       "      <td>0.157598</td>\n",
       "      <td>0.379747</td>\n",
       "      <td>0.6001</td>\n",
       "      <td>10</td>\n",
       "    </tr>\n",
       "  </tbody>\n",
       "</table>\n",
       "</div>"
      ],
      "text/plain": [
       "                MODEL            DATASET  \\\n",
       "0  vosk-model-ru-0.42  common_voice_11_0   \n",
       "\n",
       "                                       ORIGINAL TEXT  \\\n",
       "0  [к сожалению, эти предложения не нашли отражен...   \n",
       "\n",
       "                                     PREDICTION TEXT       WER       CER  \\\n",
       "0  [к сожалению эти предложения не нашли отражени...  0.379747  0.157598   \n",
       "\n",
       "        MER     WIL  SAMPLES  \n",
       "0  0.379747  0.6001       10  "
      ]
     },
     "metadata": {},
     "output_type": "display_data"
    }
   ],
   "source": [
    "# Создание датафрейма\n",
    "info = info.append({\n",
    "    'MODEL': MODEL_ID,\n",
    "    'DATASET': test_dataset_cv_11.info.dataset_name,\n",
    "    'ORIGINAL TEXT': original_texts,\n",
    "    'PREDICTION TEXT': transcription,\n",
    "    'WER': wer_score,\n",
    "    'CER': cer_score,\n",
    "    'MER': mer_score,\n",
    "    'WIL': wil_score,\n",
    "    'SAMPLES': SAMPLES\n",
    "}, ignore_index=True)\n",
    "display(info)"
   ]
  },
  {
   "cell_type": "markdown",
   "id": "4623b59a-e291-4dc5-9e9f-8dcaca30ea36",
   "metadata": {},
   "source": [
    "## Загрузка датасета `common_voice_12_0`"
   ]
  },
  {
   "cell_type": "code",
   "execution_count": 20,
   "id": "b8f91cad-2cca-4f4d-ad39-bd2bf7c2e245",
   "metadata": {},
   "outputs": [
    {
     "name": "stdout",
     "output_type": "stream",
     "text": [
      "CPU times: user 306 ms, sys: 4.69 ms, total: 311 ms\n",
      "Wall time: 12.2 s\n"
     ]
    }
   ],
   "source": [
    "%%time\n",
    "test_dataset_cv_12 = load_dataset(\"mozilla-foundation/common_voice_12_0\", LANG_ID, split=f\"test[:{SAMPLES}]\", trust_remote_code=True)"
   ]
  },
  {
   "cell_type": "code",
   "execution_count": 21,
   "id": "bbe87430-c4d7-4241-a3ac-79faaf9820e1",
   "metadata": {},
   "outputs": [
    {
     "data": {
      "text/plain": [
       "Dataset({\n",
       "    features: ['client_id', 'path', 'audio', 'sentence', 'up_votes', 'down_votes', 'age', 'gender', 'accent', 'locale', 'segment'],\n",
       "    num_rows: 10\n",
       "})"
      ]
     },
     "execution_count": 21,
     "metadata": {},
     "output_type": "execute_result"
    }
   ],
   "source": [
    "test_dataset_cv_12"
   ]
  },
  {
   "cell_type": "code",
   "execution_count": 22,
   "id": "61a93d64-b8f8-43b0-930f-653e76679045",
   "metadata": {},
   "outputs": [],
   "source": [
    "if test_dataset_cv_12.features['audio'].sampling_rate != 16_000:\n",
    "    test_dataset_cv_12 = test_dataset_cv_12.cast_column(\n",
    "        'audio',\n",
    "        Audio(sampling_rate=16_000)\n",
    "    )"
   ]
  },
  {
   "cell_type": "markdown",
   "id": "9743ccaf-7d44-4469-872b-5d15d7d31c86",
   "metadata": {},
   "source": [
    "### Вывод результатов"
   ]
  },
  {
   "cell_type": "code",
   "execution_count": 23,
   "id": "f788e39e-581a-4b87-8164-63cc5b7921ae",
   "metadata": {},
   "outputs": [
    {
     "data": {
      "application/vnd.jupyter.widget-view+json": {
       "model_id": "845d987cb6b647b2a186ab00b9228959",
       "version_major": 2,
       "version_minor": 0
      },
      "text/plain": [
       "Map:   0%|          | 0/10 [00:00<?, ? examples/s]"
      ]
     },
     "metadata": {},
     "output_type": "display_data"
    },
    {
     "name": "stdout",
     "output_type": "stream",
     "text": [
      "Оригинальный текст: К сожалению, эти предложения не нашли отражения в тексте.\n",
      "Предсказанный текст: к сожалению эти предложения не нашли отражения в тексте\n",
      "----------------------------------------------------------------------------------------------------\n",
      "Оригинальный текст: Толпа озвереет, будет тереться, ощетинит ножки стоглавая вошь.\n",
      "Предсказанный текст: толпа озвереет будет тереться ощетинит ножки стоглавая вошь\n",
      "----------------------------------------------------------------------------------------------------\n",
      "Оригинальный текст: А жизнь ее была не весела.\n",
      "Предсказанный текст: а жизнь её была невесела\n",
      "----------------------------------------------------------------------------------------------------\n",
      "Оригинальный текст: Если не будет возражений, я буду считать, что Ассамблея согласна с этим предложением.\n",
      "Предсказанный текст: если не будет возражений я буду считать что ассамблея согласна с этим предложением\n",
      "----------------------------------------------------------------------------------------------------\n",
      "Оригинальный текст: Да ты зачем собственно приехал?\n",
      "Предсказанный текст: да ты зачем собственно приехал\n",
      "----------------------------------------------------------------------------------------------------\n",
      "Оригинальный текст: Мы особенно рады отметить, что число скрывающихся от правосудия лиц уменьшилось.\n",
      "Предсказанный текст: все равно надо знать что число строящихся помещений слушаюсь\n",
      "----------------------------------------------------------------------------------------------------\n",
      "Оригинальный текст: Контроллер\n",
      "Предсказанный текст: контролёр\n",
      "----------------------------------------------------------------------------------------------------\n",
      "Оригинальный текст: Пугачев весело со мною поздоровался и велел мне садиться с ним в кибитку.\n",
      "Предсказанный текст: и пугачёв весело со мной поздоровался и велел мне садиться с ним в кибитку\n",
      "----------------------------------------------------------------------------------------------------\n",
      "Оригинальный текст: Неожиданно катастрофа приобрела глобальные масштабы.\n",
      "Предсказанный текст: неожиданно катастрофа приобрела глобальные масштабы\n",
      "----------------------------------------------------------------------------------------------------\n",
      "Оригинальный текст: Нет, я не вижу, почему это не может быть новая сила, если она....\n",
      "Предсказанный текст: нет я не вижу почему это не может быть новая сила если она\n",
      "----------------------------------------------------------------------------------------------------\n",
      "CPU times: user 14.3 s, sys: 18.3 ms, total: 14.3 s\n",
      "Wall time: 14.3 s\n"
     ]
    }
   ],
   "source": [
    "%%time\n",
    "# Добавление новой колонки с предсказанными текстами\n",
    "test_dataset_cv_12 = test_dataset_cv_12.map(predict_text)"
   ]
  },
  {
   "cell_type": "code",
   "execution_count": 24,
   "id": "a0b243c3-188d-4ef0-b793-0e4924602ebd",
   "metadata": {},
   "outputs": [
    {
     "data": {
      "text/plain": [
       "Dataset({\n",
       "    features: ['client_id', 'path', 'audio', 'sentence', 'up_votes', 'down_votes', 'age', 'gender', 'accent', 'locale', 'segment', 'predicted_text'],\n",
       "    num_rows: 10\n",
       "})"
      ]
     },
     "execution_count": 24,
     "metadata": {},
     "output_type": "execute_result"
    }
   ],
   "source": [
    "test_dataset_cv_12"
   ]
  },
  {
   "cell_type": "markdown",
   "id": "eb19783e-4960-4282-b347-78e7d317b863",
   "metadata": {},
   "source": [
    "### Тест WER, CER, MER, WIL"
   ]
  },
  {
   "cell_type": "code",
   "execution_count": 25,
   "id": "5572938f-5df6-469b-83b1-b3cbbfd8f1b9",
   "metadata": {},
   "outputs": [],
   "source": [
    "# Приведем все к нижнему регистру\n",
    "original_texts = [ref.lower() for ref in test_dataset_cv_12['sentence']]\n",
    "transcription = [pred.lower() for pred in test_dataset_cv_12['predicted_text']]"
   ]
  },
  {
   "cell_type": "code",
   "execution_count": 26,
   "id": "079da87a-5b87-4af4-b2b1-a05bc8cd76a5",
   "metadata": {},
   "outputs": [],
   "source": [
    "# Получаем метрику\n",
    "wer_score, cer_score, mer_score, wil_score = compute_metrics(original_texts, transcription)"
   ]
  },
  {
   "cell_type": "code",
   "execution_count": 27,
   "id": "8cfb3554-b3e4-4849-8880-f8cdc3840d29",
   "metadata": {},
   "outputs": [
    {
     "name": "stdout",
     "output_type": "stream",
     "text": [
      "Word Error Rate (WER): 36.90%\n",
      "Character Error Rate (CER): 13.49%\n",
      "Match Error Rate (MER): 36.47%\n",
      "Word Information Lost (WIL): 57.67%\n"
     ]
    }
   ],
   "source": [
    "print(f\"Word Error Rate (WER): {wer_score * 100:.2f}%\")\n",
    "print(f\"Character Error Rate (CER): {cer_score * 100:.2f}%\")\n",
    "print(f\"Match Error Rate (MER): {mer_score * 100:.2f}%\")\n",
    "print(f\"Word Information Lost (WIL): {wil_score * 100:.2f}%\")"
   ]
  },
  {
   "cell_type": "code",
   "execution_count": 28,
   "id": "bdf2b9d0-884f-47a7-8028-2226254c6530",
   "metadata": {},
   "outputs": [
    {
     "name": "stderr",
     "output_type": "stream",
     "text": [
      "/tmp/ipykernel_28163/569941310.py:2: FutureWarning: The frame.append method is deprecated and will be removed from pandas in a future version. Use pandas.concat instead.\n",
      "  info = info.append({\n"
     ]
    },
    {
     "data": {
      "text/html": [
       "<div>\n",
       "<style scoped>\n",
       "    .dataframe tbody tr th:only-of-type {\n",
       "        vertical-align: middle;\n",
       "    }\n",
       "\n",
       "    .dataframe tbody tr th {\n",
       "        vertical-align: top;\n",
       "    }\n",
       "\n",
       "    .dataframe thead th {\n",
       "        text-align: right;\n",
       "    }\n",
       "</style>\n",
       "<table border=\"1\" class=\"dataframe\">\n",
       "  <thead>\n",
       "    <tr style=\"text-align: right;\">\n",
       "      <th></th>\n",
       "      <th>MODEL</th>\n",
       "      <th>DATASET</th>\n",
       "      <th>ORIGINAL TEXT</th>\n",
       "      <th>PREDICTION TEXT</th>\n",
       "      <th>WER</th>\n",
       "      <th>CER</th>\n",
       "      <th>MER</th>\n",
       "      <th>WIL</th>\n",
       "      <th>SAMPLES</th>\n",
       "    </tr>\n",
       "  </thead>\n",
       "  <tbody>\n",
       "    <tr>\n",
       "      <th>0</th>\n",
       "      <td>vosk-model-ru-0.42</td>\n",
       "      <td>common_voice_11_0</td>\n",
       "      <td>[к сожалению, эти предложения не нашли отражен...</td>\n",
       "      <td>[к сожалению эти предложения не нашли отражени...</td>\n",
       "      <td>0.379747</td>\n",
       "      <td>0.157598</td>\n",
       "      <td>0.379747</td>\n",
       "      <td>0.600100</td>\n",
       "      <td>10</td>\n",
       "    </tr>\n",
       "    <tr>\n",
       "      <th>1</th>\n",
       "      <td>vosk-model-ru-0.42</td>\n",
       "      <td>common_voice_12_0</td>\n",
       "      <td>[к сожалению, эти предложения не нашли отражен...</td>\n",
       "      <td>[к сожалению эти предложения не нашли отражени...</td>\n",
       "      <td>0.369048</td>\n",
       "      <td>0.134935</td>\n",
       "      <td>0.364706</td>\n",
       "      <td>0.576655</td>\n",
       "      <td>10</td>\n",
       "    </tr>\n",
       "  </tbody>\n",
       "</table>\n",
       "</div>"
      ],
      "text/plain": [
       "                MODEL            DATASET  \\\n",
       "0  vosk-model-ru-0.42  common_voice_11_0   \n",
       "1  vosk-model-ru-0.42  common_voice_12_0   \n",
       "\n",
       "                                       ORIGINAL TEXT  \\\n",
       "0  [к сожалению, эти предложения не нашли отражен...   \n",
       "1  [к сожалению, эти предложения не нашли отражен...   \n",
       "\n",
       "                                     PREDICTION TEXT       WER       CER  \\\n",
       "0  [к сожалению эти предложения не нашли отражени...  0.379747  0.157598   \n",
       "1  [к сожалению эти предложения не нашли отражени...  0.369048  0.134935   \n",
       "\n",
       "        MER       WIL  SAMPLES  \n",
       "0  0.379747  0.600100       10  \n",
       "1  0.364706  0.576655       10  "
      ]
     },
     "metadata": {},
     "output_type": "display_data"
    }
   ],
   "source": [
    "# Создание датафрейма\n",
    "info = info.append({\n",
    "    'MODEL': MODEL_ID,\n",
    "    'DATASET': test_dataset_cv_12.info.dataset_name,\n",
    "    'ORIGINAL TEXT': original_texts,\n",
    "    'PREDICTION TEXT': transcription,\n",
    "    'WER': wer_score,\n",
    "    'CER': cer_score,\n",
    "    'MER': mer_score,\n",
    "    'WIL': wil_score,\n",
    "    'SAMPLES': SAMPLES\n",
    "}, ignore_index=True)\n",
    "display(info)"
   ]
  },
  {
   "cell_type": "markdown",
   "id": "3fad51a2-6b43-48b7-a486-5a90b73dd382",
   "metadata": {},
   "source": [
    "## Загрузка датасета `common_voice_14_0`"
   ]
  },
  {
   "cell_type": "code",
   "execution_count": 29,
   "id": "512f9011-9d16-47eb-9861-b732e60bbce8",
   "metadata": {},
   "outputs": [
    {
     "name": "stdout",
     "output_type": "stream",
     "text": [
      "CPU times: user 325 ms, sys: 8.73 ms, total: 333 ms\n",
      "Wall time: 13.2 s\n"
     ]
    }
   ],
   "source": [
    "%%time\n",
    "test_dataset_cv_14 = load_dataset(\"mozilla-foundation/common_voice_14_0\", LANG_ID, split=f\"test[:{SAMPLES}]\", trust_remote_code=True)"
   ]
  },
  {
   "cell_type": "code",
   "execution_count": 30,
   "id": "d841a5f0-2c7b-4ada-afcb-b0d3836be4de",
   "metadata": {},
   "outputs": [
    {
     "data": {
      "text/plain": [
       "Dataset({\n",
       "    features: ['client_id', 'path', 'audio', 'sentence', 'up_votes', 'down_votes', 'age', 'gender', 'accent', 'locale', 'segment', 'variant'],\n",
       "    num_rows: 10\n",
       "})"
      ]
     },
     "execution_count": 30,
     "metadata": {},
     "output_type": "execute_result"
    }
   ],
   "source": [
    "test_dataset_cv_14"
   ]
  },
  {
   "cell_type": "code",
   "execution_count": 31,
   "id": "187b61e0-f769-4305-abcf-6a4c76030784",
   "metadata": {},
   "outputs": [],
   "source": [
    "if test_dataset_cv_14.features['audio'].sampling_rate != 16_000:\n",
    "    test_dataset_cv_14 = test_dataset_cv_14.cast_column(\n",
    "        'audio',\n",
    "        Audio(sampling_rate=16_000)\n",
    "    )"
   ]
  },
  {
   "cell_type": "markdown",
   "id": "552c75a5-1d00-40ab-a98a-45b4d2fbd97e",
   "metadata": {},
   "source": [
    "### Вывод результатов"
   ]
  },
  {
   "cell_type": "code",
   "execution_count": 32,
   "id": "67b26727-d796-4661-97bf-c92b9bd96423",
   "metadata": {},
   "outputs": [
    {
     "data": {
      "application/vnd.jupyter.widget-view+json": {
       "model_id": "36f1d8d5b36d48c089608b03405567b0",
       "version_major": 2,
       "version_minor": 0
      },
      "text/plain": [
       "Map:   0%|          | 0/10 [00:00<?, ? examples/s]"
      ]
     },
     "metadata": {},
     "output_type": "display_data"
    },
    {
     "name": "stdout",
     "output_type": "stream",
     "text": [
      "Оригинальный текст: К сожалению, эти предложения не нашли отражения в тексте.\n",
      "Предсказанный текст: к сожалению эти предложения не нашли отражения в тексте\n",
      "----------------------------------------------------------------------------------------------------\n",
      "Оригинальный текст: Толпа озвереет, будет тереться, ощетинит ножки стоглавая вошь.\n",
      "Предсказанный текст: толпа озвереет будет тереться ощетинит ножки стоглавая вошь\n",
      "----------------------------------------------------------------------------------------------------\n",
      "Оригинальный текст: Если не будет возражений, я буду считать, что Ассамблея согласна с этим предложением.\n",
      "Предсказанный текст: если не будет возражений я буду считать что ассамблея согласна с этим предложением\n",
      "----------------------------------------------------------------------------------------------------\n",
      "Оригинальный текст: Да ты зачем собственно приехал?\n",
      "Предсказанный текст: да ты зачем собственно приехал\n",
      "----------------------------------------------------------------------------------------------------\n",
      "Оригинальный текст: Мы особенно рады отметить, что число скрывающихся от правосудия лиц уменьшилось.\n",
      "Предсказанный текст: все равно надо знать что число строящихся помещений слушаюсь\n",
      "----------------------------------------------------------------------------------------------------\n",
      "Оригинальный текст: Контроллер\n",
      "Предсказанный текст: контролёр\n",
      "----------------------------------------------------------------------------------------------------\n",
      "Оригинальный текст: Неожиданно катастрофа приобрела глобальные масштабы.\n",
      "Предсказанный текст: неожиданно катастрофа приобрела глобальные масштабы\n",
      "----------------------------------------------------------------------------------------------------\n",
      "Оригинальный текст: Нет, я не вижу, почему это не может быть новая сила, если она....\n",
      "Предсказанный текст: нет я не вижу почему это не может быть новая сила если она\n",
      "----------------------------------------------------------------------------------------------------\n",
      "Оригинальный текст: Палестинцам необходимо сначала установить мир с Израилем, а затем добиваться признания государственности.\n",
      "Предсказанный текст: палестинцам необходимо сначала установить мир физ-ры лиам а затем добиваться признания государственности\n",
      "----------------------------------------------------------------------------------------------------\n",
      "Оригинальный текст: Тысячи людей пропали без вести.\n",
      "Предсказанный текст: тысячи людей пропали без вести\n",
      "----------------------------------------------------------------------------------------------------\n",
      "CPU times: user 15.8 s, sys: 40.7 ms, total: 15.9 s\n",
      "Wall time: 15.9 s\n"
     ]
    }
   ],
   "source": [
    "%%time\n",
    "# Добавление новой колонки с предсказанными текстами\n",
    "test_dataset_cv_14 = test_dataset_cv_14.map(predict_text)"
   ]
  },
  {
   "cell_type": "code",
   "execution_count": 33,
   "id": "77d5424c-2141-489d-b9d3-31ad7a6ff37a",
   "metadata": {},
   "outputs": [
    {
     "data": {
      "text/plain": [
       "Dataset({\n",
       "    features: ['client_id', 'path', 'audio', 'sentence', 'up_votes', 'down_votes', 'age', 'gender', 'accent', 'locale', 'segment', 'variant', 'predicted_text'],\n",
       "    num_rows: 10\n",
       "})"
      ]
     },
     "execution_count": 33,
     "metadata": {},
     "output_type": "execute_result"
    }
   ],
   "source": [
    "test_dataset_cv_14"
   ]
  },
  {
   "cell_type": "markdown",
   "id": "b6bebd08-2c47-440b-a173-9fb416324153",
   "metadata": {},
   "source": [
    "### Тест WER, CER, MER, WIL"
   ]
  },
  {
   "cell_type": "code",
   "execution_count": 34,
   "id": "a212f515-c8ed-4385-a48a-1f01899763db",
   "metadata": {},
   "outputs": [],
   "source": [
    "# Приведем все к нижнему регистру\n",
    "original_texts = [ref.lower() for ref in test_dataset_cv_14['sentence']]\n",
    "transcription = [pred.lower() for pred in test_dataset_cv_14['predicted_text']]"
   ]
  },
  {
   "cell_type": "code",
   "execution_count": 35,
   "id": "3104e101-817e-4798-91bc-b76ed40015d8",
   "metadata": {},
   "outputs": [],
   "source": [
    "# Получаем метрику\n",
    "wer_score, cer_score, mer_score, wil_score = compute_metrics(original_texts, transcription)"
   ]
  },
  {
   "cell_type": "code",
   "execution_count": 36,
   "id": "0e532b9c-8143-4ec4-ab16-47a94ee492a4",
   "metadata": {},
   "outputs": [
    {
     "name": "stdout",
     "output_type": "stream",
     "text": [
      "Word Error Rate (WER): 34.15%\n",
      "Character Error Rate (CER): 12.98%\n",
      "Match Error Rate (MER): 34.15%\n",
      "Word Information Lost (WIL): 55.55%\n"
     ]
    }
   ],
   "source": [
    "print(f\"Word Error Rate (WER): {wer_score * 100:.2f}%\")\n",
    "print(f\"Character Error Rate (CER): {cer_score * 100:.2f}%\")\n",
    "print(f\"Match Error Rate (MER): {mer_score * 100:.2f}%\")\n",
    "print(f\"Word Information Lost (WIL): {wil_score * 100:.2f}%\")"
   ]
  },
  {
   "cell_type": "code",
   "execution_count": 37,
   "id": "be86d98b-130c-4d7b-b099-cae1fdab3c53",
   "metadata": {},
   "outputs": [
    {
     "name": "stderr",
     "output_type": "stream",
     "text": [
      "/tmp/ipykernel_28163/3254145418.py:2: FutureWarning: The frame.append method is deprecated and will be removed from pandas in a future version. Use pandas.concat instead.\n",
      "  info = info.append({\n"
     ]
    },
    {
     "data": {
      "text/html": [
       "<div>\n",
       "<style scoped>\n",
       "    .dataframe tbody tr th:only-of-type {\n",
       "        vertical-align: middle;\n",
       "    }\n",
       "\n",
       "    .dataframe tbody tr th {\n",
       "        vertical-align: top;\n",
       "    }\n",
       "\n",
       "    .dataframe thead th {\n",
       "        text-align: right;\n",
       "    }\n",
       "</style>\n",
       "<table border=\"1\" class=\"dataframe\">\n",
       "  <thead>\n",
       "    <tr style=\"text-align: right;\">\n",
       "      <th></th>\n",
       "      <th>MODEL</th>\n",
       "      <th>DATASET</th>\n",
       "      <th>ORIGINAL TEXT</th>\n",
       "      <th>PREDICTION TEXT</th>\n",
       "      <th>WER</th>\n",
       "      <th>CER</th>\n",
       "      <th>MER</th>\n",
       "      <th>WIL</th>\n",
       "      <th>SAMPLES</th>\n",
       "    </tr>\n",
       "  </thead>\n",
       "  <tbody>\n",
       "    <tr>\n",
       "      <th>0</th>\n",
       "      <td>vosk-model-ru-0.42</td>\n",
       "      <td>common_voice_11_0</td>\n",
       "      <td>[к сожалению, эти предложения не нашли отражен...</td>\n",
       "      <td>[к сожалению эти предложения не нашли отражени...</td>\n",
       "      <td>0.379747</td>\n",
       "      <td>0.157598</td>\n",
       "      <td>0.379747</td>\n",
       "      <td>0.600100</td>\n",
       "      <td>10</td>\n",
       "    </tr>\n",
       "    <tr>\n",
       "      <th>1</th>\n",
       "      <td>vosk-model-ru-0.42</td>\n",
       "      <td>common_voice_12_0</td>\n",
       "      <td>[к сожалению, эти предложения не нашли отражен...</td>\n",
       "      <td>[к сожалению эти предложения не нашли отражени...</td>\n",
       "      <td>0.369048</td>\n",
       "      <td>0.134935</td>\n",
       "      <td>0.364706</td>\n",
       "      <td>0.576655</td>\n",
       "      <td>10</td>\n",
       "    </tr>\n",
       "    <tr>\n",
       "      <th>2</th>\n",
       "      <td>vosk-model-ru-0.42</td>\n",
       "      <td>common_voice_14_0</td>\n",
       "      <td>[к сожалению, эти предложения не нашли отражен...</td>\n",
       "      <td>[к сожалению эти предложения не нашли отражени...</td>\n",
       "      <td>0.341463</td>\n",
       "      <td>0.129758</td>\n",
       "      <td>0.341463</td>\n",
       "      <td>0.555488</td>\n",
       "      <td>10</td>\n",
       "    </tr>\n",
       "  </tbody>\n",
       "</table>\n",
       "</div>"
      ],
      "text/plain": [
       "                MODEL            DATASET  \\\n",
       "0  vosk-model-ru-0.42  common_voice_11_0   \n",
       "1  vosk-model-ru-0.42  common_voice_12_0   \n",
       "2  vosk-model-ru-0.42  common_voice_14_0   \n",
       "\n",
       "                                       ORIGINAL TEXT  \\\n",
       "0  [к сожалению, эти предложения не нашли отражен...   \n",
       "1  [к сожалению, эти предложения не нашли отражен...   \n",
       "2  [к сожалению, эти предложения не нашли отражен...   \n",
       "\n",
       "                                     PREDICTION TEXT       WER       CER  \\\n",
       "0  [к сожалению эти предложения не нашли отражени...  0.379747  0.157598   \n",
       "1  [к сожалению эти предложения не нашли отражени...  0.369048  0.134935   \n",
       "2  [к сожалению эти предложения не нашли отражени...  0.341463  0.129758   \n",
       "\n",
       "        MER       WIL  SAMPLES  \n",
       "0  0.379747  0.600100       10  \n",
       "1  0.364706  0.576655       10  \n",
       "2  0.341463  0.555488       10  "
      ]
     },
     "metadata": {},
     "output_type": "display_data"
    }
   ],
   "source": [
    "# Создание датафрейма\n",
    "info = info.append({\n",
    "    'MODEL': MODEL_ID,\n",
    "    'DATASET': test_dataset_cv_14.info.dataset_name,\n",
    "    'ORIGINAL TEXT': original_texts,\n",
    "    'PREDICTION TEXT': transcription,\n",
    "    'WER': wer_score,\n",
    "    'CER': cer_score,\n",
    "    'MER': mer_score,\n",
    "    'WIL': wil_score,\n",
    "    'SAMPLES': SAMPLES\n",
    "}, ignore_index=True)\n",
    "display(info)"
   ]
  },
  {
   "cell_type": "code",
   "execution_count": 38,
   "id": "781e0e1c-b005-4ad5-a39f-92147dc40ee0",
   "metadata": {},
   "outputs": [],
   "source": [
    "info.to_csv('vosk-model-ru-0.42.csv', index=False)"
   ]
  }
 ],
 "metadata": {
  "kernelspec": {
   "display_name": "Python 3 (ipykernel)",
   "language": "python",
   "name": "python3"
  },
  "language_info": {
   "codemirror_mode": {
    "name": "ipython",
    "version": 3
   },
   "file_extension": ".py",
   "mimetype": "text/x-python",
   "name": "python",
   "nbconvert_exporter": "python",
   "pygments_lexer": "ipython3",
   "version": "3.9.18"
  }
 },
 "nbformat": 4,
 "nbformat_minor": 5
}
