{
 "cells": [
  {
   "cell_type": "markdown",
   "id": "f0b6f98d-2f2a-44a1-9ec2-8d54a18ec872",
   "metadata": {},
   "source": [
    "# wav2vec2-xls-r-1b-russian"
   ]
  },
  {
   "cell_type": "markdown",
   "id": "83b50d43-1134-453f-b2a4-8e924942f9f8",
   "metadata": {},
   "source": [
    "##### https://huggingface.co/jonatasgrosman/wav2vec2-xls-r-1b-russian"
   ]
  },
  {
   "cell_type": "markdown",
   "id": "58b311b0-5873-477d-ad79-31496e88877a",
   "metadata": {},
   "source": [
    "Точно настроил `facebook/wav2vec2-xls-r1b` на русском языке, используя разделители `train` и `validation` в `Common Voice 8.0`, `Golos` и многоязычном `TEDx`. \n",
    "\n",
    "**При использовании этой модели убедитесь, что при вводе речи используется частота дискретизации 16 кГц.**\n",
    "\n",
    "Эта модель была точно настроена с помощью инструмента `HuggingSound` и благодаря графическому процессору, щедро предоставленному `OVHcloud` :)"
   ]
  },
  {
   "cell_type": "markdown",
   "id": "d51b06db-c197-468f-a294-25fcaf98d5d2",
   "metadata": {},
   "source": [
    "## Подключение библиотеки"
   ]
  },
  {
   "cell_type": "code",
   "execution_count": 3,
   "id": "a362a047-dcbc-408b-86a0-8d028c788143",
   "metadata": {},
   "source": [
    "import os\n",
    "import warnings\n",
    "\n",
    "import torch\n",
    "import torchaudio\n",
    "from datasets import load_dataset, load_from_disk\n",
    "from datasets.features import Audio\n",
    "from transformers import Wav2Vec2ForCTC, Wav2Vec2Processor\n",
    "import pandas as pd\n",
    "from huggingsound import SpeechRecognitionModel\n",
    "\n",
    "# Для теста WER - Word Error Rate\n",
    "# CER - Character Error Rate\n",
    "# MER - Match Error Rate\n",
    "# WIL - Word Information Lost\n",
    "from jiwer import wer, cer, mer, wil"
   ],
   "outputs": []
  },
  {
   "cell_type": "markdown",
   "id": "e5cc9b22-4d89-4ccc-8454-1cfd8def7827",
   "metadata": {},
   "source": [
    "## Использование CUDA"
   ]
  },
  {
   "cell_type": "code",
   "execution_count": 4,
   "id": "68952fa1-6e44-45aa-b196-0ecb138dfe99",
   "metadata": {},
   "source": [
    "# Check if CUDA is available\n",
    "if torch.cuda.is_available():\n",
    "    # Get the device name\n",
    "    device = torch.cuda.current_device()\n",
    "    print(f\"Code is connected to CUDA. Using GPU: {torch.cuda.get_device_name(device)}\")\n",
    "else:\n",
    "    print(\"CUDA is not available. Running on CPU.\")"
   ],
   "outputs": []
  },
  {
   "cell_type": "code",
   "execution_count": 5,
   "id": "1ed88297-ef56-45cd-8523-30b09bb91709",
   "metadata": {},
   "source": [
    "# Все равно у меня не хватит памяти для выполнения(\n",
    "device = 'cpu'"
   ],
   "outputs": []
  },
  {
   "cell_type": "markdown",
   "id": "68181071-8e84-45d8-979c-405b070b29d2",
   "metadata": {},
   "source": [
    "Не загружаем модель через CUDA, памяти не хватило\n",
    "\n",
    "`RuntimeError: CUDA out of memory. Tried to allocate 16.00 MiB (GPU 0; 3.63 GiB total capacity; 2.56 GiB already allocated; 7.12 MiB free; 2.58 GiB reserved in total by PyTorch) If reserved memory is >> allocated memory try setting max_split_size_mb to avoid fragmentation.  See documentation for Memory Management and PYTORCH_CUDA_ALLOC_CONF`"
   ]
  },
  {
   "cell_type": "code",
   "execution_count": 6,
   "id": "59a81af0-97c3-47f5-a680-28ec7ca0ea03",
   "metadata": {},
   "source": [
    "# Создадим датафрейм, который будет собирать данные и сохранять\n",
    "info = pd.DataFrame()"
   ],
   "outputs": []
  },
  {
   "cell_type": "markdown",
   "id": "bad22c80-b790-4c5a-8739-c8a9fd54da31",
   "metadata": {},
   "source": [
    "## Загрузка модели"
   ]
  },
  {
   "cell_type": "code",
   "execution_count": null,
   "id": "ca96b19a-110d-40e2-9539-8d9646863889",
   "metadata": {},
   "source": [
    "# Не загружаем, ядро зависает\n",
    "# model = SpeechRecognitionModel(\"jonatasgrosman/wav2vec2-xls-r-1b-russian\")"
   ],
   "outputs": []
  },
  {
   "cell_type": "markdown",
   "id": "ed12a390-2c1a-4324-a46e-ad4d1c1d04e6",
   "metadata": {},
   "source": [
    "## Небольшая проверка"
   ]
  },
  {
   "cell_type": "code",
   "execution_count": 9,
   "id": "446b12bb-b744-4f7a-a8e1-4936bc3a510f",
   "metadata": {},
   "source": [
    "audio_paths = '/home/redalexdad/Документы/GitHub/SpeechTraining/test/voice/'\n",
    "\n",
    "audio_data = [audio_paths+\"000000_RUSLAN.wav\", audio_paths+\"000001_RUSLAN.wav\"]"
   ],
   "outputs": []
  },
  {
   "cell_type": "code",
   "execution_count": 10,
   "id": "21acfea5-6974-4afd-bdb4-4fafd28eae5a",
   "metadata": {},
   "source": [
    "transcriptions = model.transcribe(audio_paths)"
   ],
   "outputs": []
  },
  {
   "cell_type": "code",
   "execution_count": null,
   "id": "bb31864b-a9e5-4071-95bd-14b340b8a31e",
   "metadata": {},
   "source": [],
   "outputs": []
  },
  {
   "cell_type": "code",
   "execution_count": null,
   "id": "a6c0b08c-ba49-44f9-a76b-54e8822afb32",
   "metadata": {},
   "source": [],
   "outputs": []
  },
  {
   "cell_type": "code",
   "execution_count": null,
   "id": "43898e18-8632-4743-aefa-cecf1fab81d5",
   "metadata": {},
   "source": [],
   "outputs": []
  },
  {
   "cell_type": "code",
   "execution_count": null,
   "id": "9756a0f6-a601-4a7f-bd7f-ee21b771105a",
   "metadata": {},
   "source": [],
   "outputs": []
  },
  {
   "cell_type": "code",
   "execution_count": null,
   "id": "8ddea120-9927-47ea-9704-fe45beaeafd5",
   "metadata": {},
   "source": [],
   "outputs": []
  }
 ],
 "metadata": {
  "kernelspec": {
   "display_name": "Python 3 (ipykernel)",
   "language": "python",
   "name": "python3"
  },
  "language_info": {
   "codemirror_mode": {
    "name": "ipython",
    "version": 3
   },
   "file_extension": ".py",
   "mimetype": "text/x-python",
   "name": "python",
   "nbconvert_exporter": "python",
   "pygments_lexer": "ipython3",
   "version": "3.9.18"
  }
 },
 "nbformat": 4,
 "nbformat_minor": 5
}
