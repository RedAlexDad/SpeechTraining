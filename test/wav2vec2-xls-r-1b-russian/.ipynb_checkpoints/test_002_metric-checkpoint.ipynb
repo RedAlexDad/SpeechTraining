{
 "cells": [
  {
   "cell_type": "markdown",
   "id": "f0b6f98d-2f2a-44a1-9ec2-8d54a18ec872",
   "metadata": {},
   "source": [
    "# wav2vec2-xls-r-1b-russian"
   ]
  },
  {
   "cell_type": "markdown",
   "id": "83b50d43-1134-453f-b2a4-8e924942f9f8",
   "metadata": {},
   "source": [
    "##### https://huggingface.co/jonatasgrosman/wav2vec2-xls-r-1b-russian"
   ]
  },
  {
   "cell_type": "markdown",
   "id": "58b311b0-5873-477d-ad79-31496e88877a",
   "metadata": {},
   "source": [
    "Точно настроил `facebook/wav2vec2-xls-r1b` на русском языке, используя разделители `train` и `validation` в `Common Voice 8.0`, `Golos` и многоязычном `TEDx`. \n",
    "\n",
    "**При использовании этой модели убедитесь, что при вводе речи используется частота дискретизации 16 кГц.**\n",
    "\n",
    "Эта модель была точно настроена с помощью инструмента `HuggingSound` и благодаря графическому процессору, щедро предоставленному `OVHcloud` :)"
   ]
  },
  {
   "cell_type": "markdown",
   "id": "d51b06db-c197-468f-a294-25fcaf98d5d2",
   "metadata": {},
   "source": [
    "## Подключение библиотеки"
   ]
  },
  {
   "cell_type": "code",
   "execution_count": 1,
   "id": "a362a047-dcbc-408b-86a0-8d028c788143",
   "metadata": {},
   "outputs": [
    {
     "name": "stderr",
     "output_type": "stream",
     "text": [
      "2024-03-11 12:26:41.683289: E external/local_xla/xla/stream_executor/cuda/cuda_dnn.cc:9261] Unable to register cuDNN factory: Attempting to register factory for plugin cuDNN when one has already been registered\n",
      "2024-03-11 12:26:41.683322: E external/local_xla/xla/stream_executor/cuda/cuda_fft.cc:607] Unable to register cuFFT factory: Attempting to register factory for plugin cuFFT when one has already been registered\n",
      "2024-03-11 12:26:41.686894: E external/local_xla/xla/stream_executor/cuda/cuda_blas.cc:1515] Unable to register cuBLAS factory: Attempting to register factory for plugin cuBLAS when one has already been registered\n",
      "2024-03-11 12:26:41.704283: I tensorflow/core/platform/cpu_feature_guard.cc:182] This TensorFlow binary is optimized to use available CPU instructions in performance-critical operations.\n",
      "To enable the following instructions: AVX2 FMA, in other operations, rebuild TensorFlow with the appropriate compiler flags.\n",
      "2024-03-11 12:26:42.689581: W tensorflow/compiler/tf2tensorrt/utils/py_utils.cc:38] TF-TRT Warning: Could not find TensorRT\n"
     ]
    }
   ],
   "source": [
    "import os\n",
    "import warnings\n",
    "import pandas as pd\n",
    "import librosa\n",
    "\n",
    "import torch\n",
    "import torchaudio\n",
    "\n",
    "from datasets import load_dataset, load_from_disk\n",
    "from datasets.features import Audio\n",
    "\n",
    "from transformers import Wav2Vec2ForCTC, Wav2Vec2Processor\n",
    "\n",
    "from huggingsound import SpeechRecognitionModel\n",
    "\n",
    "# Для теста WER - Word Error Rate\n",
    "# CER - Character Error Rate\n",
    "# MER - Match Error Rate\n",
    "# WIL - Word Information Lost\n",
    "from jiwer import wer, cer, mer, wil"
   ]
  },
  {
   "cell_type": "markdown",
   "id": "e5cc9b22-4d89-4ccc-8454-1cfd8def7827",
   "metadata": {},
   "source": [
    "## Использование CUDA"
   ]
  },
  {
   "cell_type": "code",
   "execution_count": 2,
   "id": "68952fa1-6e44-45aa-b196-0ecb138dfe99",
   "metadata": {},
   "outputs": [
    {
     "name": "stdout",
     "output_type": "stream",
     "text": [
      "CUDA is not available. Running on CPU.\n"
     ]
    },
    {
     "name": "stderr",
     "output_type": "stream",
     "text": [
      "/home/redalexdad/anaconda3/envs/dl_science/lib/python3.9/site-packages/torch/cuda/__init__.py:80: UserWarning: CUDA initialization: CUDA unknown error - this may be due to an incorrectly set up environment, e.g. changing env variable CUDA_VISIBLE_DEVICES after program start. Setting the available devices to be zero. (Triggered internally at  ../c10/cuda/CUDAFunctions.cpp:112.)\n",
      "  return torch._C._cuda_getDeviceCount() > 0\n"
     ]
    }
   ],
   "source": [
    "# Check if CUDA is available\n",
    "if torch.cuda.is_available():\n",
    "    # Get the device name\n",
    "    device = torch.cuda.current_device()\n",
    "    print(f\"Code is connected to CUDA. Using GPU: {torch.cuda.get_device_name(device)}\")\n",
    "else:\n",
    "    print(\"CUDA is not available. Running on CPU.\")"
   ]
  },
  {
   "cell_type": "code",
   "execution_count": 3,
   "id": "1ed88297-ef56-45cd-8523-30b09bb91709",
   "metadata": {},
   "outputs": [],
   "source": [
    "# Все равно у меня не хватит памяти для выполнения(\n",
    "device = 'cpu'"
   ]
  },
  {
   "cell_type": "markdown",
   "id": "68181071-8e84-45d8-979c-405b070b29d2",
   "metadata": {},
   "source": [
    "Не загружаем модель через CUDA, памяти не хватило\n",
    "\n",
    "`RuntimeError: CUDA out of memory. Tried to allocate 16.00 MiB (GPU 0; 3.63 GiB total capacity; 2.56 GiB already allocated; 7.12 MiB free; 2.58 GiB reserved in total by PyTorch) If reserved memory is >> allocated memory try setting max_split_size_mb to avoid fragmentation.  See documentation for Memory Management and PYTORCH_CUDA_ALLOC_CONF`"
   ]
  },
  {
   "cell_type": "code",
   "execution_count": 4,
   "id": "59a81af0-97c3-47f5-a680-28ec7ca0ea03",
   "metadata": {},
   "outputs": [],
   "source": [
    "# Создадим датафрейм, который будет собирать данные и сохранять\n",
    "info = pd.DataFrame()"
   ]
  },
  {
   "cell_type": "markdown",
   "id": "1cbeb3f2-2abe-486e-8bc6-e772906304c2",
   "metadata": {},
   "source": [
    "## Функции"
   ]
  },
  {
   "cell_type": "markdown",
   "id": "85eeba34-8861-477b-8a7e-db20969f63c7",
   "metadata": {},
   "source": [
    "### Тест метрики WER, CER, MER, WIL"
   ]
  },
  {
   "cell_type": "code",
   "execution_count": 5,
   "id": "b7801b73-6c98-414b-90eb-df043e67e574",
   "metadata": {},
   "outputs": [],
   "source": [
    "# Функция для вычисления WER, CER, MER, WIL\n",
    "def compute_metrics(original_texts, transcription):\n",
    "    wer_score = wer(original_texts, transcription)\n",
    "    cer_score = cer(original_texts, transcription)\n",
    "    mer_score = mer(original_texts, transcription)\n",
    "    wil_score = wil(original_texts, transcription)\n",
    "    \n",
    "    return wer_score, cer_score, mer_score, wil_score"
   ]
  },
  {
   "cell_type": "markdown",
   "id": "356820ec-96f5-49f1-8ab4-9a483caf0690",
   "metadata": {},
   "source": [
    "### Чтение аудиофайлов в виде массивов"
   ]
  },
  {
   "cell_type": "code",
   "execution_count": 6,
   "id": "bb31864b-a9e5-4071-95bd-14b340b8a31e",
   "metadata": {},
   "outputs": [],
   "source": [
    "# Предварительная обработка наборов данных.\n",
    "# Нам нужно прочитать аудиофайлы в виде массивов\n",
    "def speech_file_to_array_fn(batch):\n",
    "    speech_array, sampling_rate = librosa.load(batch[\"path\"], sr=16_000)\n",
    "    batch[\"speech\"] = speech_array\n",
    "    batch[\"sentence\"] = batch[\"sentence\"]\n",
    "    return batch"
   ]
  },
  {
   "cell_type": "markdown",
   "id": "bad22c80-b790-4c5a-8739-c8a9fd54da31",
   "metadata": {},
   "source": [
    "## Загрузка модели"
   ]
  },
  {
   "cell_type": "code",
   "execution_count": 7,
   "id": "dc5a35b6-e335-4134-a18c-a3c03abd57b5",
   "metadata": {},
   "outputs": [],
   "source": [
    "LANG_ID = \"ru\"\n",
    "MODEL_ID = 'jonatasgrosman/wav2vec2-xls-r-1b-russian'\n",
    "PATH_MODEL = '/home/redalexdad/recognition_speech/wav2vec2-xls-r-1b-russian'\n",
    "# Кол-во текстов для предсказания\n",
    "# ВНИМАНИЕ, НЕ СТАВЬ БОЛЬШЕ 10, ОС ЗАВИСНЕТ И ЯДРО УПАДЕТ!\n",
    "SAMPLES = 10"
   ]
  },
  {
   "cell_type": "code",
   "execution_count": 8,
   "id": "8f1c7d01-2d44-4a72-b15d-ebb8d8782aa5",
   "metadata": {},
   "outputs": [
    {
     "name": "stdout",
     "output_type": "stream",
     "text": [
      "Успешно модель загружена\n"
     ]
    }
   ],
   "source": [
    "# Проверка наличия модели в локальном пути\n",
    "if os.path.exists(PATH_MODEL):\n",
    "    processor = Wav2Vec2Processor.from_pretrained(PATH_MODEL)\n",
    "    model = Wav2Vec2ForCTC.from_pretrained(PATH_MODEL).to(device)\n",
    "    print('Успешно модель загружена')\n",
    "else:\n",
    "    # Загрузка процессора из сети\n",
    "    processor = Wav2Vec2Processor.from_pretrained(MODEL_ID)\n",
    "    processor.save_pretrained(PATH_MODEL)\n",
    "    \n",
    "    # Загрузка модели из сети\n",
    "    model = Wav2Vec2ForCTC.from_pretrained(MODEL_ID).to(device)\n",
    "    model.save_pretrained(PATH_MODEL)\n",
    "    \n",
    "    print(f'Успешно процессор и модель скачаны и сохранены в пути {PATH_MODEL}')"
   ]
  },
  {
   "cell_type": "markdown",
   "id": "2064a36b-b704-42db-b830-19485cb69838",
   "metadata": {},
   "source": [
    "## Загрузка датасета `common_voice_11_0`"
   ]
  },
  {
   "cell_type": "code",
   "execution_count": 9,
   "id": "282705d5-5e05-4537-88a6-3507889985f9",
   "metadata": {},
   "outputs": [
    {
     "name": "stdout",
     "output_type": "stream",
     "text": [
      "CPU times: user 363 ms, sys: 14.6 ms, total: 378 ms\n",
      "Wall time: 3.67 s\n"
     ]
    }
   ],
   "source": [
    "%%time\n",
    "test_dataset_cv_11 = load_dataset(\"mozilla-foundation/common_voice_11_0\", LANG_ID, split=f\"test[:{SAMPLES}]\", trust_remote_code=True)"
   ]
  },
  {
   "cell_type": "code",
   "execution_count": 10,
   "id": "bd220e11-cf15-4a0f-970e-5343e0b881a1",
   "metadata": {},
   "outputs": [],
   "source": [
    "if test_dataset_cv_11.features['audio'].sampling_rate != 16_000:\n",
    "    test_dataset_cv_11 = test_dataset_cv_11.cast_column(\n",
    "        'audio',\n",
    "        Audio(sampling_rate=16_000)\n",
    "    )"
   ]
  },
  {
   "cell_type": "markdown",
   "id": "13208978-225d-47b5-8385-ca32c2a8cd62",
   "metadata": {},
   "source": [
    "### Предсказание"
   ]
  },
  {
   "cell_type": "code",
   "execution_count": 11,
   "id": "a6c0b08c-ba49-44f9-a76b-54e8822afb32",
   "metadata": {},
   "outputs": [],
   "source": [
    "test_dataset_cv_11 = test_dataset_cv_11.map(speech_file_to_array_fn)"
   ]
  },
  {
   "cell_type": "code",
   "execution_count": 12,
   "id": "d9a891f4-3238-402f-8357-13b508423213",
   "metadata": {},
   "outputs": [],
   "source": [
    "inputs = processor(test_dataset_cv_11[\"speech\"], sampling_rate=16_000, return_tensors=\"pt\", padding=True)"
   ]
  },
  {
   "cell_type": "code",
   "execution_count": 13,
   "id": "43898e18-8632-4743-aefa-cecf1fab81d5",
   "metadata": {},
   "outputs": [
    {
     "name": "stdout",
     "output_type": "stream",
     "text": [
      "CPU times: user 7min 51s, sys: 22 s, total: 8min 13s\n",
      "Wall time: 1min 8s\n"
     ]
    }
   ],
   "source": [
    "%%time\n",
    "with torch.no_grad():\n",
    "    logits = model(inputs.input_values, attention_mask=inputs.attention_mask).logits"
   ]
  },
  {
   "cell_type": "code",
   "execution_count": 14,
   "id": "8be18ef3-c344-4c0c-a4be-7839af9bede0",
   "metadata": {},
   "outputs": [],
   "source": [
    "# Оригинальные тексты из датасета\n",
    "original_texts = [test_dataset_cv_11[i]['sentence'] for i in range(SAMPLES)]"
   ]
  },
  {
   "cell_type": "code",
   "execution_count": 15,
   "id": "8ddea120-9927-47ea-9704-fe45beaeafd5",
   "metadata": {},
   "outputs": [],
   "source": [
    "# Транскрибация\n",
    "predicted_ids = torch.argmax(logits, dim=-1)\n",
    "transcription = processor.batch_decode(predicted_ids)"
   ]
  },
  {
   "cell_type": "markdown",
   "id": "9442f408-e549-4b9e-bb97-a0d21b1032e4",
   "metadata": {},
   "source": [
    "### Вывод результатов"
   ]
  },
  {
   "cell_type": "code",
   "execution_count": 16,
   "id": "59a9b951-96f6-4a4a-b267-3e16eafad701",
   "metadata": {
    "scrolled": true
   },
   "outputs": [
    {
     "name": "stdout",
     "output_type": "stream",
     "text": [
      "----------------------------------------------------------------------------------------------------\n",
      "Sample 1 \n",
      "- Канонический текст: К сожалению, эти предложения не нашли отражения в тексте.\n",
      "- Предсказанный текст: к сожалению эти предложения не носли отражения в тексте\n",
      "----------------------------------------------------------------------------------------------------\n",
      "Sample 2 \n",
      "- Канонический текст: Если не будет возражений, я буду считать, что Ассамблея согласна с этим предложением.\n",
      "- Предсказанный текст: если не будет возражений я буду считать что ассамблея согласна с этим предложением\n",
      "----------------------------------------------------------------------------------------------------\n",
      "Sample 3 \n",
      "- Канонический текст: Новошахтинск — милый город\n",
      "- Предсказанный текст: новошафтинск милый город\n",
      "----------------------------------------------------------------------------------------------------\n",
      "Sample 4 \n",
      "- Канонический текст: Мы особенно рады отметить, что число скрывающихся от правосудия лиц уменьшилось.\n",
      "- Предсказанный текст: мы особено рады отметить что чисо сакрывоисисиаат провоседия улиц свенешегося\n",
      "----------------------------------------------------------------------------------------------------\n",
      "Sample 5 \n",
      "- Канонический текст: Контроллер\n",
      "- Предсказанный текст: контролер\n",
      "----------------------------------------------------------------------------------------------------\n",
      "Sample 6 \n",
      "- Канонический текст: Создание устойчивых обществ требует от нас готовности на всех уровнях.\n",
      "- Предсказанный текст: создание устойчивых обществ требует от нас позовности на всех уровнях\n",
      "----------------------------------------------------------------------------------------------------\n",
      "Sample 7 \n",
      "- Канонический текст: Нет, я не вижу, почему это не может быть новая сила, если она....\n",
      "- Предсказанный текст: нет я не вижу почему это не может быть новая силой если она\n",
      "----------------------------------------------------------------------------------------------------\n",
      "Sample 8 \n",
      "- Канонический текст: Палестинцам необходимо сначала установить мир с Израилем, а затем добиваться признания государственности.\n",
      "- Предсказанный текст: палестинцам необходимо сначала установить мир с израилем а затем добиваться признания государственности\n",
      "----------------------------------------------------------------------------------------------------\n",
      "Sample 9 \n",
      "- Канонический текст: Наталия\n",
      "- Предсказанный текст: наталя\n",
      "----------------------------------------------------------------------------------------------------\n",
      "Sample 10 \n",
      "- Канонический текст: И главное, переговори с ней.\n",
      "- Предсказанный текст: и главное переговорить с ней\n",
      "----------------------------------------------------------------------------------------------------\n"
     ]
    }
   ],
   "source": [
    "# Вывод оригинальных и предсказанных текстов\n",
    "print('-'*100)\n",
    "for i, (original_text, predicted_text) in enumerate(zip(original_texts, transcription)):\n",
    "    print(f\"Sample {i + 1} \\n- Канонический текст: {original_text}\")\n",
    "    print(f\"- Предсказанный текст: {predicted_text}\")\n",
    "    print(\"-\" * 100)"
   ]
  },
  {
   "cell_type": "markdown",
   "id": "277f9f17-196c-471b-a724-23fab5caa297",
   "metadata": {},
   "source": [
    "### Тест WER, CER, MER, WIL"
   ]
  },
  {
   "cell_type": "code",
   "execution_count": 17,
   "id": "53d0ce14-ee19-4bc4-abb4-c2cef235c956",
   "metadata": {},
   "outputs": [],
   "source": [
    "# Приведем все к нижнему регистру\n",
    "original_texts = [ref.lower() for ref in original_texts]\n",
    "transcription = [pred.lower() for pred in transcription]"
   ]
  },
  {
   "cell_type": "code",
   "execution_count": 18,
   "id": "28086812-6ca9-40d6-8258-7a513de80e26",
   "metadata": {},
   "outputs": [],
   "source": [
    "# Получаем метрику\n",
    "wer_score, cer_score, mer_score, wil_score = compute_metrics(original_texts, transcription)"
   ]
  },
  {
   "cell_type": "code",
   "execution_count": 19,
   "id": "3305419a-6dd5-4ec8-a1a8-9e6ca56db128",
   "metadata": {},
   "outputs": [
    {
     "name": "stdout",
     "output_type": "stream",
     "text": [
      "Word Error Rate (WER): 36.71%\n",
      "Character Error Rate (CER): 9.38%\n",
      "Match Error Rate (MER): 36.71%\n",
      "Word Information Lost (WIL): 58.90%\n"
     ]
    }
   ],
   "source": [
    "print(f\"Word Error Rate (WER): {wer_score * 100:.2f}%\")\n",
    "print(f\"Character Error Rate (CER): {cer_score * 100:.2f}%\")\n",
    "print(f\"Match Error Rate (MER): {mer_score * 100:.2f}%\")\n",
    "print(f\"Word Information Lost (WIL): {wil_score * 100:.2f}%\")"
   ]
  },
  {
   "cell_type": "code",
   "execution_count": 20,
   "id": "82de810f-9b5f-4236-829a-d60b7ca1adef",
   "metadata": {},
   "outputs": [
    {
     "name": "stderr",
     "output_type": "stream",
     "text": [
      "/tmp/ipykernel_42708/3376670737.py:2: FutureWarning: The frame.append method is deprecated and will be removed from pandas in a future version. Use pandas.concat instead.\n",
      "  info = info.append({\n"
     ]
    },
    {
     "data": {
      "text/html": [
       "<div>\n",
       "<style scoped>\n",
       "    .dataframe tbody tr th:only-of-type {\n",
       "        vertical-align: middle;\n",
       "    }\n",
       "\n",
       "    .dataframe tbody tr th {\n",
       "        vertical-align: top;\n",
       "    }\n",
       "\n",
       "    .dataframe thead th {\n",
       "        text-align: right;\n",
       "    }\n",
       "</style>\n",
       "<table border=\"1\" class=\"dataframe\">\n",
       "  <thead>\n",
       "    <tr style=\"text-align: right;\">\n",
       "      <th></th>\n",
       "      <th>MODEL</th>\n",
       "      <th>DATASET</th>\n",
       "      <th>ORIGINAL TEXT</th>\n",
       "      <th>PREDICTION TEXT</th>\n",
       "      <th>WER</th>\n",
       "      <th>CER</th>\n",
       "      <th>MER</th>\n",
       "      <th>WIL</th>\n",
       "      <th>SAMPLES</th>\n",
       "    </tr>\n",
       "  </thead>\n",
       "  <tbody>\n",
       "    <tr>\n",
       "      <th>0</th>\n",
       "      <td>jonatasgrosman/wav2vec2-xls-r-1b-russian</td>\n",
       "      <td>common_voice_11_0</td>\n",
       "      <td>[к сожалению, эти предложения не нашли отражен...</td>\n",
       "      <td>[к сожалению эти предложения не носли отражени...</td>\n",
       "      <td>0.367089</td>\n",
       "      <td>0.093809</td>\n",
       "      <td>0.367089</td>\n",
       "      <td>0.589019</td>\n",
       "      <td>10</td>\n",
       "    </tr>\n",
       "  </tbody>\n",
       "</table>\n",
       "</div>"
      ],
      "text/plain": [
       "                                      MODEL            DATASET  \\\n",
       "0  jonatasgrosman/wav2vec2-xls-r-1b-russian  common_voice_11_0   \n",
       "\n",
       "                                       ORIGINAL TEXT  \\\n",
       "0  [к сожалению, эти предложения не нашли отражен...   \n",
       "\n",
       "                                     PREDICTION TEXT       WER       CER  \\\n",
       "0  [к сожалению эти предложения не носли отражени...  0.367089  0.093809   \n",
       "\n",
       "        MER       WIL  SAMPLES  \n",
       "0  0.367089  0.589019       10  "
      ]
     },
     "metadata": {},
     "output_type": "display_data"
    }
   ],
   "source": [
    "# Создание датафрейма\n",
    "info = info.append({\n",
    "    'MODEL': MODEL_ID,\n",
    "    'DATASET': test_dataset_cv_11.info.dataset_name,\n",
    "    'ORIGINAL TEXT': original_texts,\n",
    "    'PREDICTION TEXT': transcription,\n",
    "    'WER': wer_score,\n",
    "    'CER': cer_score,\n",
    "    'MER': mer_score,\n",
    "    'WIL': wil_score,\n",
    "    'SAMPLES': SAMPLES\n",
    "}, ignore_index=True)\n",
    "display(info)"
   ]
  },
  {
   "cell_type": "markdown",
   "id": "0f9ac5ec-a9e2-4095-b8c5-875a26577edb",
   "metadata": {},
   "source": [
    "## Загрузка датасета `common_voice_12_0`"
   ]
  },
  {
   "cell_type": "code",
   "execution_count": 21,
   "id": "b0225ea1-9a12-4629-9bbb-c3ff8320f10e",
   "metadata": {},
   "outputs": [
    {
     "name": "stdout",
     "output_type": "stream",
     "text": [
      "CPU times: user 315 ms, sys: 16.2 ms, total: 331 ms\n",
      "Wall time: 3.76 s\n"
     ]
    }
   ],
   "source": [
    "%%time\n",
    "test_dataset_cv_12 = load_dataset(\"mozilla-foundation/common_voice_12_0\", LANG_ID, split=f\"test[:{SAMPLES}]\", trust_remote_code=True)"
   ]
  },
  {
   "cell_type": "code",
   "execution_count": 22,
   "id": "7737f7d5-1d68-4fde-a97f-c7bcacb2e746",
   "metadata": {},
   "outputs": [],
   "source": [
    "if test_dataset_cv_12.features['audio'].sampling_rate != 16_000:\n",
    "    test_dataset_cv_12 = test_dataset_cv_12.cast_column(\n",
    "        'audio',\n",
    "        Audio(sampling_rate=16_000)\n",
    "    )"
   ]
  },
  {
   "cell_type": "markdown",
   "id": "42bc0a4b-ce12-4d02-a9e9-b8a947ba0612",
   "metadata": {},
   "source": [
    "### Предсказание"
   ]
  },
  {
   "cell_type": "code",
   "execution_count": 23,
   "id": "b415e1bc-3187-4b66-a934-745eec92f0f5",
   "metadata": {},
   "outputs": [
    {
     "data": {
      "application/vnd.jupyter.widget-view+json": {
       "model_id": "200af33724cf43e5b4f6e188d2c96017",
       "version_major": 2,
       "version_minor": 0
      },
      "text/plain": [
       "Map:   0%|          | 0/10 [00:00<?, ? examples/s]"
      ]
     },
     "metadata": {},
     "output_type": "display_data"
    }
   ],
   "source": [
    "test_dataset_cv_12 = test_dataset_cv_12.map(speech_file_to_array_fn)"
   ]
  },
  {
   "cell_type": "code",
   "execution_count": 24,
   "id": "f278bd6d-cb5f-45fe-b082-190852148343",
   "metadata": {},
   "outputs": [],
   "source": [
    "inputs = processor(test_dataset_cv_12[\"speech\"], sampling_rate=16_000, return_tensors=\"pt\", padding=True)"
   ]
  },
  {
   "cell_type": "code",
   "execution_count": 25,
   "id": "e2e51fff-9ce1-4076-8f42-f2e4f93d0b61",
   "metadata": {},
   "outputs": [
    {
     "name": "stdout",
     "output_type": "stream",
     "text": [
      "CPU times: user 8min 10s, sys: 18.7 s, total: 8min 28s\n",
      "Wall time: 1min 9s\n"
     ]
    }
   ],
   "source": [
    "%%time\n",
    "with torch.no_grad():\n",
    "    logits = model(inputs.input_values, attention_mask=inputs.attention_mask).logits"
   ]
  },
  {
   "cell_type": "code",
   "execution_count": 26,
   "id": "f3572e97-234f-46ca-ae86-23479b92adf6",
   "metadata": {},
   "outputs": [],
   "source": [
    "# Оригинальные тексты из датасета\n",
    "original_texts = [test_dataset_cv_12[i]['sentence'] for i in range(SAMPLES)]"
   ]
  },
  {
   "cell_type": "code",
   "execution_count": 27,
   "id": "143cbc1e-755c-4c48-b144-8e0bbc6b1850",
   "metadata": {},
   "outputs": [],
   "source": [
    "# Транскрибация\n",
    "predicted_ids = torch.argmax(logits, dim=-1)\n",
    "transcription = processor.batch_decode(predicted_ids)"
   ]
  },
  {
   "cell_type": "markdown",
   "id": "f003de6f-e307-47ef-b7bd-ae866254768a",
   "metadata": {},
   "source": [
    "### Вывод результатов"
   ]
  },
  {
   "cell_type": "code",
   "execution_count": 28,
   "id": "756b20b1-9f64-4df5-9c0e-81c8aa3628fc",
   "metadata": {
    "scrolled": true
   },
   "outputs": [
    {
     "name": "stdout",
     "output_type": "stream",
     "text": [
      "----------------------------------------------------------------------------------------------------\n",
      "Sample 1 \n",
      "- Канонический текст: К сожалению, эти предложения не нашли отражения в тексте.\n",
      "- Предсказанный текст: к сожалению эти предложения не носли отражения в тексте\n",
      "----------------------------------------------------------------------------------------------------\n",
      "Sample 2 \n",
      "- Канонический текст: Толпа озвереет, будет тереться, ощетинит ножки стоглавая вошь.\n",
      "- Предсказанный текст: толпа звереет будет тереться ощути нет ножки с тоглавая ложь\n",
      "----------------------------------------------------------------------------------------------------\n",
      "Sample 3 \n",
      "- Канонический текст: А жизнь ее была не весела.\n",
      "- Предсказанный текст: а жизни ее была не весела\n",
      "----------------------------------------------------------------------------------------------------\n",
      "Sample 4 \n",
      "- Канонический текст: Если не будет возражений, я буду считать, что Ассамблея согласна с этим предложением.\n",
      "- Предсказанный текст: если не будет возражений я буду считать что ассамблея согласна с этим предложением\n",
      "----------------------------------------------------------------------------------------------------\n",
      "Sample 5 \n",
      "- Канонический текст: Да ты зачем собственно приехал?\n",
      "- Предсказанный текст: да ты зачем собственно приехал\n",
      "----------------------------------------------------------------------------------------------------\n",
      "Sample 6 \n",
      "- Канонический текст: Мы особенно рады отметить, что число скрывающихся от правосудия лиц уменьшилось.\n",
      "- Предсказанный текст: мы особено рады отметить что чисо сакрывоисисиаат провоседия улиц свенешегося\n",
      "----------------------------------------------------------------------------------------------------\n",
      "Sample 7 \n",
      "- Канонический текст: Контроллер\n",
      "- Предсказанный текст: контролер\n",
      "----------------------------------------------------------------------------------------------------\n",
      "Sample 8 \n",
      "- Канонический текст: Пугачев весело со мною поздоровался и велел мне садиться с ним в кибитку.\n",
      "- Предсказанный текст: пугачев весело со мной поздоровался и велел не садиться с ним в кибитку\n",
      "----------------------------------------------------------------------------------------------------\n",
      "Sample 9 \n",
      "- Канонический текст: Неожиданно катастрофа приобрела глобальные масштабы.\n",
      "- Предсказанный текст: неожиданно катастрофа приобрела глобальные масштабы\n",
      "----------------------------------------------------------------------------------------------------\n",
      "Sample 10 \n",
      "- Канонический текст: Нет, я не вижу, почему это не может быть новая сила, если она....\n",
      "- Предсказанный текст: нет я не вижу почему это не может быть новая силой если она\n",
      "----------------------------------------------------------------------------------------------------\n"
     ]
    }
   ],
   "source": [
    "# Вывод оригинальных и предсказанных текстов\n",
    "print('-'*100)\n",
    "for i, (original_text, predicted_text) in enumerate(zip(original_texts, transcription)):\n",
    "    print(f\"Sample {i + 1} \\n- Канонический текст: {original_text}\")\n",
    "    print(f\"- Предсказанный текст: {predicted_text}\")\n",
    "    print(\"-\" * 100)"
   ]
  },
  {
   "cell_type": "markdown",
   "id": "a6980fd3-1796-445d-8f77-d5d2ca274354",
   "metadata": {},
   "source": [
    "### Тест WER, CER, MER, WIL"
   ]
  },
  {
   "cell_type": "code",
   "execution_count": 29,
   "id": "0c27e0dc-c35d-44b2-a302-e1838f94710d",
   "metadata": {},
   "outputs": [],
   "source": [
    "# Приведем все к нижнему регистру\n",
    "original_texts = [ref.lower() for ref in original_texts]\n",
    "transcription = [pred.lower() for pred in transcription]"
   ]
  },
  {
   "cell_type": "code",
   "execution_count": 30,
   "id": "603d7647-153d-4425-bb04-f207056199d7",
   "metadata": {},
   "outputs": [],
   "source": [
    "# Получаем метрику\n",
    "wer_score, cer_score, mer_score, wil_score = compute_metrics(original_texts, transcription)"
   ]
  },
  {
   "cell_type": "code",
   "execution_count": 31,
   "id": "37b3ce68-4a6b-41ae-8f8e-d9e12ba59fc0",
   "metadata": {},
   "outputs": [
    {
     "name": "stdout",
     "output_type": "stream",
     "text": [
      "Word Error Rate (WER): 39.29%\n",
      "Character Error Rate (CER): 9.98%\n",
      "Match Error Rate (MER): 38.37%\n",
      "Word Information Lost (WIL): 60.66%\n"
     ]
    }
   ],
   "source": [
    "print(f\"Word Error Rate (WER): {wer_score * 100:.2f}%\")\n",
    "print(f\"Character Error Rate (CER): {cer_score * 100:.2f}%\")\n",
    "print(f\"Match Error Rate (MER): {mer_score * 100:.2f}%\")\n",
    "print(f\"Word Information Lost (WIL): {wil_score * 100:.2f}%\")"
   ]
  },
  {
   "cell_type": "code",
   "execution_count": 32,
   "id": "36e33c09-a81f-4d61-a856-b952a4ac83fa",
   "metadata": {},
   "outputs": [
    {
     "name": "stderr",
     "output_type": "stream",
     "text": [
      "/tmp/ipykernel_42708/569941310.py:2: FutureWarning: The frame.append method is deprecated and will be removed from pandas in a future version. Use pandas.concat instead.\n",
      "  info = info.append({\n"
     ]
    },
    {
     "data": {
      "text/html": [
       "<div>\n",
       "<style scoped>\n",
       "    .dataframe tbody tr th:only-of-type {\n",
       "        vertical-align: middle;\n",
       "    }\n",
       "\n",
       "    .dataframe tbody tr th {\n",
       "        vertical-align: top;\n",
       "    }\n",
       "\n",
       "    .dataframe thead th {\n",
       "        text-align: right;\n",
       "    }\n",
       "</style>\n",
       "<table border=\"1\" class=\"dataframe\">\n",
       "  <thead>\n",
       "    <tr style=\"text-align: right;\">\n",
       "      <th></th>\n",
       "      <th>MODEL</th>\n",
       "      <th>DATASET</th>\n",
       "      <th>ORIGINAL TEXT</th>\n",
       "      <th>PREDICTION TEXT</th>\n",
       "      <th>WER</th>\n",
       "      <th>CER</th>\n",
       "      <th>MER</th>\n",
       "      <th>WIL</th>\n",
       "      <th>SAMPLES</th>\n",
       "    </tr>\n",
       "  </thead>\n",
       "  <tbody>\n",
       "    <tr>\n",
       "      <th>0</th>\n",
       "      <td>jonatasgrosman/wav2vec2-xls-r-1b-russian</td>\n",
       "      <td>common_voice_11_0</td>\n",
       "      <td>[к сожалению, эти предложения не нашли отражен...</td>\n",
       "      <td>[к сожалению эти предложения не носли отражени...</td>\n",
       "      <td>0.367089</td>\n",
       "      <td>0.093809</td>\n",
       "      <td>0.367089</td>\n",
       "      <td>0.589019</td>\n",
       "      <td>10</td>\n",
       "    </tr>\n",
       "    <tr>\n",
       "      <th>1</th>\n",
       "      <td>jonatasgrosman/wav2vec2-xls-r-1b-russian</td>\n",
       "      <td>common_voice_12_0</td>\n",
       "      <td>[к сожалению, эти предложения не нашли отражен...</td>\n",
       "      <td>[к сожалению эти предложения не носли отражени...</td>\n",
       "      <td>0.392857</td>\n",
       "      <td>0.099815</td>\n",
       "      <td>0.383721</td>\n",
       "      <td>0.606583</td>\n",
       "      <td>10</td>\n",
       "    </tr>\n",
       "  </tbody>\n",
       "</table>\n",
       "</div>"
      ],
      "text/plain": [
       "                                      MODEL            DATASET  \\\n",
       "0  jonatasgrosman/wav2vec2-xls-r-1b-russian  common_voice_11_0   \n",
       "1  jonatasgrosman/wav2vec2-xls-r-1b-russian  common_voice_12_0   \n",
       "\n",
       "                                       ORIGINAL TEXT  \\\n",
       "0  [к сожалению, эти предложения не нашли отражен...   \n",
       "1  [к сожалению, эти предложения не нашли отражен...   \n",
       "\n",
       "                                     PREDICTION TEXT       WER       CER  \\\n",
       "0  [к сожалению эти предложения не носли отражени...  0.367089  0.093809   \n",
       "1  [к сожалению эти предложения не носли отражени...  0.392857  0.099815   \n",
       "\n",
       "        MER       WIL  SAMPLES  \n",
       "0  0.367089  0.589019       10  \n",
       "1  0.383721  0.606583       10  "
      ]
     },
     "metadata": {},
     "output_type": "display_data"
    }
   ],
   "source": [
    "# Создание датафрейма\n",
    "info = info.append({\n",
    "    'MODEL': MODEL_ID,\n",
    "    'DATASET': test_dataset_cv_12.info.dataset_name,\n",
    "    'ORIGINAL TEXT': original_texts,\n",
    "    'PREDICTION TEXT': transcription,\n",
    "    'WER': wer_score,\n",
    "    'CER': cer_score,\n",
    "    'MER': mer_score,\n",
    "    'WIL': wil_score,\n",
    "    'SAMPLES': SAMPLES\n",
    "}, ignore_index=True)\n",
    "display(info)"
   ]
  },
  {
   "cell_type": "markdown",
   "id": "4769634e-6300-452a-b713-0157dea88dcc",
   "metadata": {},
   "source": [
    "## Загрузка датасета `common_voice_14_0`"
   ]
  },
  {
   "cell_type": "code",
   "execution_count": 33,
   "id": "3db5a21c-a986-480d-9cae-259faaee7752",
   "metadata": {},
   "outputs": [
    {
     "name": "stdout",
     "output_type": "stream",
     "text": [
      "CPU times: user 323 ms, sys: 23.9 ms, total: 346 ms\n",
      "Wall time: 3.85 s\n"
     ]
    }
   ],
   "source": [
    "%%time\n",
    "test_dataset_cv_14 = load_dataset(\"mozilla-foundation/common_voice_14_0\", LANG_ID, split=f\"test[:{SAMPLES}]\", trust_remote_code=True)"
   ]
  },
  {
   "cell_type": "code",
   "execution_count": 34,
   "id": "b72f947f-5f22-4bb6-ae70-d866bd42823d",
   "metadata": {},
   "outputs": [],
   "source": [
    "if test_dataset_cv_14.features['audio'].sampling_rate != 16_000:\n",
    "    test_dataset_cv_14 = test_dataset_cv_14.cast_column(\n",
    "        'audio',\n",
    "        Audio(sampling_rate=16_000)\n",
    "    )"
   ]
  },
  {
   "cell_type": "markdown",
   "id": "e40fe35f-be07-49f6-8e2b-3ac4a4c41fc1",
   "metadata": {},
   "source": [
    "### Предсказание"
   ]
  },
  {
   "cell_type": "code",
   "execution_count": 35,
   "id": "297bb03f-805e-45df-8e67-90e7feac666e",
   "metadata": {},
   "outputs": [
    {
     "data": {
      "application/vnd.jupyter.widget-view+json": {
       "model_id": "65ea6d3ca799479793ce344541a7d63a",
       "version_major": 2,
       "version_minor": 0
      },
      "text/plain": [
       "Map:   0%|          | 0/10 [00:00<?, ? examples/s]"
      ]
     },
     "metadata": {},
     "output_type": "display_data"
    }
   ],
   "source": [
    "test_dataset_cv_14 = test_dataset_cv_14.map(speech_file_to_array_fn)"
   ]
  },
  {
   "cell_type": "code",
   "execution_count": 36,
   "id": "92f9a24c-2cc8-4114-85f2-88462976a5c8",
   "metadata": {},
   "outputs": [],
   "source": [
    "inputs = processor(test_dataset_cv_14[\"speech\"], sampling_rate=16_000, return_tensors=\"pt\", padding=True)"
   ]
  },
  {
   "cell_type": "code",
   "execution_count": 37,
   "id": "a08e2a7f-3d39-4195-861e-7f53cae5628f",
   "metadata": {},
   "outputs": [
    {
     "name": "stdout",
     "output_type": "stream",
     "text": [
      "CPU times: user 8min 9s, sys: 21 s, total: 8min 30s\n",
      "Wall time: 1min 9s\n"
     ]
    }
   ],
   "source": [
    "%%time\n",
    "with torch.no_grad():\n",
    "    logits = model(inputs.input_values, attention_mask=inputs.attention_mask).logits"
   ]
  },
  {
   "cell_type": "code",
   "execution_count": 38,
   "id": "69e3fb60-9e2b-4e06-a88c-47e8deeedf19",
   "metadata": {},
   "outputs": [],
   "source": [
    "# Оригинальные тексты из датасета\n",
    "original_texts = [test_dataset_cv_14[i]['sentence'] for i in range(SAMPLES)]"
   ]
  },
  {
   "cell_type": "code",
   "execution_count": 39,
   "id": "9c666a28-9fbc-4ebe-b2b0-30d16673d708",
   "metadata": {},
   "outputs": [],
   "source": [
    "# Транскрибация\n",
    "predicted_ids = torch.argmax(logits, dim=-1)\n",
    "transcription = processor.batch_decode(predicted_ids)"
   ]
  },
  {
   "cell_type": "markdown",
   "id": "28488956-1c45-479e-a13b-02e85823df53",
   "metadata": {},
   "source": [
    "### Вывод результатов"
   ]
  },
  {
   "cell_type": "code",
   "execution_count": 40,
   "id": "8c7feab4-f37c-49e9-8fba-b00e91d29ec9",
   "metadata": {
    "scrolled": true
   },
   "outputs": [
    {
     "name": "stdout",
     "output_type": "stream",
     "text": [
      "----------------------------------------------------------------------------------------------------\n",
      "Sample 1 \n",
      "- Канонический текст: К сожалению, эти предложения не нашли отражения в тексте.\n",
      "- Предсказанный текст: к сожалению эти предложения не носли отражения в тексте\n",
      "----------------------------------------------------------------------------------------------------\n",
      "Sample 2 \n",
      "- Канонический текст: Толпа озвереет, будет тереться, ощетинит ножки стоглавая вошь.\n",
      "- Предсказанный текст: толпа звереет будет тереться ощути нет ножки с тоглавая ложь\n",
      "----------------------------------------------------------------------------------------------------\n",
      "Sample 3 \n",
      "- Канонический текст: Если не будет возражений, я буду считать, что Ассамблея согласна с этим предложением.\n",
      "- Предсказанный текст: если не будет возражений я буду считать что ассамблея согласна с этим предложением\n",
      "----------------------------------------------------------------------------------------------------\n",
      "Sample 4 \n",
      "- Канонический текст: Да ты зачем собственно приехал?\n",
      "- Предсказанный текст: да ты зачем собственно приехал\n",
      "----------------------------------------------------------------------------------------------------\n",
      "Sample 5 \n",
      "- Канонический текст: Мы особенно рады отметить, что число скрывающихся от правосудия лиц уменьшилось.\n",
      "- Предсказанный текст: мы особено рады отметить что чисо сакрывоисисиаат провоседия улиц свенешегося\n",
      "----------------------------------------------------------------------------------------------------\n",
      "Sample 6 \n",
      "- Канонический текст: Контроллер\n",
      "- Предсказанный текст: контролер\n",
      "----------------------------------------------------------------------------------------------------\n",
      "Sample 7 \n",
      "- Канонический текст: Неожиданно катастрофа приобрела глобальные масштабы.\n",
      "- Предсказанный текст: неожиданно катастрофа приобрела глобальные масштабы\n",
      "----------------------------------------------------------------------------------------------------\n",
      "Sample 8 \n",
      "- Канонический текст: Нет, я не вижу, почему это не может быть новая сила, если она....\n",
      "- Предсказанный текст: нет я не вижу почему это не может быть новая силой если она\n",
      "----------------------------------------------------------------------------------------------------\n",
      "Sample 9 \n",
      "- Канонический текст: Палестинцам необходимо сначала установить мир с Израилем, а затем добиваться признания государственности.\n",
      "- Предсказанный текст: палестинцам необходимо сначала установить мир с израилем а затем добиваться признания государственности\n",
      "----------------------------------------------------------------------------------------------------\n",
      "Sample 10 \n",
      "- Канонический текст: Тысячи людей пропали без вести.\n",
      "- Предсказанный текст: тысячи людей припали без звести\n",
      "----------------------------------------------------------------------------------------------------\n"
     ]
    }
   ],
   "source": [
    "# Вывод оригинальных и предсказанных текстов\n",
    "print('-'*100)\n",
    "for i, (original_text, predicted_text) in enumerate(zip(original_texts, transcription)):\n",
    "    print(f\"Sample {i + 1} \\n- Канонический текст: {original_text}\")\n",
    "    print(f\"- Предсказанный текст: {predicted_text}\")\n",
    "    print(\"-\" * 100)"
   ]
  },
  {
   "cell_type": "markdown",
   "id": "a07bf5e9-15ff-4962-aba3-ebabe3286007",
   "metadata": {},
   "source": [
    "### Тест WER, CER, MER, WIL"
   ]
  },
  {
   "cell_type": "code",
   "execution_count": 41,
   "id": "83263e3c-f7bd-4434-8e76-6e396e1e396b",
   "metadata": {},
   "outputs": [],
   "source": [
    "# Приведем все к нижнему регистру\n",
    "original_texts = [ref.lower() for ref in original_texts]\n",
    "transcription = [pred.lower() for pred in transcription]"
   ]
  },
  {
   "cell_type": "code",
   "execution_count": 42,
   "id": "8703d30d-d934-4ffd-9688-3124dc2a38b1",
   "metadata": {},
   "outputs": [],
   "source": [
    "# Получаем метрику\n",
    "wer_score, cer_score, mer_score, wil_score = compute_metrics(original_texts, transcription)"
   ]
  },
  {
   "cell_type": "code",
   "execution_count": 43,
   "id": "9d985062-1e47-425c-83ab-5758fcece2c3",
   "metadata": {},
   "outputs": [
    {
     "name": "stdout",
     "output_type": "stream",
     "text": [
      "Word Error Rate (WER): 39.02%\n",
      "Character Error Rate (CER): 9.34%\n",
      "Match Error Rate (MER): 38.10%\n",
      "Word Information Lost (WIL): 60.27%\n"
     ]
    }
   ],
   "source": [
    "print(f\"Word Error Rate (WER): {wer_score * 100:.2f}%\")\n",
    "print(f\"Character Error Rate (CER): {cer_score * 100:.2f}%\")\n",
    "print(f\"Match Error Rate (MER): {mer_score * 100:.2f}%\")\n",
    "print(f\"Word Information Lost (WIL): {wil_score * 100:.2f}%\")"
   ]
  },
  {
   "cell_type": "code",
   "execution_count": 44,
   "id": "d52f7dc8-ffde-4e9c-b4ff-6736396343c3",
   "metadata": {},
   "outputs": [
    {
     "name": "stderr",
     "output_type": "stream",
     "text": [
      "/tmp/ipykernel_42708/3254145418.py:2: FutureWarning: The frame.append method is deprecated and will be removed from pandas in a future version. Use pandas.concat instead.\n",
      "  info = info.append({\n"
     ]
    },
    {
     "data": {
      "text/html": [
       "<div>\n",
       "<style scoped>\n",
       "    .dataframe tbody tr th:only-of-type {\n",
       "        vertical-align: middle;\n",
       "    }\n",
       "\n",
       "    .dataframe tbody tr th {\n",
       "        vertical-align: top;\n",
       "    }\n",
       "\n",
       "    .dataframe thead th {\n",
       "        text-align: right;\n",
       "    }\n",
       "</style>\n",
       "<table border=\"1\" class=\"dataframe\">\n",
       "  <thead>\n",
       "    <tr style=\"text-align: right;\">\n",
       "      <th></th>\n",
       "      <th>MODEL</th>\n",
       "      <th>DATASET</th>\n",
       "      <th>ORIGINAL TEXT</th>\n",
       "      <th>PREDICTION TEXT</th>\n",
       "      <th>WER</th>\n",
       "      <th>CER</th>\n",
       "      <th>MER</th>\n",
       "      <th>WIL</th>\n",
       "      <th>SAMPLES</th>\n",
       "    </tr>\n",
       "  </thead>\n",
       "  <tbody>\n",
       "    <tr>\n",
       "      <th>0</th>\n",
       "      <td>jonatasgrosman/wav2vec2-xls-r-1b-russian</td>\n",
       "      <td>common_voice_11_0</td>\n",
       "      <td>[к сожалению, эти предложения не нашли отражен...</td>\n",
       "      <td>[к сожалению эти предложения не носли отражени...</td>\n",
       "      <td>0.367089</td>\n",
       "      <td>0.093809</td>\n",
       "      <td>0.367089</td>\n",
       "      <td>0.589019</td>\n",
       "      <td>10</td>\n",
       "    </tr>\n",
       "    <tr>\n",
       "      <th>1</th>\n",
       "      <td>jonatasgrosman/wav2vec2-xls-r-1b-russian</td>\n",
       "      <td>common_voice_12_0</td>\n",
       "      <td>[к сожалению, эти предложения не нашли отражен...</td>\n",
       "      <td>[к сожалению эти предложения не носли отражени...</td>\n",
       "      <td>0.392857</td>\n",
       "      <td>0.099815</td>\n",
       "      <td>0.383721</td>\n",
       "      <td>0.606583</td>\n",
       "      <td>10</td>\n",
       "    </tr>\n",
       "    <tr>\n",
       "      <th>2</th>\n",
       "      <td>jonatasgrosman/wav2vec2-xls-r-1b-russian</td>\n",
       "      <td>common_voice_14_0</td>\n",
       "      <td>[к сожалению, эти предложения не нашли отражен...</td>\n",
       "      <td>[к сожалению эти предложения не носли отражени...</td>\n",
       "      <td>0.390244</td>\n",
       "      <td>0.093426</td>\n",
       "      <td>0.380952</td>\n",
       "      <td>0.602703</td>\n",
       "      <td>10</td>\n",
       "    </tr>\n",
       "  </tbody>\n",
       "</table>\n",
       "</div>"
      ],
      "text/plain": [
       "                                      MODEL            DATASET  \\\n",
       "0  jonatasgrosman/wav2vec2-xls-r-1b-russian  common_voice_11_0   \n",
       "1  jonatasgrosman/wav2vec2-xls-r-1b-russian  common_voice_12_0   \n",
       "2  jonatasgrosman/wav2vec2-xls-r-1b-russian  common_voice_14_0   \n",
       "\n",
       "                                       ORIGINAL TEXT  \\\n",
       "0  [к сожалению, эти предложения не нашли отражен...   \n",
       "1  [к сожалению, эти предложения не нашли отражен...   \n",
       "2  [к сожалению, эти предложения не нашли отражен...   \n",
       "\n",
       "                                     PREDICTION TEXT       WER       CER  \\\n",
       "0  [к сожалению эти предложения не носли отражени...  0.367089  0.093809   \n",
       "1  [к сожалению эти предложения не носли отражени...  0.392857  0.099815   \n",
       "2  [к сожалению эти предложения не носли отражени...  0.390244  0.093426   \n",
       "\n",
       "        MER       WIL  SAMPLES  \n",
       "0  0.367089  0.589019       10  \n",
       "1  0.383721  0.606583       10  \n",
       "2  0.380952  0.602703       10  "
      ]
     },
     "metadata": {},
     "output_type": "display_data"
    }
   ],
   "source": [
    "# Создание датафрейма\n",
    "info = info.append({\n",
    "    'MODEL': MODEL_ID,\n",
    "    'DATASET': test_dataset_cv_14.info.dataset_name,\n",
    "    'ORIGINAL TEXT': original_texts,\n",
    "    'PREDICTION TEXT': transcription,\n",
    "    'WER': wer_score,\n",
    "    'CER': cer_score,\n",
    "    'MER': mer_score,\n",
    "    'WIL': wil_score,\n",
    "    'SAMPLES': SAMPLES\n",
    "}, ignore_index=True)\n",
    "display(info)"
   ]
  },
  {
   "cell_type": "code",
   "execution_count": 45,
   "id": "d7416fce-2b48-45a2-b37f-c16ac0d1321b",
   "metadata": {},
   "outputs": [],
   "source": [
    "info.to_csv('wav2vec2-xls-r-1b-russian.csv', index=False)"
   ]
  }
 ],
 "metadata": {
  "kernelspec": {
   "display_name": "Python 3 (ipykernel)",
   "language": "python",
   "name": "python3"
  },
  "language_info": {
   "codemirror_mode": {
    "name": "ipython",
    "version": 3
   },
   "file_extension": ".py",
   "mimetype": "text/x-python",
   "name": "python",
   "nbconvert_exporter": "python",
   "pygments_lexer": "ipython3",
   "version": "3.9.18"
  }
 },
 "nbformat": 4,
 "nbformat_minor": 5
}
