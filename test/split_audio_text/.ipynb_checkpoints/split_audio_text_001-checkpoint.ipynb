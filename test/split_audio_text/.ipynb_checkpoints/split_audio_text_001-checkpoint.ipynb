{
 "cells": [
  {
   "cell_type": "code",
   "execution_count": null,
   "id": "ae45be2d-24b4-49f7-99f7-6ad70283299d",
   "metadata": {},
   "source": [
    "import os\n",
    "import librosa"
   ],
   "outputs": []
  },
  {
   "cell_type": "code",
   "execution_count": null,
   "id": "e5b06a5b-a326-4bb7-8d5a-1f584631e661",
   "metadata": {},
   "source": [
    "def split_audio_text(data_folder, output_folder):\n",
    "    # Создаем каталог для сохранения файлов\n",
    "    os.makedirs(output_folder, exist_ok=True)\n",
    "\n",
    "    for root, dirs, files in os.walk(data_folder):\n",
    "        for file in files:\n",
    "            if file.endswith(\".txt\"):\n",
    "                text_path = os.path.join(root, file)\n",
    "                audio_path = text_path.replace(\".txt\", \".wav\")\n",
    "\n",
    "                # Извлекаем текст\n",
    "                with open(text_path, 'r', encoding='utf-8') as text_file:\n",
    "                    text = text_file.read().strip()\n",
    "\n",
    "                # Извлекаем аудио и сохраняем его\n",
    "                audio_signal, sr = librosa.load(audio_path, sr=16000)\n",
    "                output_audio_path = os.path.join(output_folder, f\"{os.path.splitext(file)[0]}.wav\")\n",
    "                librosa.output.write_wav(output_audio_path, audio_signal, sr)\n",
    "\n",
    "                # Сохраняем текст\n",
    "                output_text_path = os.path.join(output_folder, f\"{os.path.splitext(file)[0]}.txt\")\n",
    "                with open(output_text_path, 'w', encoding='utf-8') as output_text_file:\n",
    "                    output_text_file.write(text)"
   ],
   "outputs": []
  },
  {
   "cell_type": "code",
   "execution_count": null,
   "id": "87b93fbe-158a-47de-adbd-774952b10aa2",
   "metadata": {},
   "source": [
    "# Замените пути к папкам на ваши\n",
    "data_folder_path = \"/home/redalexdad/recognition_speech/new_buriy_audiobooks_2_val\"\n",
    "output_folder_path = \"/home/redalexdad/recognition_speech/voice_split\""
   ],
   "outputs": []
  },
  {
   "cell_type": "code",
   "execution_count": null,
   "id": "aeab7c2f-f3de-4729-91f6-c240ec77762d",
   "metadata": {},
   "source": [
    "split_audio_text(data_folder_path, output_folder_path)"
   ],
   "outputs": []
  },
  {
   "cell_type": "code",
   "execution_count": null,
   "id": "ea09dc18-6b26-457b-8583-cfbcbe5e6917",
   "metadata": {},
   "source": [],
   "outputs": []
  },
  {
   "cell_type": "code",
   "execution_count": null,
   "id": "7921d70a-97b5-459f-af15-636945d2134a",
   "metadata": {},
   "source": [],
   "outputs": []
  },
  {
   "cell_type": "code",
   "execution_count": null,
   "id": "3fd04864-85b0-4c6b-8481-399e71a7f4e3",
   "metadata": {},
   "source": [],
   "outputs": []
  }
 ],
 "metadata": {
  "kernelspec": {
   "display_name": "Python 3 (ipykernel)",
   "language": "python",
   "name": "python3"
  },
  "language_info": {
   "codemirror_mode": {
    "name": "ipython",
    "version": 3
   },
   "file_extension": ".py",
   "mimetype": "text/x-python",
   "name": "python",
   "nbconvert_exporter": "python",
   "pygments_lexer": "ipython3",
   "version": "3.9.18"
  }
 },
 "nbformat": 4,
 "nbformat_minor": 5
}
