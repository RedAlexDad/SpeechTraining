{
 "cells": [
  {
   "cell_type": "code",
   "execution_count": 17,
   "id": "ae45be2d-24b4-49f7-99f7-6ad70283299d",
   "metadata": {},
   "source": [
    "import os\n",
    "import librosa\n",
    "import soundfile as sf\n",
    "import speech_recognition as sr"
   ],
   "outputs": []
  },
  {
   "cell_type": "code",
   "execution_count": 18,
   "id": "6aa54d4a-555a-417e-8910-129bd577d123",
   "metadata": {},
   "source": [
    "def get_text_from_audio(file_path):\n",
    "    recognizer = sr.Recognizer()\n",
    "\n",
    "    with sr.AudioFile(file_path) as source:\n",
    "        audio_data = recognizer.record(source)\n",
    "        text = recognizer.recognize_google(audio_data, language=\"ru-RU\")\n",
    "\n",
    "    return text"
   ],
   "outputs": []
  },
  {
   "cell_type": "code",
   "execution_count": 22,
   "id": "e5b06a5b-a326-4bb7-8d5a-1f584631e661",
   "metadata": {},
   "source": [
    "def split_audio_by_silence(input_folder, output_folder, max_files=10):\n",
    "    for root, dirs, files in os.walk(input_folder):\n",
    "        for file in files:\n",
    "            if file.endswith(\".wav\"):\n",
    "                file_path = os.path.join(root, file)\n",
    "\n",
    "                # Загрузка аудиофайла\n",
    "                audio, sr = librosa.load(file_path, sr=16000)\n",
    "\n",
    "                # Разделение на части по местам тишины\n",
    "                intervals = librosa.effects.split(audio, top_db=20)\n",
    "\n",
    "                # Извлечение текста из аудио\n",
    "                full_text = get_text_from_audio(file_path)\n",
    "\n",
    "                # Создание папки для результатов\n",
    "                for word in full_text.split():\n",
    "                    result_folder = os.path.join(output_folder, word)\n",
    "                    os.makedirs(result_folder, exist_ok=True)\n",
    "\n",
    "                    # Ограничение до max_files файлов, если указано\n",
    "                    for i, (start, end) in enumerate(intervals[:max_files]):\n",
    "                        audio_part = audio[start:end]\n",
    "                        txt_file = os.path.join(result_folder, f\"{word}.txt\")\n",
    "                        wav_file = os.path.join(result_folder, f\"{word}.wav\")\n",
    "\n",
    "                        # Сохранение текста в файл\n",
    "                        with open(txt_file, 'w') as txt:\n",
    "                            txt.write(full_text)\n",
    "\n",
    "                        # Сохранение аудиофайла\n",
    "                        sf.write(wav_file, audio_part, sr)"
   ],
   "outputs": []
  },
  {
   "cell_type": "code",
   "execution_count": 23,
   "id": "87b93fbe-158a-47de-adbd-774952b10aa2",
   "metadata": {},
   "source": [
    "# Замените пути к папкам на ваши\n",
    "input_folder = \"/home/redalexdad/recognition_speech/new_buriy_audiobooks_2_val\"\n",
    "output_folder = \"/home/redalexdad/recognition_speech/voice_split\""
   ],
   "outputs": []
  },
  {
   "cell_type": "code",
   "execution_count": 24,
   "id": "aeab7c2f-f3de-4729-91f6-c240ec77762d",
   "metadata": {},
   "source": [
    "split_audio_by_silence(input_folder, output_folder, max_files=10)"
   ],
   "outputs": []
  },
  {
   "cell_type": "code",
   "execution_count": 25,
   "id": "03c96c8c-b65f-42e1-987a-ed8534389ccd",
   "metadata": {},
   "source": [
    "from IPython import display\n",
    "import matplotlib.pyplot as plt"
   ],
   "outputs": []
  },
  {
   "cell_type": "code",
   "execution_count": 26,
   "id": "ea09dc18-6b26-457b-8583-cfbcbe5e6917",
   "metadata": {},
   "source": [
    "data_dir = '/home/redalexdad/recognition_speech/voice_split'\n",
    "\n",
    "# label_names = []\n",
    "file_counter = 0  # Переменная для отслеживания количества обработанных файлов\n",
    "\n",
    "# Рекурсивно обходим все файлы и подкаталоги в корневом каталоге\n",
    "for root, dirs, files in os.walk(data_dir):\n",
    "    for file in files:\n",
    "        # Проверяем, что файл - звуковой файл\n",
    "        if file.endswith(\".wav\"):\n",
    "            # Увеличиваем счетчик обработанных файлов\n",
    "            file_counter += 1\n",
    "\n",
    "            # Проверяем, не превысило ли количество файлов 10\n",
    "            if file_counter > 10:\n",
    "                break\n",
    "\n",
    "            # Остальной код вашего скрипта остается без изменений\n",
    "            audio_file_path = os.path.join(root, file)\n",
    "            label = os.path.basename(root)\n",
    "            text_file_path = os.path.join(root, f\"{os.path.splitext(file)[0]}.txt\")\n",
    "\n",
    "            if not os.path.exists(text_file_path):\n",
    "                print(f\"No text file found for {audio_file_path}\")\n",
    "                continue\n",
    "\n",
    "            # Далее ваш код для чтения текста и вывода информации о звуке\n",
    "            print(f\"Label {label}\")\n",
    "            waveform, sample_rate = librosa.load(audio_file_path, sr=None)\n",
    "\n",
    "            print(\"Audio shape:\", waveform.shape)\n",
    "            print('Waveform shape:', waveform.shape)\n",
    "            # display(waveform)\n",
    "            print('Audio playback')\n",
    "            display.display(display.Audio(waveform, rate=sample_rate))\n",
    "\n",
    "            plt.figure(figsize=(16, 3))\n",
    "            plt.plot(waveform)\n",
    "            plt.title(label)\n",
    "            plt.yticks(np.arange(-1.2, 1.2, 0.2))\n",
    "            plt.ylim([-1.1, 1.1])\n",
    "            # Отображаем график после обработки\n",
    "            plt.show()"
   ],
   "outputs": []
  },
  {
   "cell_type": "code",
   "execution_count": null,
   "id": "7921d70a-97b5-459f-af15-636945d2134a",
   "metadata": {},
   "source": [],
   "outputs": []
  },
  {
   "cell_type": "code",
   "execution_count": null,
   "id": "3fd04864-85b0-4c6b-8481-399e71a7f4e3",
   "metadata": {},
   "source": [],
   "outputs": []
  }
 ],
 "metadata": {
  "kernelspec": {
   "display_name": "Python 3 (ipykernel)",
   "language": "python",
   "name": "python3"
  },
  "language_info": {
   "codemirror_mode": {
    "name": "ipython",
    "version": 3
   },
   "file_extension": ".py",
   "mimetype": "text/x-python",
   "name": "python",
   "nbconvert_exporter": "python",
   "pygments_lexer": "ipython3",
   "version": "3.9.18"
  }
 },
 "nbformat": 4,
 "nbformat_minor": 5
}
