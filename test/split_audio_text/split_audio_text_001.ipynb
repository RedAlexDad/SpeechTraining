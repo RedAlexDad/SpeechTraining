{
 "cells": [
  {
   "cell_type": "code",
   "execution_count": 1,
   "id": "ae45be2d-24b4-49f7-99f7-6ad70283299d",
   "metadata": {},
   "source": [
    "import os\n",
    "import librosa\n",
    "import soundfile as sf\n",
    "from pydub import AudioSegment\n",
    "from pydub.silence import split_on_silence\n",
    "from scipy.signal import medfilt\n",
    "\n",
    "from IPython import display\n",
    "import matplotlib.pyplot as plt\n",
    "import numpy as np\n",
    "import seaborn as sns\n",
    "import pathlib\n",
    "import librosa"
   ],
   "outputs": []
  },
  {
   "cell_type": "code",
   "execution_count": 2,
   "id": "e5b06a5b-a326-4bb7-8d5a-1f584631e661",
   "metadata": {},
   "source": [
    "def split_audio_text(data_folder, output_folder, max_files=None):\n",
    "    # Создаем каталог для сохранения файлов\n",
    "    os.makedirs(output_folder, exist_ok=True)\n",
    "\n",
    "    count_processed_files = 0\n",
    "\n",
    "    for root, dirs, files in os.walk(data_folder):\n",
    "        for file in files:\n",
    "            if file.endswith(\".txt\"):\n",
    "                text_path = os.path.join(root, file)\n",
    "                audio_path = text_path.replace(\".txt\", \".wav\")\n",
    "\n",
    "                # Извлекаем текст\n",
    "                with open(text_path, 'r', encoding='utf-8') as text_file:\n",
    "                    text = text_file.read().strip()\n",
    "\n",
    "                # Извлекаем аудио и сохраняем его\n",
    "                audio_signal, sr = librosa.load(audio_path, sr=None)\n",
    "\n",
    "                # Разделяем аудио на фрагменты\n",
    "                audio_segments = split_audio(audio_signal)\n",
    "\n",
    "                # Создаем подкаталоги для каждого слова\n",
    "                for word in text.split():\n",
    "                    word_folder = os.path.join(output_folder, word)\n",
    "                    os.makedirs(word_folder, exist_ok=True)\n",
    "\n",
    "                # Сохраняем фрагменты аудио в соответствующие папки\n",
    "                for i, segment in enumerate(audio_segments):\n",
    "                    word_folder = os.path.join(output_folder, text.split()[i])\n",
    "                    word_audio_path = os.path.join(word_folder, f\"{os.path.splitext(file)[0]}_{i+1}.wav\")\n",
    "                    segment.export(word_audio_path, format=\"wav\")\n",
    "\n",
    "                    # Сохраняем текст\n",
    "                    word_text_path = os.path.join(word_folder, f\"{os.path.splitext(file)[0]}_{i+1}.txt\")\n",
    "                    with open(word_text_path, 'w', encoding='utf-8') as word_text_file:\n",
    "                        word_text_file.write(text.split()[i])\n",
    "\n",
    "                count_processed_files += 1\n",
    "                if max_files is not None and count_processed_files >= max_files:\n",
    "                    return"
   ],
   "outputs": []
  },
  {
   "cell_type": "code",
   "execution_count": 3,
   "id": "ba653885-1a1a-4486-a1ea-255e282dd2af",
   "metadata": {},
   "source": [
    "def split_audio(audio_signal):\n",
    "    # Преобразуем в AudioSegment\n",
    "    audio_segment = AudioSegment(audio_signal.tobytes(), frame_rate=16000, sample_width=2, channels=1)\n",
    "\n",
    "    # Удаляем тишину и усиливаем сигнал\n",
    "    non_silent_audio = remove_silence(audio_segment)\n",
    "    amplified_audio = non_silent_audio + 10  # Может потребоваться настройка уровня усиления\n",
    "\n",
    "    # Разделяем аудио на фрагменты в зависимости от громкости\n",
    "    silence_threshold = amplified_audio.dBFS - 16\n",
    "    audio_segments = split_on_silence(amplified_audio, silence_thresh=silence_threshold, keep_silence=100)\n",
    "\n",
    "    return audio_segments"
   ],
   "outputs": []
  },
  {
   "cell_type": "code",
   "execution_count": 4,
   "id": "c411ba87-6e59-4533-b6fa-af2806588de3",
   "metadata": {},
   "source": [
    "def remove_silence(audio_segment):\n",
    "    # Удаляем тишину с использованием pydub\n",
    "    non_silent_audio = AudioSegment.silent(duration=1)\n",
    "    non_silent_audio += audio_segment\n",
    "    non_silent_audio = non_silent_audio.strip_silence(silence_len=100, silence_thresh=audio_segment.dBFS - 16)\n",
    "    return non_silent_audio"
   ],
   "outputs": []
  },
  {
   "cell_type": "code",
   "execution_count": 5,
   "id": "87b93fbe-158a-47de-adbd-774952b10aa2",
   "metadata": {},
   "source": [
    "# Замените пути к папкам на ваши\n",
    "data_folder_path = \"/home/redalexdad/recognition_speech/new_buriy_audiobooks_2_val\"\n",
    "output_folder_path = \"/home/redalexdad/recognition_speech/voice_split\""
   ],
   "outputs": []
  },
  {
   "cell_type": "code",
   "execution_count": 6,
   "id": "aeab7c2f-f3de-4729-91f6-c240ec77762d",
   "metadata": {},
   "source": [
    "split_audio_text(data_folder_path, output_folder_path, max_files=20)"
   ],
   "outputs": []
  },
  {
   "cell_type": "code",
   "execution_count": 6,
   "id": "ea09dc18-6b26-457b-8583-cfbcbe5e6917",
   "metadata": {},
   "source": [
    "data_dir = '/home/redalexdad/recognition_speech/voice_split'\n",
    "\n",
    "# label_names = []\n",
    "file_counter = 0  # Переменная для отслеживания количества обработанных файлов\n",
    "\n",
    "# Рекурсивно обходим все файлы и подкаталоги в корневом каталоге\n",
    "for root, dirs, files in os.walk(data_dir):\n",
    "    for file in files:\n",
    "        # Проверяем, что файл - звуковой файл\n",
    "        if file.endswith(\".wav\"):\n",
    "            # Увеличиваем счетчик обработанных файлов\n",
    "            file_counter += 1\n",
    "\n",
    "            # Проверяем, не превысило ли количество файлов 10\n",
    "            if file_counter > 10:\n",
    "                break\n",
    "\n",
    "            # Остальной код вашего скрипта остается без изменений\n",
    "            audio_file_path = os.path.join(root, file)\n",
    "            label = os.path.basename(root)\n",
    "            text_file_path = os.path.join(root, f\"{os.path.splitext(file)[0]}.txt\")\n",
    "\n",
    "            if not os.path.exists(text_file_path):\n",
    "                print(f\"No text file found for {audio_file_path}\")\n",
    "                continue\n",
    "\n",
    "            # Далее ваш код для чтения текста и вывода информации о звуке\n",
    "            print(f\"Label {label}\")\n",
    "            waveform, sample_rate = librosa.load(audio_file_path, sr=None)\n",
    "\n",
    "            print(\"Audio shape:\", waveform.shape)\n",
    "            print('Waveform shape:', waveform.shape)\n",
    "            # display(waveform)\n",
    "            print('Audio playback')\n",
    "            display.display(display.Audio(waveform, rate=sample_rate))\n",
    "\n",
    "            plt.figure(figsize=(16, 3))\n",
    "            plt.plot(waveform)\n",
    "            plt.title(label)\n",
    "            plt.yticks(np.arange(-1.2, 1.2, 0.2))\n",
    "            plt.ylim([-1.1, 1.1])\n",
    "            # Отображаем график после обработки\n",
    "            plt.show()"
   ],
   "outputs": []
  },
  {
   "cell_type": "code",
   "execution_count": null,
   "id": "7921d70a-97b5-459f-af15-636945d2134a",
   "metadata": {},
   "source": [],
   "outputs": []
  },
  {
   "cell_type": "code",
   "execution_count": null,
   "id": "3fd04864-85b0-4c6b-8481-399e71a7f4e3",
   "metadata": {},
   "source": [],
   "outputs": []
  }
 ],
 "metadata": {
  "kernelspec": {
   "display_name": "Python 3 (ipykernel)",
   "language": "python",
   "name": "python3"
  },
  "language_info": {
   "codemirror_mode": {
    "name": "ipython",
    "version": 3
   },
   "file_extension": ".py",
   "mimetype": "text/x-python",
   "name": "python",
   "nbconvert_exporter": "python",
   "pygments_lexer": "ipython3",
   "version": "3.9.18"
  }
 },
 "nbformat": 4,
 "nbformat_minor": 5
}
