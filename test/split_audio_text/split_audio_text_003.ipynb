{
 "cells": [
  {
   "cell_type": "code",
   "execution_count": 1,
   "id": "ae45be2d-24b4-49f7-99f7-6ad70283299d",
   "metadata": {},
   "source": [
    "import os\n",
    "from pydub import AudioSegment\n",
    "import speech_recognition as sr"
   ],
   "outputs": []
  },
  {
   "cell_type": "code",
   "execution_count": 2,
   "id": "6aa54d4a-555a-417e-8910-129bd577d123",
   "metadata": {},
   "source": [
    "def get_text_from_audio(file_path):\n",
    "    recognizer = sr.Recognizer()\n",
    "\n",
    "    with sr.AudioFile(file_path) as source:\n",
    "        audio_data = recognizer.record(source)\n",
    "        text = recognizer.recognize_google(audio_data, language=\"ru-RU\")\n",
    "\n",
    "    return text"
   ],
   "outputs": []
  },
  {
   "cell_type": "code",
   "execution_count": 3,
   "id": "e5b06a5b-a326-4bb7-8d5a-1f584631e661",
   "metadata": {},
   "source": [
    "def split_audio_by_words(input_folder, output_folder, max_files=None):\n",
    "    for root, dirs, files in os.walk(input_folder):\n",
    "        for file in files:\n",
    "            if file.endswith(\".wav\"):\n",
    "                file_path = os.path.join(root, file)\n",
    "\n",
    "                # Загрузка аудиофайла\n",
    "                audio = AudioSegment.from_wav(file_path)\n",
    "\n",
    "                # Извлечение текста из аудио\n",
    "                full_text = get_text_from_audio(file_path)\n",
    "\n",
    "                # Создание папки для результатов\n",
    "                for word in full_text.split():\n",
    "                    result_folder = os.path.join(output_folder, word)\n",
    "                    os.makedirs(result_folder, exist_ok=True)\n",
    "\n",
    "                    # Ограничение до max_files файлов, если указано\n",
    "                    for i, (word_start, word_end) in enumerate(find_word_boundaries(audio, word)[:max_files]):\n",
    "                        audio_part = audio[word_start:word_end]\n",
    "                        txt_file = os.path.join(result_folder, f\"{word}.txt\")\n",
    "                        wav_file = os.path.join(result_folder, f\"{word}.wav\")\n",
    "\n",
    "                        # Сохранение текста в файл\n",
    "                        with open(txt_file, 'w') as txt:\n",
    "                            txt.write(full_text)\n",
    "\n",
    "                        # Сохранение аудиофайла\n",
    "                        audio_part.export(wav_file, format=\"wav\")"
   ],
   "outputs": []
  },
  {
   "cell_type": "code",
   "execution_count": 4,
   "id": "10f005db-b8bd-4645-be29-cff100aeef5f",
   "metadata": {},
   "source": [
    "def find_word_boundaries(audio, word):\n",
    "    word_start = 0\n",
    "    word_end = 0\n",
    "    boundaries = []\n",
    "\n",
    "    for i, chunk in enumerate(audio):\n",
    "        if i == len(audio) - 1:\n",
    "            boundaries.append((word_start, word_end))\n",
    "            break\n",
    "\n",
    "        # Проверка перехода между словами\n",
    "        if chunk.dBFS < -40:\n",
    "            if word_start != word_end:\n",
    "                boundaries.append((word_start, word_end))\n",
    "            word_start = i + 1\n",
    "            word_end = i + 1\n",
    "        else:\n",
    "            word_end += 1\n",
    "\n",
    "    return boundaries"
   ],
   "outputs": []
  },
  {
   "cell_type": "code",
   "execution_count": 5,
   "id": "87b93fbe-158a-47de-adbd-774952b10aa2",
   "metadata": {},
   "source": [
    "# Замените пути к папкам на ваши\n",
    "input_folder = \"/home/redalexdad/recognition_speech/new_buriy_audiobooks_2_val\"\n",
    "output_folder = \"/home/redalexdad/recognition_speech/voice_split\""
   ],
   "outputs": []
  },
  {
   "cell_type": "code",
   "execution_count": 6,
   "id": "aeab7c2f-f3de-4729-91f6-c240ec77762d",
   "metadata": {},
   "source": [
    "split_audio_by_words(input_folder, output_folder, max_files=10)"
   ],
   "outputs": []
  },
  {
   "cell_type": "code",
   "execution_count": 11,
   "id": "03c96c8c-b65f-42e1-987a-ed8534389ccd",
   "metadata": {},
   "source": [
    "from IPython import display\n",
    "import librosa\n",
    "import matplotlib.pyplot as plt\n",
    "import numpy as np"
   ],
   "outputs": []
  },
  {
   "cell_type": "code",
   "execution_count": 13,
   "id": "ea09dc18-6b26-457b-8583-cfbcbe5e6917",
   "metadata": {},
   "source": [
    "data_dir = '/home/redalexdad/recognition_speech/voice_split'\n",
    "\n",
    "# label_names = []\n",
    "file_counter = 0  # Переменная для отслеживания количества обработанных файлов\n",
    "\n",
    "# Рекурсивно обходим все файлы и подкаталоги в корневом каталоге\n",
    "for root, dirs, files in os.walk(data_dir):\n",
    "    for file in files:\n",
    "        # Проверяем, что файл - звуковой файл\n",
    "        if file.endswith(\".wav\"):\n",
    "            # Увеличиваем счетчик обработанных файлов\n",
    "            file_counter += 1\n",
    "\n",
    "            # Проверяем, не превысило ли количество файлов 10\n",
    "            if file_counter > 30:\n",
    "                break\n",
    "\n",
    "            # Остальной код вашего скрипта остается без изменений\n",
    "            audio_file_path = os.path.join(root, file)\n",
    "            label = os.path.basename(root)\n",
    "            text_file_path = os.path.join(root, f\"{os.path.splitext(file)[0]}.txt\")\n",
    "\n",
    "            if not os.path.exists(text_file_path):\n",
    "                print(f\"No text file found for {audio_file_path}\")\n",
    "                continue\n",
    "\n",
    "            # Далее ваш код для чтения текста и вывода информации о звуке\n",
    "            print(f\"Label {label}\")\n",
    "            waveform, sample_rate = librosa.load(audio_file_path, sr=None)\n",
    "\n",
    "            print(\"Audio shape:\", waveform.shape)\n",
    "            print('Waveform shape:', waveform.shape)\n",
    "            # display(waveform)\n",
    "            print('Audio playback')\n",
    "            display.display(display.Audio(waveform, rate=sample_rate))\n",
    "\n",
    "            plt.figure(figsize=(16, 3))\n",
    "            plt.plot(waveform)\n",
    "            plt.title(label)\n",
    "            plt.yticks(np.arange(-1.2, 1.2, 0.2))\n",
    "            plt.ylim([-1.1, 1.1])\n",
    "            # Отображаем график после обработки\n",
    "            plt.show()"
   ],
   "outputs": []
  },
  {
   "cell_type": "code",
   "execution_count": null,
   "id": "7921d70a-97b5-459f-af15-636945d2134a",
   "metadata": {},
   "source": [],
   "outputs": []
  },
  {
   "cell_type": "code",
   "execution_count": null,
   "id": "3fd04864-85b0-4c6b-8481-399e71a7f4e3",
   "metadata": {},
   "source": [],
   "outputs": []
  }
 ],
 "metadata": {
  "kernelspec": {
   "display_name": "Python 3 (ipykernel)",
   "language": "python",
   "name": "python3"
  },
  "language_info": {
   "codemirror_mode": {
    "name": "ipython",
    "version": 3
   },
   "file_extension": ".py",
   "mimetype": "text/x-python",
   "name": "python",
   "nbconvert_exporter": "python",
   "pygments_lexer": "ipython3",
   "version": "3.9.18"
  }
 },
 "nbformat": 4,
 "nbformat_minor": 5
}
