{
 "cells": [
  {
   "cell_type": "markdown",
   "id": "94d2e6e2-05f0-4f0c-b409-a1b98beb7928",
   "metadata": {},
   "source": [
    "# wav2vec2-mbart50-ru"
   ]
  },
  {
   "cell_type": "markdown",
   "id": "f8e7a2bf-f65c-4544-9760-755ade4a9c9e",
   "metadata": {},
   "source": [
    "##### https://huggingface.co/bond005/wav2vec2-mbart50-ru"
   ]
  },
  {
   "cell_type": "code",
   "execution_count": 2,
   "id": "146739e0-86ce-45fb-b841-5cf34fa6767c",
   "metadata": {},
   "outputs": [],
   "source": [
    "import os\n",
    "import warnings\n",
    "\n",
    "import torch\n",
    "from datasets import load_dataset, load_from_disk\n",
    "from datasets.features import Audio\n",
    "from transformers import SpeechEncoderDecoderModel, Wav2Vec2Processor\n",
    "\n",
    "import torchaudio"
   ]
  },
  {
   "cell_type": "code",
   "execution_count": 3,
   "id": "1e720dc3-058f-43a2-a542-7d497dcccb20",
   "metadata": {},
   "outputs": [],
   "source": [
    "LANG_ID = \"ru\"\n",
    "MODEL_ID = \"bond005/wav2vec2-mbart50-ru\"\n",
    "PATH_MODEL = '/home/redalexdad/recognition_speech/wav2vec2-mbart50-ru'\n",
    "# Кол-во текстов для предсказания\n",
    "SAMPLES = 10"
   ]
  },
  {
   "cell_type": "code",
   "execution_count": 4,
   "id": "2db1bd2e-5897-41f3-9a1f-47cd2f350e94",
   "metadata": {},
   "outputs": [],
   "source": [
    "num_processes = max(1, os.cpu_count())"
   ]
  },
  {
   "cell_type": "code",
   "execution_count": 5,
   "id": "2ca3bd4a-224b-4d21-ba6e-fc4690dd18c9",
   "metadata": {},
   "outputs": [
    {
     "name": "stdout",
     "output_type": "stream",
     "text": [
      "Успешно модель загружена\n",
      "CPU times: user 14.3 s, sys: 6.13 s, total: 20.4 s\n",
      "Wall time: 45.1 s\n"
     ]
    }
   ],
   "source": [
    "%%time\n",
    "# Проверка наличия модели в локальном пути\n",
    "if os.path.exists(PATH_MODEL):\n",
    "    # Загрузка процессора из локального пути\n",
    "    processor = Wav2Vec2Processor.from_pretrained(PATH_MODEL)\n",
    "    \n",
    "    # Загрузка модели из локального пути\n",
    "    model = SpeechEncoderDecoderModel.from_pretrained(PATH_MODEL)\n",
    "    print('Успешно модель загружена')\n",
    "else:\n",
    "    # Загрузка процессора из сети и сохранение в локальный путь\n",
    "    processor = Wav2Vec2Processor.from_pretrained(MODEL_ID)\n",
    "    processor.save_pretrained(PATH_MODEL)\n",
    "    \n",
    "    # Загрузка модели из сети и сохранение в локальный путь\n",
    "    model = SpeechEncoderDecoderModel.from_pretrained(MODEL_ID)\n",
    "    model.save_pretrained(PATH_MODEL)\n",
    "    print(f'Успешно модель скачана и сохранена в пути {PATH_MODEL}')"
   ]
  },
  {
   "cell_type": "code",
   "execution_count": 6,
   "id": "8691f3ca-0552-4d09-a78d-f17581130ce0",
   "metadata": {},
   "outputs": [
    {
     "name": "stdout",
     "output_type": "stream",
     "text": [
      "CPU times: user 430 ms, sys: 81.6 ms, total: 512 ms\n",
      "Wall time: 5.42 s\n"
     ]
    }
   ],
   "source": [
    "%%time\n",
    "test_dataset = load_dataset(\"mozilla-foundation/common_voice_11_0\", LANG_ID, split=f\"test[:{SAMPLES}]\", trust_remote_code=True)"
   ]
  },
  {
   "cell_type": "code",
   "execution_count": 7,
   "id": "7cebb5e3-e88c-4bb5-9837-1a15b8b05370",
   "metadata": {},
   "outputs": [],
   "source": [
    "# Путь к звуковому файлу\n",
    "# audio_file_path = '/home/redalexdad/recognition_speech/RUSLAN/000000_RUSLAN.wav'\n",
    "\n",
    "audio_file_path = '/home/redalexdad/recognition_speech/buriy_audiobooks_2_val/0/00/47d11d73f818.wav'\n",
    "text_file_path = '/home/redalexdad/recognition_speech/buriy_audiobooks_2_val/0/00/47d11d73f818.txt'"
   ]
  },
  {
   "cell_type": "code",
   "execution_count": 8,
   "id": "608f17c1-08c6-4156-9741-96575aa3929f",
   "metadata": {},
   "outputs": [
    {
     "name": "stdout",
     "output_type": "stream",
     "text": [
      "мы благодарны вам господин ренд\n",
      "\n"
     ]
    }
   ],
   "source": [
    "# Открываем файл в режиме чтения\n",
    "with open(text_file_path, 'r', encoding='utf-8') as file:\n",
    "    # Читаем содержимое файла\n",
    "    content = file.read()\n",
    "    print(content)"
   ]
  },
  {
   "cell_type": "code",
   "execution_count": 9,
   "id": "a9dd10dc-9533-4a66-be11-b23b9e7314a9",
   "metadata": {},
   "outputs": [
    {
     "name": "stdout",
     "output_type": "stream",
     "text": [
      "CPU times: user 0 ns, sys: 3.03 ms, total: 3.03 ms\n",
      "Wall time: 98.9 ms\n"
     ]
    }
   ],
   "source": [
    "%%time\n",
    "# Загрузим аудиофайл с использованием torchaudio\n",
    "waveform, sample_rate = torchaudio.load(audio_file_path, normalize=True)"
   ]
  },
  {
   "cell_type": "code",
   "execution_count": 13,
   "id": "fa6d1e21-8df8-4836-970f-6c7acc161806",
   "metadata": {},
   "outputs": [
    {
     "name": "stdout",
     "output_type": "stream",
     "text": [
      "CPU times: user 23.6 ms, sys: 0 ns, total: 23.6 ms\n",
      "Wall time: 17 ms\n"
     ]
    }
   ],
   "source": [
    "%%time\n",
    "# Проведем ресэмплирование, если частота дискретизации отличается от 16000 Гц\n",
    "if sample_rate != 16000:\n",
    "    waveform = torchaudio.transforms.Resample(sample_rate, 16000)(waveform)"
   ]
  },
  {
   "cell_type": "code",
   "execution_count": 10,
   "id": "fc115ffb-c660-4378-bf89-0c47634fad64",
   "metadata": {},
   "outputs": [
    {
     "name": "stderr",
     "output_type": "stream",
     "text": [
      "2024-03-08 21:11:15.463600: E external/local_xla/xla/stream_executor/cuda/cuda_dnn.cc:9261] Unable to register cuDNN factory: Attempting to register factory for plugin cuDNN when one has already been registered\n",
      "2024-03-08 21:11:15.463673: E external/local_xla/xla/stream_executor/cuda/cuda_fft.cc:607] Unable to register cuFFT factory: Attempting to register factory for plugin cuFFT when one has already been registered\n",
      "2024-03-08 21:11:15.630446: E external/local_xla/xla/stream_executor/cuda/cuda_blas.cc:1515] Unable to register cuBLAS factory: Attempting to register factory for plugin cuBLAS when one has already been registered\n",
      "2024-03-08 21:11:15.978401: I tensorflow/core/platform/cpu_feature_guard.cc:182] This TensorFlow binary is optimized to use available CPU instructions in performance-critical operations.\n",
      "To enable the following instructions: AVX2 FMA, in other operations, rebuild TensorFlow with the appropriate compiler flags.\n",
      "2024-03-08 21:11:17.687946: W tensorflow/compiler/tf2tensorrt/utils/py_utils.cc:38] TF-TRT Warning: Could not find TensorRT\n"
     ]
    },
    {
     "name": "stdout",
     "output_type": "stream",
     "text": [
      "CPU times: user 1.95 s, sys: 528 ms, total: 2.48 s\n",
      "Wall time: 5.91 s\n"
     ]
    }
   ],
   "source": [
    "%%time\n",
    "# Предобработка аудиофайла с использованием Wav2Vec2Processor\n",
    "processed = processor(waveform.numpy(), sampling_rate=16000, return_tensors=\"pt\", padding='longest')"
   ]
  },
  {
   "cell_type": "code",
   "execution_count": 11,
   "id": "763eef94-86e9-45d7-b087-5e6cbdab4cdf",
   "metadata": {},
   "outputs": [
    {
     "name": "stdout",
     "output_type": "stream",
     "text": [
      "CPU times: user 37 s, sys: 16.7 ms, total: 37 s\n",
      "Wall time: 5.08 s\n"
     ]
    }
   ],
   "source": [
    "%%time\n",
    "with torch.no_grad():\n",
    "    predicted_ids = model.generate(**processed)"
   ]
  },
  {
   "cell_type": "code",
   "execution_count": 12,
   "id": "ae3ab31e-7ccd-43b1-bedd-01ad592a42db",
   "metadata": {},
   "outputs": [],
   "source": [
    "predicted_sentences = processor.batch_decode(\n",
    "    predicted_ids,\n",
    "    num_processes=num_processes,\n",
    "    skip_special_tokens=True\n",
    ")[0]"
   ]
  },
  {
   "cell_type": "code",
   "execution_count": 13,
   "id": "006fde7d-17b8-4716-88ad-831f3cf4a206",
   "metadata": {},
   "outputs": [
    {
     "name": "stdout",
     "output_type": "stream",
     "text": [
      "----------------------------------------------------------------------------------------------------\n",
      "Reference: мы благодарны вам господин ренд\n",
      "\n",
      "Prediction: Мы благодарны Вам, господин Ле.\n",
      "----------------------------------------------------------------------------------------------------\n"
     ]
    }
   ],
   "source": [
    "# Вывод результатов\n",
    "print(\"-\" * 100)\n",
    "print(\"Reference:\", content)\n",
    "print(\"Prediction:\", predicted_sentences)\n",
    "print(\"-\" * 100)"
   ]
  },
  {
   "cell_type": "code",
   "execution_count": null,
   "id": "a8333f54-83ff-4f55-89b5-8a155077d2ec",
   "metadata": {},
   "outputs": [],
   "source": []
  }
 ],
 "metadata": {
  "kernelspec": {
   "display_name": "Python 3 (ipykernel)",
   "language": "python",
   "name": "python3"
  },
  "language_info": {
   "codemirror_mode": {
    "name": "ipython",
    "version": 3
   },
   "file_extension": ".py",
   "mimetype": "text/x-python",
   "name": "python",
   "nbconvert_exporter": "python",
   "pygments_lexer": "ipython3",
   "version": "3.9.18"
  }
 },
 "nbformat": 4,
 "nbformat_minor": 5
}
