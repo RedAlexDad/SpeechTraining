{
 "cells": [
  {
   "cell_type": "markdown",
   "id": "6c7d1df3-8a4b-4bac-a216-d13222530c21",
   "metadata": {},
   "source": [
    "# wav2vec2-mbart50-ru"
   ]
  },
  {
   "cell_type": "markdown",
   "id": "dfbc46fc-178d-4410-a823-f50eefa8b857",
   "metadata": {},
   "source": [
    "##### https://huggingface.co/bond005/wav2vec2-mbart50-ru"
   ]
  },
  {
   "cell_type": "markdown",
   "id": "3b7e2a01-a376-4216-8d65-393b8dd4c01e",
   "metadata": {},
   "source": [
    "`Wav2Vec2-mBART-50-Ru` - это модель преобразования последовательности речи в тестовую последовательность, которая может преобразовывать входное аудио с русской речью в текст с пунктуацией, заглавными буквами и так далее.\n",
    "\n",
    "`Wav2Vec2-mBART-50-Ru` - это модель декодера речевого кодера, которая была инициализирована с помощью `Wav2Vec2-Large-Ru-Golos` в качестве кодера и `mBART-large-50` в качестве декодера. После инициализации модель была точно настроена с использованием обучающей части нескольких аннотированных речевых корпусов:\n",
    "\n",
    "- the 10 hours crowd subset of SberDevices Golos\n",
    "- the 100 hours farfield subset of SberDevices Golos\n",
    "- the Russian subset of Common Voice 6.0\n",
    "- Sova RuDevices\n",
    "- 15% part of the training subset of Russian Librispeech"
   ]
  },
  {
   "cell_type": "markdown",
   "id": "1fd0c6de-44a3-4694-b56c-c388c3c0fa73",
   "metadata": {},
   "source": [
    "Как и видим, что модель обучена на датасетах сбербанка, поэтому будем проверить метрику WER и CER на других датасетах"
   ]
  },
  {
   "cell_type": "markdown",
   "id": "322b2939-9af9-452d-85f4-03564cd2632a",
   "metadata": {},
   "source": [
    "## Подключение библиотеки"
   ]
  },
  {
   "cell_type": "code",
   "execution_count": 1,
   "id": "146739e0-86ce-45fb-b841-5cf34fa6767c",
   "metadata": {},
   "outputs": [],
   "source": [
    "import os\n",
    "import warnings\n",
    "\n",
    "import torch\n",
    "from datasets import load_dataset, load_from_disk\n",
    "from datasets.features import Audio\n",
    "from transformers import SpeechEncoderDecoderModel, Wav2Vec2Processor\n",
    "import pandas as pd\n",
    "\n",
    "# Для теста WER - Word Error Rate\n",
    "# CER - Character Error Rate\n",
    "# MER - Match Error Rate\n",
    "# WIL - Word Information Lost\n",
    "from jiwer import wer, cer, mer, wil"
   ]
  },
  {
   "cell_type": "code",
   "execution_count": 2,
   "id": "1e720dc3-058f-43a2-a542-7d497dcccb20",
   "metadata": {},
   "outputs": [],
   "source": [
    "LANG_ID = \"ru\"\n",
    "MODEL_ID = \"bond005/wav2vec2-mbart50-ru\"\n",
    "PATH_MODEL = '/home/redalexdad/recognition_speech/wav2vec2-mbart50-ru'\n",
    "# Кол-во текстов для предсказания\n",
    "SAMPLES = 25"
   ]
  },
  {
   "cell_type": "code",
   "execution_count": 3,
   "id": "2db1bd2e-5897-41f3-9a1f-47cd2f350e94",
   "metadata": {},
   "outputs": [],
   "source": [
    "num_processes = max(1, os.cpu_count())"
   ]
  },
  {
   "cell_type": "markdown",
   "id": "2f3843b7-633b-4134-a3dc-30fb4a63624e",
   "metadata": {},
   "source": [
    "## Использование CUDA"
   ]
  },
  {
   "cell_type": "code",
   "execution_count": 4,
   "id": "e814f6a8-5cca-4fd0-8bc6-f8f895679234",
   "metadata": {},
   "outputs": [],
   "source": [
    "# Проверка доступности GPU\n",
    "device = torch.device(\"cuda\" if torch.cuda.is_available() else \"cpu\")"
   ]
  },
  {
   "cell_type": "code",
   "execution_count": 5,
   "id": "40a7af84-8e25-4240-ac6c-bb57fe5d2452",
   "metadata": {},
   "outputs": [
    {
     "name": "stdout",
     "output_type": "stream",
     "text": [
      "Using device: cuda\n"
     ]
    }
   ],
   "source": [
    "print(f\"Using device: {device}\")"
   ]
  },
  {
   "cell_type": "code",
   "execution_count": 6,
   "id": "5b430d17-39ee-4bc8-ba56-c2b636bb4af5",
   "metadata": {},
   "outputs": [],
   "source": [
    "device = 'cpu'\n",
    "# Устанавливает максимальное количество доступной видеопамяти (например, 75%)\n",
    "# torch.cuda.set_per_process_memory_fraction(0.75)  \n",
    "# Включает динамическое выделение памяти на GPU\n",
    "# torch.cuda.set_per_process_memory_growth(True)  "
   ]
  },
  {
   "cell_type": "markdown",
   "id": "3122c7cd-6641-43e3-b627-0508d1bfe3e4",
   "metadata": {},
   "source": [
    "Не загружаем модель через CUDA, памяти не хватило\n",
    "\n",
    "`RuntimeError: CUDA out of memory. Tried to allocate 16.00 MiB (GPU 0; 3.63 GiB total capacity; 2.56 GiB already allocated; 7.12 MiB free; 2.58 GiB reserved in total by PyTorch) If reserved memory is >> allocated memory try setting max_split_size_mb to avoid fragmentation.  See documentation for Memory Management and PYTORCH_CUDA_ALLOC_CONF`"
   ]
  },
  {
   "cell_type": "code",
   "execution_count": 7,
   "id": "6eb79a93-3b20-4aea-8855-9089bcf23274",
   "metadata": {},
   "outputs": [],
   "source": [
    "# Создадим датафрейм, который будет собирать данные и сохранять\n",
    "info = pd.DataFrame()"
   ]
  },
  {
   "cell_type": "markdown",
   "id": "bbbbef4f-889c-46c7-80e1-89e5f80da6e1",
   "metadata": {},
   "source": [
    "## Загрузка модели"
   ]
  },
  {
   "cell_type": "code",
   "execution_count": 8,
   "id": "2ca3bd4a-224b-4d21-ba6e-fc4690dd18c9",
   "metadata": {},
   "outputs": [
    {
     "name": "stdout",
     "output_type": "stream",
     "text": [
      "Успешно модель загружена\n",
      "CPU times: user 13.4 s, sys: 4.16 s, total: 17.5 s\n",
      "Wall time: 39.2 s\n"
     ]
    }
   ],
   "source": [
    "%%time\n",
    "torch.cuda.empty_cache()\n",
    "\n",
    "# Проверка наличия модели в локальном пути\n",
    "if os.path.exists(PATH_MODEL):\n",
    "    # Загрузка процессора из локального пути\n",
    "    processor = Wav2Vec2Processor.from_pretrained(PATH_MODEL)\n",
    "    \n",
    "    # Загрузка модели из локального пути\n",
    "    model = SpeechEncoderDecoderModel.from_pretrained(PATH_MODEL).to(device)\n",
    "    print('Успешно модель загружена')\n",
    "else:\n",
    "    # Загрузка процессора из сети и сохранение в локальный путь\n",
    "    processor = Wav2Vec2Processor.from_pretrained(MODEL_ID)\n",
    "    processor.save_pretrained(PATH_MODEL)\n",
    "    \n",
    "    # Загрузка модели из сети и сохранение в локальный путь\n",
    "    model = SpeechEncoderDecoderModel.from_pretrained(MODEL_ID).to(device)\n",
    "    model.save_pretrained(PATH_MODEL)\n",
    "    print(f'Успешно модель скачана и сохранена в пути {PATH_MODEL}')"
   ]
  },
  {
   "cell_type": "markdown",
   "id": "58722195-b8d5-4a08-944d-84fa851f25c8",
   "metadata": {},
   "source": [
    "## Загрузка датасета `common_voice_11_0`"
   ]
  },
  {
   "cell_type": "code",
   "execution_count": 9,
   "id": "8691f3ca-0552-4d09-a78d-f17581130ce0",
   "metadata": {},
   "outputs": [
    {
     "name": "stdout",
     "output_type": "stream",
     "text": [
      "CPU times: user 425 ms, sys: 51.9 ms, total: 477 ms\n",
      "Wall time: 7.61 s\n"
     ]
    }
   ],
   "source": [
    "%%time\n",
    "test_dataset_cv_11 = load_dataset(\"mozilla-foundation/common_voice_11_0\", LANG_ID, split=f\"test[:{SAMPLES}]\", trust_remote_code=True)"
   ]
  },
  {
   "cell_type": "code",
   "execution_count": 10,
   "id": "7cebb5e3-e88c-4bb5-9837-1a15b8b05370",
   "metadata": {},
   "outputs": [],
   "source": [
    "if test_dataset_cv_11.features['audio'].sampling_rate != 16_000:\n",
    "    test_dataset_cv_11 = test_dataset_cv_11.cast_column(\n",
    "        'audio',\n",
    "        Audio(sampling_rate=16_000)\n",
    "    )"
   ]
  },
  {
   "cell_type": "code",
   "execution_count": 11,
   "id": "9ccceb07-5fa8-4003-82e4-7f798149947d",
   "metadata": {},
   "outputs": [],
   "source": [
    "# Освобождаем памяти \n",
    "torch.cuda.empty_cache()"
   ]
  },
  {
   "cell_type": "code",
   "execution_count": 12,
   "id": "a9dd10dc-9533-4a66-be11-b23b9e7314a9",
   "metadata": {},
   "outputs": [
    {
     "name": "stderr",
     "output_type": "stream",
     "text": [
      "2024-03-10 21:09:40.757521: E external/local_xla/xla/stream_executor/cuda/cuda_dnn.cc:9261] Unable to register cuDNN factory: Attempting to register factory for plugin cuDNN when one has already been registered\n",
      "2024-03-10 21:09:40.757644: E external/local_xla/xla/stream_executor/cuda/cuda_fft.cc:607] Unable to register cuFFT factory: Attempting to register factory for plugin cuFFT when one has already been registered\n",
      "2024-03-10 21:09:40.944454: E external/local_xla/xla/stream_executor/cuda/cuda_blas.cc:1515] Unable to register cuBLAS factory: Attempting to register factory for plugin cuBLAS when one has already been registered\n",
      "2024-03-10 21:09:41.317060: I tensorflow/core/platform/cpu_feature_guard.cc:182] This TensorFlow binary is optimized to use available CPU instructions in performance-critical operations.\n",
      "To enable the following instructions: AVX2 FMA, in other operations, rebuild TensorFlow with the appropriate compiler flags.\n",
      "2024-03-10 21:09:42.836710: W tensorflow/compiler/tf2tensorrt/utils/py_utils.cc:38] TF-TRT Warning: Could not find TensorRT\n"
     ]
    },
    {
     "name": "stdout",
     "output_type": "stream",
     "text": [
      "CPU times: user 2.89 s, sys: 566 ms, total: 3.45 s\n",
      "Wall time: 8.27 s\n"
     ]
    }
   ],
   "source": [
    "%%time\n",
    "audio_data = [test_dataset_cv_11[i]['audio']['array'] for i in range(SAMPLES)]\n",
    "\n",
    "processed = processor(audio_data, sampling_rate=16_000, return_tensors=\"pt\", padding='longest').to(device)"
   ]
  },
  {
   "cell_type": "markdown",
   "id": "cf9694a0-fd60-4b35-b443-1fa49beabe04",
   "metadata": {},
   "source": [
    "### Предсказание"
   ]
  },
  {
   "cell_type": "code",
   "execution_count": 13,
   "id": "2a5a791c-a314-4902-82f0-ab2fb23f98de",
   "metadata": {},
   "outputs": [
    {
     "name": "stdout",
     "output_type": "stream",
     "text": [
      "CPU times: user 12min 11s, sys: 28.7 s, total: 12min 39s\n",
      "Wall time: 1min 44s\n"
     ]
    }
   ],
   "source": [
    "%%time\n",
    "try:\n",
    "    # Включение вычислений на GPU, если возможно\n",
    "    with torch.cuda.amp.autocast():\n",
    "        # Генерация предсказаний на GPU\n",
    "        predicted_ids = model.generate(**processed)\n",
    "    \n",
    "    # Перемещение предсказаний обратно на CPU для декодирования\n",
    "    predicted_ids = predicted_ids.to(\"cpu\")\n",
    "except Exception as error:\n",
    "    with torch.no_grad():\n",
    "        predicted_ids = model.generate(**processed)\n",
    "\n",
    "    print('ERROR: ', error)"
   ]
  },
  {
   "cell_type": "code",
   "execution_count": 14,
   "id": "ae3ab31e-7ccd-43b1-bedd-01ad592a42db",
   "metadata": {},
   "outputs": [],
   "source": [
    "predicted_sentences = processor.batch_decode(\n",
    "    predicted_ids,\n",
    "    num_processes=num_processes,\n",
    "    skip_special_tokens=True\n",
    ")"
   ]
  },
  {
   "cell_type": "markdown",
   "id": "61b2cde5-b141-4dd0-b8b3-f553d7ba7137",
   "metadata": {},
   "source": [
    "### Вывод результатов"
   ]
  },
  {
   "cell_type": "code",
   "execution_count": 15,
   "id": "006fde7d-17b8-4716-88ad-831f3cf4a206",
   "metadata": {
    "scrolled": true
   },
   "outputs": [
    {
     "name": "stdout",
     "output_type": "stream",
     "text": [
      "----------------------------------------------------------------------------------------------------\n",
      "Reference:  К сожалению, эти предложения не нашли отражения в тексте.\n",
      "Prediction: К сожалению, эти предложения не нашли отражения в тексте.\n",
      "----------------------------------------------------------------------------------------------------\n",
      "Reference:  Если не будет возражений, я буду считать, что Ассамблея согласна с этим предложением.\n",
      "Prediction: Если не будет возражений, я буду считать, что Ассамблея согласна с этим предложением.\n",
      "----------------------------------------------------------------------------------------------------\n",
      "Reference:  Новошахтинск — милый город\n",
      "Prediction: Новошахтинске милый город.\n",
      "----------------------------------------------------------------------------------------------------\n",
      "Reference:  Мы особенно рады отметить, что число скрывающихся от правосудия лиц уменьшилось.\n",
      "Prediction: Мы все равно рады отметить, что число, в том числе в Таиланде, по совещанию Дудицы меньше.\n",
      "----------------------------------------------------------------------------------------------------\n",
      "Reference:  Контроллер\n",
      "Prediction: контролёр!\n",
      "----------------------------------------------------------------------------------------------------\n",
      "Reference:  Создание устойчивых обществ требует от нас готовности на всех уровнях.\n",
      "Prediction: Создание устойчивых обществ требует от нас готовности на всех уровнях.\n",
      "----------------------------------------------------------------------------------------------------\n",
      "Reference:  Нет, я не вижу, почему это не может быть новая сила, если она....\n",
      "Prediction: Нет, я не вижу, почему это — не может быть, и новая сила, если она.\n",
      "----------------------------------------------------------------------------------------------------\n",
      "Reference:  Палестинцам необходимо сначала установить мир с Израилем, а затем добиваться признания государственности.\n",
      "Prediction: Палестинцам необходимо сначала установить с ним мир, с израильтьем, а затем добиваться признания государственности.\n",
      "----------------------------------------------------------------------------------------------------\n",
      "Reference:  Наталия\n",
      "Prediction: Наталья!\n",
      "----------------------------------------------------------------------------------------------------\n",
      "Reference:  И главное, переговори с ней.\n",
      "Prediction: И главное — переговорить с ним.\n",
      "----------------------------------------------------------------------------------------------------\n",
      "Reference:  – Мне надоели твои ночные похождения, – говорил Георгий.\n",
      "Prediction: Мне надоели твои ночные похождения, – говорил Георгий.\n",
      "----------------------------------------------------------------------------------------------------\n",
      "Reference:  У меня было такое чувство, что что-то такое очень важное я прибавляю.\n",
      "Prediction: У меня было такое чувство, что кто-то такой очень важной, я добавляю.\n",
      "----------------------------------------------------------------------------------------------------\n",
      "Reference:  Я ведь добрый-добрый.\n",
      "Prediction: Я ведь добрый добрый!\n",
      "----------------------------------------------------------------------------------------------------\n",
      "Reference:  Ей можно было жалеть о себе, но не ему о ней.\n",
      "Prediction: Ей можно было жалеть о себе, но не ему о ней.\n",
      "----------------------------------------------------------------------------------------------------\n",
      "Reference:  Нашей неотложной задачей должно стать выполнение соответствующих обязательств в отношении совместных действий.\n",
      "Prediction: Наши неотложные задачи должно стать выполнением соответствующих обязательств в отношении совместных действий.\n",
      "----------------------------------------------------------------------------------------------------\n",
      "Reference:  Две недели тому назад было получено кающееся письмо Степана Аркадьича к Долли.\n",
      "Prediction: Две недели тому назад было получено кайящее письмо Степана Аркадьича Чагги.\n",
      "----------------------------------------------------------------------------------------------------\n",
      "Reference:  Извините, что нечисто.\n",
      "Prediction: Извините, что не чисто.\n",
      "----------------------------------------------------------------------------------------------------\n",
      "Reference:  Конечно, будучи неофициальным, он будет наличествовать только на английском языке.\n",
      "Prediction: В моем качестве официального он будет наличествовать только на английском языке.\n",
      "----------------------------------------------------------------------------------------------------\n",
      "Reference:  К сожалению, ситуация продолжает ухудшаться.\n",
      "Prediction: К сожалению, ситуация продолжает ухудшиться.\n",
      "----------------------------------------------------------------------------------------------------\n",
      "Reference:  Такая беленькая, с косой.\n",
      "Prediction: Такая беленькая скастой.\n",
      "----------------------------------------------------------------------------------------------------\n",
      "Reference:  Да, к Долли?\n",
      "Prediction: Да, где же?\n",
      "----------------------------------------------------------------------------------------------------\n",
      "Reference:  «Байконур» — это первый и крупнейший в мире космодром международного значения.\n",
      "Prediction: Байконур — это первый и крупнейший в мире космодром международного значения.\n",
      "----------------------------------------------------------------------------------------------------\n",
      "Reference:  Как дела?\n",
      "Prediction: Как дела?\n",
      "----------------------------------------------------------------------------------------------------\n",
      "Reference:  Ступайте к Акулине Памфиловне; я сейчас туда же буду».\n",
      "Prediction: – ступайте к окне Панфилов, я сейчас туда же буду.\n",
      "----------------------------------------------------------------------------------------------------\n",
      "Reference:  Я считаю, что это будет иметь большое значение.\n",
      "Prediction: Я считаю, что это будет иметь большое значение.\n"
     ]
    }
   ],
   "source": [
    "with warnings.catch_warnings():\n",
    "    warnings.simplefilter(\"ignore\")\n",
    "    for i, predicted_sentence in enumerate(predicted_sentences):\n",
    "        print(\"-\" * 100)\n",
    "        print(\"Reference: \", test_dataset_cv_11[i][\"sentence\"])\n",
    "        print(\"Prediction:\", predicted_sentence)"
   ]
  },
  {
   "cell_type": "markdown",
   "id": "4a5361d9-3ee6-4d68-b05b-61eeca8ce145",
   "metadata": {},
   "source": [
    "### Тест WER, CER, MER, WIL"
   ]
  },
  {
   "cell_type": "code",
   "execution_count": 16,
   "id": "c26dce8c-dec8-4c07-ab18-e0780e8ff5f4",
   "metadata": {},
   "outputs": [],
   "source": [
    "# Создадим списки с референсами и предсказанными текстами\n",
    "references = [test_dataset_cv_11[i][\"sentence\"] for i in range(SAMPLES)]"
   ]
  },
  {
   "cell_type": "code",
   "execution_count": 17,
   "id": "b64d4f2d-fdbd-4e1a-b2d3-f4b6b5e9f788",
   "metadata": {},
   "outputs": [],
   "source": [
    "# Приведем все к нижнему регистру\n",
    "references = [ref.lower() for ref in references]\n",
    "predicted_sentences = [pred.lower() for pred in predicted_sentences]"
   ]
  },
  {
   "cell_type": "code",
   "execution_count": 18,
   "id": "dec43654-b141-473f-a479-4345d2284bd0",
   "metadata": {},
   "outputs": [],
   "source": [
    "# Рассчитаем WER\n",
    "wer_score = wer(references, predicted_sentences)"
   ]
  },
  {
   "cell_type": "code",
   "execution_count": 19,
   "id": "5c6d9ebc-0d38-46b3-91c2-21778baba2fa",
   "metadata": {},
   "outputs": [
    {
     "name": "stdout",
     "output_type": "stream",
     "text": [
      "Word Error Rate (WER): 31.09%\n"
     ]
    }
   ],
   "source": [
    "print(f\"Word Error Rate (WER): {wer_score * 100:.2f}%\")"
   ]
  },
  {
   "cell_type": "code",
   "execution_count": 20,
   "id": "d7224004-9e64-44d2-a90c-360626929ebd",
   "metadata": {},
   "outputs": [],
   "source": [
    "# и CER\n",
    "cer_score = cer(references, predicted_sentences)"
   ]
  },
  {
   "cell_type": "code",
   "execution_count": 21,
   "id": "62a1351a-cde4-4a53-a928-4757ca7d57a3",
   "metadata": {},
   "outputs": [
    {
     "name": "stdout",
     "output_type": "stream",
     "text": [
      "Character Error Rate (CER): 11.75%\n"
     ]
    }
   ],
   "source": [
    "print(f\"Character Error Rate (CER): {cer_score * 100:.2f}%\")"
   ]
  },
  {
   "cell_type": "code",
   "execution_count": 22,
   "id": "b20caff9-2b29-4059-9c66-45831ea4826f",
   "metadata": {},
   "outputs": [],
   "source": [
    "# MER\n",
    "mer_score = mer(references, predicted_sentences)"
   ]
  },
  {
   "cell_type": "code",
   "execution_count": 23,
   "id": "29085cc3-e8df-4691-91be-a897cfb0e495",
   "metadata": {},
   "outputs": [
    {
     "name": "stdout",
     "output_type": "stream",
     "text": [
      "Match Error Rate (MER): 28.99%\n"
     ]
    }
   ],
   "source": [
    "print(f\"Match Error Rate (MER): {mer_score * 100:.2f}%\")"
   ]
  },
  {
   "cell_type": "code",
   "execution_count": 24,
   "id": "2023af05-5450-4cb5-a130-44cbe8620bf8",
   "metadata": {},
   "outputs": [],
   "source": [
    "# WIL\n",
    "wil_score = wil(references, predicted_sentences)"
   ]
  },
  {
   "cell_type": "code",
   "execution_count": 25,
   "id": "fbc55434-0172-4808-9c37-93fcf8c3d712",
   "metadata": {},
   "outputs": [
    {
     "name": "stdout",
     "output_type": "stream",
     "text": [
      "Word Information Lost (WIL): 44.85%\n"
     ]
    }
   ],
   "source": [
    "print(f\"Word Information Lost (WIL): {wil_score * 100:.2f}%\")"
   ]
  },
  {
   "cell_type": "code",
   "execution_count": 26,
   "id": "10f6b396-a009-48da-9467-6b5a94a6b38b",
   "metadata": {},
   "outputs": [
    {
     "name": "stderr",
     "output_type": "stream",
     "text": [
      "/tmp/ipykernel_21795/4209652031.py:2: FutureWarning: The frame.append method is deprecated and will be removed from pandas in a future version. Use pandas.concat instead.\n",
      "  info = info.append({\n"
     ]
    },
    {
     "data": {
      "text/html": [
       "<div>\n",
       "<style scoped>\n",
       "    .dataframe tbody tr th:only-of-type {\n",
       "        vertical-align: middle;\n",
       "    }\n",
       "\n",
       "    .dataframe tbody tr th {\n",
       "        vertical-align: top;\n",
       "    }\n",
       "\n",
       "    .dataframe thead th {\n",
       "        text-align: right;\n",
       "    }\n",
       "</style>\n",
       "<table border=\"1\" class=\"dataframe\">\n",
       "  <thead>\n",
       "    <tr style=\"text-align: right;\">\n",
       "      <th></th>\n",
       "      <th>MODEL</th>\n",
       "      <th>DATASET</th>\n",
       "      <th>ORIGINAL TEXT</th>\n",
       "      <th>PREDICTION TEXT</th>\n",
       "      <th>WER</th>\n",
       "      <th>CER</th>\n",
       "      <th>MER</th>\n",
       "      <th>WIL</th>\n",
       "      <th>SAMPLES</th>\n",
       "    </tr>\n",
       "  </thead>\n",
       "  <tbody>\n",
       "    <tr>\n",
       "      <th>0</th>\n",
       "      <td>bond005/wav2vec2-mbart50-ru</td>\n",
       "      <td>common_voice_11_0</td>\n",
       "      <td>[к сожалению, эти предложения не нашли отражен...</td>\n",
       "      <td>[к сожалению, эти предложения не нашли отражен...</td>\n",
       "      <td>0.310881</td>\n",
       "      <td>0.11751</td>\n",
       "      <td>0.289855</td>\n",
       "      <td>0.448455</td>\n",
       "      <td>25</td>\n",
       "    </tr>\n",
       "  </tbody>\n",
       "</table>\n",
       "</div>"
      ],
      "text/plain": [
       "                         MODEL            DATASET  \\\n",
       "0  bond005/wav2vec2-mbart50-ru  common_voice_11_0   \n",
       "\n",
       "                                       ORIGINAL TEXT  \\\n",
       "0  [к сожалению, эти предложения не нашли отражен...   \n",
       "\n",
       "                                     PREDICTION TEXT       WER      CER  \\\n",
       "0  [к сожалению, эти предложения не нашли отражен...  0.310881  0.11751   \n",
       "\n",
       "        MER       WIL  SAMPLES  \n",
       "0  0.289855  0.448455       25  "
      ]
     },
     "metadata": {},
     "output_type": "display_data"
    }
   ],
   "source": [
    "# Создание датафрейма\n",
    "info = info.append({\n",
    "    'MODEL': MODEL_ID,\n",
    "    'DATASET': test_dataset_cv_11.info.dataset_name,\n",
    "    'ORIGINAL TEXT': references,\n",
    "    'PREDICTION TEXT': predicted_sentences,\n",
    "    'WER': wer_score,\n",
    "    'CER': cer_score,\n",
    "    'MER': mer_score,\n",
    "    'WIL': wil_score,\n",
    "    'SAMPLES': SAMPLES\n",
    "}, ignore_index=True)\n",
    "display(info)"
   ]
  },
  {
   "cell_type": "markdown",
   "id": "2fe01c07-16b7-4730-ac41-4fdd64ab5659",
   "metadata": {},
   "source": [
    "## Загрузка датасета `common_voice_12_0`"
   ]
  },
  {
   "cell_type": "code",
   "execution_count": 27,
   "id": "9bb5254c-ae8f-4409-883c-35f2c95e9018",
   "metadata": {},
   "outputs": [
    {
     "name": "stdout",
     "output_type": "stream",
     "text": [
      "CPU times: user 344 ms, sys: 5.3 ms, total: 349 ms\n",
      "Wall time: 15.2 s\n"
     ]
    }
   ],
   "source": [
    "%%time\n",
    "test_dataset_cv_12 = load_dataset(\"mozilla-foundation/common_voice_12_0\", LANG_ID, split=f\"test[:{SAMPLES}]\", trust_remote_code=True)"
   ]
  },
  {
   "cell_type": "code",
   "execution_count": 28,
   "id": "2d283dee-a68d-4ef4-a450-271c71bc0cca",
   "metadata": {},
   "outputs": [],
   "source": [
    "if test_dataset_cv_12.features['audio'].sampling_rate != 16_000:\n",
    "    test_dataset_cv_12 = test_dataset_cv_12.cast_column(\n",
    "        'audio',\n",
    "        Audio(sampling_rate=16_000)\n",
    "    )"
   ]
  },
  {
   "cell_type": "code",
   "execution_count": 29,
   "id": "5e70a3bf-0689-4fff-a2e0-cacfbb58a6ce",
   "metadata": {},
   "outputs": [],
   "source": [
    "# Освобождаем памяти \n",
    "torch.cuda.empty_cache()"
   ]
  },
  {
   "cell_type": "code",
   "execution_count": 30,
   "id": "98ccb305-b080-4f5c-838e-5682c49cda18",
   "metadata": {},
   "outputs": [
    {
     "name": "stdout",
     "output_type": "stream",
     "text": [
      "CPU times: user 160 ms, sys: 14 µs, total: 160 ms\n",
      "Wall time: 153 ms\n"
     ]
    }
   ],
   "source": [
    "%%time\n",
    "audio_data = [test_dataset_cv_12[i]['audio']['array'] for i in range(SAMPLES)]\n",
    "\n",
    "processed = processor(audio_data, sampling_rate=16_000, return_tensors=\"pt\", padding='longest').to(device)"
   ]
  },
  {
   "cell_type": "markdown",
   "id": "3f1bc674-8900-478d-b248-77ee03f4c943",
   "metadata": {},
   "source": [
    "### Предсказание"
   ]
  },
  {
   "cell_type": "code",
   "execution_count": 31,
   "id": "578451b9-f38e-4d39-8793-a3b100380ac5",
   "metadata": {},
   "outputs": [
    {
     "name": "stdout",
     "output_type": "stream",
     "text": [
      "CPU times: user 12min 34s, sys: 8.78 s, total: 12min 43s\n",
      "Wall time: 1min 43s\n"
     ]
    }
   ],
   "source": [
    "%%time\n",
    "try:\n",
    "    # Включение вычислений на GPU, если возможно\n",
    "    with torch.cuda.amp.autocast():\n",
    "        # Генерация предсказаний на GPU\n",
    "        predicted_ids = model.generate(**processed)\n",
    "    \n",
    "    # Перемещение предсказаний обратно на CPU для декодирования\n",
    "    predicted_ids = predicted_ids.to(\"cpu\")\n",
    "except Exception as error:\n",
    "    with torch.no_grad():\n",
    "        predicted_ids = model.generate(**processed)\n",
    "\n",
    "    print('ERROR: ', error)"
   ]
  },
  {
   "cell_type": "code",
   "execution_count": 32,
   "id": "cdb869eb-2619-49dd-8c72-e1bba1ab7111",
   "metadata": {},
   "outputs": [],
   "source": [
    "predicted_sentences = processor.batch_decode(\n",
    "    predicted_ids,\n",
    "    num_processes=num_processes,\n",
    "    skip_special_tokens=True\n",
    ")"
   ]
  },
  {
   "cell_type": "markdown",
   "id": "234aeab3-d729-4232-87c9-c4edb6ef4507",
   "metadata": {},
   "source": [
    "### Вывод результатов"
   ]
  },
  {
   "cell_type": "code",
   "execution_count": 33,
   "id": "3865dc54-a67e-4bca-a05d-fa0af6dda28c",
   "metadata": {
    "scrolled": true
   },
   "outputs": [
    {
     "name": "stdout",
     "output_type": "stream",
     "text": [
      "----------------------------------------------------------------------------------------------------\n",
      "Reference:  К сожалению, эти предложения не нашли отражения в тексте.\n",
      "Prediction: К сожалению, эти предложения не нашли отражения в тексте.\n",
      "----------------------------------------------------------------------------------------------------\n",
      "Reference:  Толпа озвереет, будет тереться, ощетинит ножки стоглавая вошь.\n",
      "Prediction: Толпа зверей будет тереться, Ощутите немножко, старая вождь.\n",
      "----------------------------------------------------------------------------------------------------\n",
      "Reference:  А жизнь ее была не весела.\n",
      "Prediction: А жизнь ее была не весела.\n",
      "----------------------------------------------------------------------------------------------------\n",
      "Reference:  Если не будет возражений, я буду считать, что Ассамблея согласна с этим предложением.\n",
      "Prediction: Если не будет возражений, я буду считать, что Ассамблея согласна с этим предложением.\n",
      "----------------------------------------------------------------------------------------------------\n",
      "Reference:  Да ты зачем собственно приехал?\n",
      "Prediction: Да ты, зачем собственно приехал?\n",
      "----------------------------------------------------------------------------------------------------\n",
      "Reference:  Мы особенно рады отметить, что число скрывающихся от правосудия лиц уменьшилось.\n",
      "Prediction: Мы все равно рады отметить, что число, в том числе в Таиланде, по совещанию Дудицы меньше.\n",
      "----------------------------------------------------------------------------------------------------\n",
      "Reference:  Контроллер\n",
      "Prediction: контролёр!\n",
      "----------------------------------------------------------------------------------------------------\n",
      "Reference:  Пугачев весело со мною поздоровался и велел мне садиться с ним в кибитку.\n",
      "Prediction: Пугачев весело со мной поздоровался и Леонардо соединился с ним в кабинет.\n",
      "----------------------------------------------------------------------------------------------------\n",
      "Reference:  Неожиданно катастрофа приобрела глобальные масштабы.\n",
      "Prediction: Неожиданный катастрофа приобрела глобальные масштабы.\n",
      "----------------------------------------------------------------------------------------------------\n",
      "Reference:  Нет, я не вижу, почему это не может быть новая сила, если она....\n",
      "Prediction: Нет, я не вижу, почему это — не может быть, и новая сила, если она.\n",
      "----------------------------------------------------------------------------------------------------\n",
      "Reference:  Палестинцам необходимо сначала установить мир с Израилем, а затем добиваться признания государственности.\n",
      "Prediction: Палестинцам необходимо сначала установить с ним мир, с израильтьем, а затем добиваться признания государственности.\n",
      "----------------------------------------------------------------------------------------------------\n",
      "Reference:  Тысячи людей пропали без вести.\n",
      "Prediction: Тысячи людей пропали без вести.\n",
      "----------------------------------------------------------------------------------------------------\n",
      "Reference:  Наталия\n",
      "Prediction: Наталья!\n",
      "----------------------------------------------------------------------------------------------------\n",
      "Reference:  У меня было такое чувство, что что-то такое очень важное я прибавляю.\n",
      "Prediction: У меня было такое чувство, что кто-то такой очень важной, я добавляю.\n",
      "----------------------------------------------------------------------------------------------------\n",
      "Reference:  Стало быть, всё кончено!\n",
      "Prediction: Стало быть все кончено.\n",
      "----------------------------------------------------------------------------------------------------\n",
      "Reference:  Ей можно было жалеть о себе, но не ему о ней.\n",
      "Prediction: Ей можно было жалеть о себе, но не ему о ней.\n",
      "----------------------------------------------------------------------------------------------------\n",
      "Reference:  У меня есть все.\n",
      "Prediction: У меня есть все.\n",
      "----------------------------------------------------------------------------------------------------\n",
      "Reference:  Нашей неотложной задачей должно стать выполнение соответствующих обязательств в отношении совместных действий.\n",
      "Prediction: Наши неотложные задачи должно стать выполнением соответствующих обязательств в отношении совместных действий.\n",
      "----------------------------------------------------------------------------------------------------\n",
      "Reference:  Две недели тому назад было получено кающееся письмо Степана Аркадьича к Долли.\n",
      "Prediction: Две недели тому назад было получено кайящее письмо Степана Аркадьича Чагги.\n",
      "----------------------------------------------------------------------------------------------------\n",
      "Reference:  Он улыбнулся однако и подошел к Кити.\n",
      "Prediction: Он улыбнулся, однако и подошел к Кити.\n",
      "----------------------------------------------------------------------------------------------------\n",
      "Reference:  Извините, что нечисто.\n",
      "Prediction: Извините, что не чисто.\n",
      "----------------------------------------------------------------------------------------------------\n",
      "Reference:  Конечно, будучи неофициальным, он будет наличествовать только на английском языке.\n",
      "Prediction: В моем качестве официального он будет наличествовать только на английском языке.\n",
      "----------------------------------------------------------------------------------------------------\n",
      "Reference:  Здесь понимали, что человек обязан жить для себя, как должен жить образованный человек.\n",
      "Prediction: Здесь понимали, что человек обязан жить для себя, как должен жить, образованный человек.\n",
      "----------------------------------------------------------------------------------------------------\n",
      "Reference:  К сожалению, ситуация продолжает ухудшаться.\n",
      "Prediction: К сожалению, ситуация продолжает ухудшиться.\n",
      "----------------------------------------------------------------------------------------------------\n",
      "Reference:  Такая беленькая, с косой.\n",
      "Prediction: Такая беленькая скастой.\n"
     ]
    }
   ],
   "source": [
    "with warnings.catch_warnings():\n",
    "    warnings.simplefilter(\"ignore\")\n",
    "    for i, predicted_sentence in enumerate(predicted_sentences):\n",
    "        print(\"-\" * 100)\n",
    "        print(\"Reference: \", test_dataset_cv_12[i][\"sentence\"])\n",
    "        print(\"Prediction:\", predicted_sentence)"
   ]
  },
  {
   "cell_type": "markdown",
   "id": "fc0e5f96-7993-47ae-90f8-3cc6d540eec5",
   "metadata": {},
   "source": [
    "### Тест WER, CER, MER, WIL"
   ]
  },
  {
   "cell_type": "code",
   "execution_count": 34,
   "id": "e1082b02-dd85-4727-8dbf-d63e57f3e2e1",
   "metadata": {},
   "outputs": [],
   "source": [
    "# Создадим списки с референсами и предсказанными текстами\n",
    "references = [test_dataset_cv_12[i][\"sentence\"] for i in range(SAMPLES)]"
   ]
  },
  {
   "cell_type": "code",
   "execution_count": 35,
   "id": "1934f556-7fe0-4693-a9e0-432c1b0adfe8",
   "metadata": {},
   "outputs": [],
   "source": [
    "# Приведем все к нижнему регистру\n",
    "references = [ref.lower() for ref in references]\n",
    "predicted_sentences = [pred.lower() for pred in predicted_sentences]"
   ]
  },
  {
   "cell_type": "code",
   "execution_count": 36,
   "id": "02fdbe9b-deb6-47ac-b055-8288aa14b549",
   "metadata": {},
   "outputs": [],
   "source": [
    "# Рассчитаем WER\n",
    "wer_score = wer(references, predicted_sentences)"
   ]
  },
  {
   "cell_type": "code",
   "execution_count": 37,
   "id": "1f04420f-8874-499d-9e68-9c148614b4c2",
   "metadata": {},
   "outputs": [
    {
     "name": "stdout",
     "output_type": "stream",
     "text": [
      "Word Error Rate (WER): 30.15%\n"
     ]
    }
   ],
   "source": [
    "print(f\"Word Error Rate (WER): {wer_score * 100:.2f}%\")"
   ]
  },
  {
   "cell_type": "code",
   "execution_count": 38,
   "id": "b70f25ec-ed3b-4eb4-b3dc-cfc395e5372e",
   "metadata": {},
   "outputs": [],
   "source": [
    "# и CER\n",
    "cer_score = cer(references, predicted_sentences)"
   ]
  },
  {
   "cell_type": "code",
   "execution_count": 39,
   "id": "26dc2a5b-152c-450b-90f6-12125fe2ffa3",
   "metadata": {},
   "outputs": [
    {
     "name": "stdout",
     "output_type": "stream",
     "text": [
      "Character Error Rate (CER): 12.40%\n"
     ]
    }
   ],
   "source": [
    "print(f\"Character Error Rate (CER): {cer_score * 100:.2f}%\")"
   ]
  },
  {
   "cell_type": "code",
   "execution_count": 40,
   "id": "bd58f593-434e-476b-83da-3b4f295865d5",
   "metadata": {},
   "outputs": [],
   "source": [
    "# MER\n",
    "mer_score = mer(references, predicted_sentences)"
   ]
  },
  {
   "cell_type": "code",
   "execution_count": 41,
   "id": "47e9b104-5f4b-4b68-afeb-7b53469ee34f",
   "metadata": {},
   "outputs": [
    {
     "name": "stdout",
     "output_type": "stream",
     "text": [
      "Match Error Rate (MER): 28.57%\n"
     ]
    }
   ],
   "source": [
    "print(f\"Match Error Rate (MER): {mer_score * 100:.2f}%\")"
   ]
  },
  {
   "cell_type": "code",
   "execution_count": 42,
   "id": "98b7874c-467f-4d32-92d3-608a5c7dc6eb",
   "metadata": {},
   "outputs": [],
   "source": [
    "# WIL\n",
    "wil_score = wil(references, predicted_sentences)"
   ]
  },
  {
   "cell_type": "code",
   "execution_count": 43,
   "id": "e1909ead-4557-496a-ae27-f666fb0b077c",
   "metadata": {},
   "outputs": [
    {
     "name": "stdout",
     "output_type": "stream",
     "text": [
      "Word Information Lost (WIL): 45.38%\n"
     ]
    }
   ],
   "source": [
    "print(f\"Word Information Lost (WIL): {wil_score * 100:.2f}%\")"
   ]
  },
  {
   "cell_type": "code",
   "execution_count": 44,
   "id": "95fe4a1f-74ad-40ba-90f8-8b310358b8a7",
   "metadata": {},
   "outputs": [
    {
     "name": "stderr",
     "output_type": "stream",
     "text": [
      "/tmp/ipykernel_21795/3990937401.py:2: FutureWarning: The frame.append method is deprecated and will be removed from pandas in a future version. Use pandas.concat instead.\n",
      "  info = info.append({\n"
     ]
    },
    {
     "data": {
      "text/html": [
       "<div>\n",
       "<style scoped>\n",
       "    .dataframe tbody tr th:only-of-type {\n",
       "        vertical-align: middle;\n",
       "    }\n",
       "\n",
       "    .dataframe tbody tr th {\n",
       "        vertical-align: top;\n",
       "    }\n",
       "\n",
       "    .dataframe thead th {\n",
       "        text-align: right;\n",
       "    }\n",
       "</style>\n",
       "<table border=\"1\" class=\"dataframe\">\n",
       "  <thead>\n",
       "    <tr style=\"text-align: right;\">\n",
       "      <th></th>\n",
       "      <th>MODEL</th>\n",
       "      <th>DATASET</th>\n",
       "      <th>ORIGINAL TEXT</th>\n",
       "      <th>PREDICTION TEXT</th>\n",
       "      <th>WER</th>\n",
       "      <th>CER</th>\n",
       "      <th>MER</th>\n",
       "      <th>WIL</th>\n",
       "      <th>SAMPLES</th>\n",
       "    </tr>\n",
       "  </thead>\n",
       "  <tbody>\n",
       "    <tr>\n",
       "      <th>0</th>\n",
       "      <td>bond005/wav2vec2-mbart50-ru</td>\n",
       "      <td>common_voice_11_0</td>\n",
       "      <td>[к сожалению, эти предложения не нашли отражен...</td>\n",
       "      <td>[к сожалению, эти предложения не нашли отражен...</td>\n",
       "      <td>0.310881</td>\n",
       "      <td>0.117510</td>\n",
       "      <td>0.289855</td>\n",
       "      <td>0.448455</td>\n",
       "      <td>25</td>\n",
       "    </tr>\n",
       "    <tr>\n",
       "      <th>1</th>\n",
       "      <td>bond005/wav2vec2-mbart50-ru</td>\n",
       "      <td>common_voice_12_0</td>\n",
       "      <td>[к сожалению, эти предложения не нашли отражен...</td>\n",
       "      <td>[к сожалению, эти предложения не нашли отражен...</td>\n",
       "      <td>0.301508</td>\n",
       "      <td>0.123961</td>\n",
       "      <td>0.285714</td>\n",
       "      <td>0.453791</td>\n",
       "      <td>25</td>\n",
       "    </tr>\n",
       "  </tbody>\n",
       "</table>\n",
       "</div>"
      ],
      "text/plain": [
       "                         MODEL            DATASET  \\\n",
       "0  bond005/wav2vec2-mbart50-ru  common_voice_11_0   \n",
       "1  bond005/wav2vec2-mbart50-ru  common_voice_12_0   \n",
       "\n",
       "                                       ORIGINAL TEXT  \\\n",
       "0  [к сожалению, эти предложения не нашли отражен...   \n",
       "1  [к сожалению, эти предложения не нашли отражен...   \n",
       "\n",
       "                                     PREDICTION TEXT       WER       CER  \\\n",
       "0  [к сожалению, эти предложения не нашли отражен...  0.310881  0.117510   \n",
       "1  [к сожалению, эти предложения не нашли отражен...  0.301508  0.123961   \n",
       "\n",
       "        MER       WIL  SAMPLES  \n",
       "0  0.289855  0.448455       25  \n",
       "1  0.285714  0.453791       25  "
      ]
     },
     "metadata": {},
     "output_type": "display_data"
    }
   ],
   "source": [
    "# Создание датафрейма\n",
    "info = info.append({\n",
    "    'MODEL': MODEL_ID,\n",
    "    'DATASET': test_dataset_cv_12.info.dataset_name,\n",
    "    'ORIGINAL TEXT': references,\n",
    "    'PREDICTION TEXT': predicted_sentences,\n",
    "    'WER': wer_score,\n",
    "    'CER': cer_score,\n",
    "    'MER': mer_score,\n",
    "    'WIL': wil_score,\n",
    "    'SAMPLES': SAMPLES\n",
    "}, ignore_index=True)\n",
    "display(info)"
   ]
  },
  {
   "cell_type": "markdown",
   "id": "703d4eb2-f7a0-4f95-9b91-41bff3b996a2",
   "metadata": {},
   "source": [
    "## Загрузка датасета `common_voice_14_0`"
   ]
  },
  {
   "cell_type": "code",
   "execution_count": 45,
   "id": "9a31026f-8bfd-483a-ab60-25f0ceb45128",
   "metadata": {},
   "outputs": [
    {
     "name": "stdout",
     "output_type": "stream",
     "text": [
      "CPU times: user 318 ms, sys: 20.3 ms, total: 338 ms\n",
      "Wall time: 12.1 s\n"
     ]
    }
   ],
   "source": [
    "%%time\n",
    "test_dataset_cv_14 = load_dataset(\"mozilla-foundation/common_voice_14_0\", LANG_ID, split=f\"test[:{SAMPLES}]\", trust_remote_code=True)"
   ]
  },
  {
   "cell_type": "code",
   "execution_count": 46,
   "id": "8721a6cc-4f77-4f98-b19b-f571d26b7fcb",
   "metadata": {},
   "outputs": [],
   "source": [
    "if test_dataset_cv_14.features['audio'].sampling_rate != 16_000:\n",
    "    test_dataset_cv_14 = test_dataset_cv_14.cast_column(\n",
    "        'audio',\n",
    "        Audio(sampling_rate=16_000)\n",
    "    )"
   ]
  },
  {
   "cell_type": "code",
   "execution_count": 47,
   "id": "7187b412-ec8b-4da4-b353-6a9916f43a31",
   "metadata": {},
   "outputs": [],
   "source": [
    "# Освобождаем памяти \n",
    "torch.cuda.empty_cache()"
   ]
  },
  {
   "cell_type": "code",
   "execution_count": 48,
   "id": "27111d61-41c6-40f4-af8d-bdc2862c7d1e",
   "metadata": {},
   "outputs": [
    {
     "name": "stdout",
     "output_type": "stream",
     "text": [
      "CPU times: user 152 ms, sys: 11.9 ms, total: 163 ms\n",
      "Wall time: 160 ms\n"
     ]
    }
   ],
   "source": [
    "%%time\n",
    "audio_data = [test_dataset_cv_14[i]['audio']['array'] for i in range(SAMPLES)]\n",
    "\n",
    "processed = processor(audio_data, sampling_rate=16_000, return_tensors=\"pt\", padding='longest').to(device)"
   ]
  },
  {
   "cell_type": "markdown",
   "id": "703ea4b4-fcff-4729-a99b-ed11ef651d0f",
   "metadata": {},
   "source": [
    "### Предсказание"
   ]
  },
  {
   "cell_type": "code",
   "execution_count": 49,
   "id": "54694752-ba06-4cf5-a6cc-41ac36d3915a",
   "metadata": {},
   "outputs": [
    {
     "name": "stdout",
     "output_type": "stream",
     "text": [
      "CPU times: user 12min 52s, sys: 9.57 s, total: 13min 2s\n",
      "Wall time: 1min 44s\n"
     ]
    }
   ],
   "source": [
    "%%time\n",
    "try:\n",
    "    # Включение вычислений на GPU, если возможно\n",
    "    with torch.cuda.amp.autocast():\n",
    "        # Генерация предсказаний на GPU\n",
    "        predicted_ids = model.generate(**processed)\n",
    "    \n",
    "    # Перемещение предсказаний обратно на CPU для декодирования\n",
    "    predicted_ids = predicted_ids.to(\"cpu\")\n",
    "except Exception as error:\n",
    "    with torch.no_grad():\n",
    "        predicted_ids = model.generate(**processed)\n",
    "\n",
    "    print('ERROR: ', error)"
   ]
  },
  {
   "cell_type": "code",
   "execution_count": 50,
   "id": "e37f789d-cfe1-4784-820d-a65465464d8c",
   "metadata": {},
   "outputs": [],
   "source": [
    "predicted_sentences = processor.batch_decode(\n",
    "    predicted_ids,\n",
    "    num_processes=num_processes,\n",
    "    skip_special_tokens=True\n",
    ")"
   ]
  },
  {
   "cell_type": "markdown",
   "id": "b5926a67-5d59-4a03-a50a-0ed08eb6dba0",
   "metadata": {},
   "source": [
    "### Вывод результатов"
   ]
  },
  {
   "cell_type": "code",
   "execution_count": 51,
   "id": "3a8133e7-4c88-474c-8786-be23b9e374ee",
   "metadata": {
    "scrolled": true
   },
   "outputs": [
    {
     "name": "stdout",
     "output_type": "stream",
     "text": [
      "----------------------------------------------------------------------------------------------------\n",
      "Reference:  К сожалению, эти предложения не нашли отражения в тексте.\n",
      "Prediction: К сожалению, эти предложения не нашли отражения в тексте.\n",
      "----------------------------------------------------------------------------------------------------\n",
      "Reference:  Толпа озвереет, будет тереться, ощетинит ножки стоглавая вошь.\n",
      "Prediction: Толпа зверей будет тереться, Ощутите немножко, старая вождь.\n",
      "----------------------------------------------------------------------------------------------------\n",
      "Reference:  Если не будет возражений, я буду считать, что Ассамблея согласна с этим предложением.\n",
      "Prediction: Если не будет возражений, я буду считать, что Ассамблея согласна с этим предложением.\n",
      "----------------------------------------------------------------------------------------------------\n",
      "Reference:  Да ты зачем собственно приехал?\n",
      "Prediction: Да ты, зачем собственно приехал?\n",
      "----------------------------------------------------------------------------------------------------\n",
      "Reference:  Мы особенно рады отметить, что число скрывающихся от правосудия лиц уменьшилось.\n",
      "Prediction: Мы все равно рады отметить, что число, в том числе в Таиланде, по совещанию Дудицы меньше.\n",
      "----------------------------------------------------------------------------------------------------\n",
      "Reference:  Контроллер\n",
      "Prediction: контролёр!\n",
      "----------------------------------------------------------------------------------------------------\n",
      "Reference:  Неожиданно катастрофа приобрела глобальные масштабы.\n",
      "Prediction: Неожиданный катастрофа приобрела глобальные масштабы.\n",
      "----------------------------------------------------------------------------------------------------\n",
      "Reference:  Нет, я не вижу, почему это не может быть новая сила, если она....\n",
      "Prediction: Нет, я не вижу, почему это — не может быть, и новая сила, если она.\n",
      "----------------------------------------------------------------------------------------------------\n",
      "Reference:  Палестинцам необходимо сначала установить мир с Израилем, а затем добиваться признания государственности.\n",
      "Prediction: Палестинцам необходимо сначала установить с ним мир, с израильтьем, а затем добиваться признания государственности.\n",
      "----------------------------------------------------------------------------------------------------\n",
      "Reference:  Тысячи людей пропали без вести.\n",
      "Prediction: Тысячи людей пропали без вести.\n",
      "----------------------------------------------------------------------------------------------------\n",
      "Reference:  Наталия\n",
      "Prediction: Наталья!\n",
      "----------------------------------------------------------------------------------------------------\n",
      "Reference:  У меня было такое чувство, что что-то такое очень важное я прибавляю.\n",
      "Prediction: У меня было такое чувство, что кто-то такой очень важной, я добавляю.\n",
      "----------------------------------------------------------------------------------------------------\n",
      "Reference:  Стало быть, всё кончено!\n",
      "Prediction: Стало быть все кончено.\n",
      "----------------------------------------------------------------------------------------------------\n",
      "Reference:  «Перезаряжай! Три, два, один... Огонь!» — раз за разом выкрикивал командир.\n",
      "Prediction: – Переезжай, три, два, один. – Агонь. Раз за разом вы крикал Командир.\n",
      "----------------------------------------------------------------------------------------------------\n",
      "Reference:  Нашей неотложной задачей должно стать выполнение соответствующих обязательств в отношении совместных действий.\n",
      "Prediction: Наши неотложные задачи должно стать выполнением соответствующих обязательств в отношении совместных действий.\n",
      "----------------------------------------------------------------------------------------------------\n",
      "Reference:  Это было очень досадно Левину.\n",
      "Prediction: Это объявило очень пространное заявление.\n",
      "----------------------------------------------------------------------------------------------------\n",
      "Reference:  Две недели тому назад было получено кающееся письмо Степана Аркадьича к Долли.\n",
      "Prediction: Две недели тому назад было получено кайящее письмо Степана Аркадьича Чагги.\n",
      "----------------------------------------------------------------------------------------------------\n",
      "Reference:  Извините, что нечисто.\n",
      "Prediction: Извините, что не чисто.\n",
      "----------------------------------------------------------------------------------------------------\n",
      "Reference:  Конечно, будучи неофициальным, он будет наличествовать только на английском языке.\n",
      "Prediction: В моем качестве официального он будет наличествовать только на английском языке.\n",
      "----------------------------------------------------------------------------------------------------\n",
      "Reference:  Душевное состояние Анны.\n",
      "Prediction: душевное состояние Анны.\n",
      "----------------------------------------------------------------------------------------------------\n",
      "Reference:  Серпухов — красивый город\n",
      "Prediction: Серпухов — красивый город.\n",
      "----------------------------------------------------------------------------------------------------\n",
      "Reference:  К сожалению, ситуация продолжает ухудшаться.\n",
      "Prediction: К сожалению, ситуация продолжает ухудшиться.\n",
      "----------------------------------------------------------------------------------------------------\n",
      "Reference:  Такая беленькая, с косой.\n",
      "Prediction: Такая беленькая скастой.\n",
      "----------------------------------------------------------------------------------------------------\n",
      "Reference:  книги\n",
      "Prediction: Деньги!\n",
      "----------------------------------------------------------------------------------------------------\n",
      "Reference:  Приблизительный расчет они выставляют как неверный.\n",
      "Prediction: Приближенное расчётом они выставляют как неверный.\n"
     ]
    }
   ],
   "source": [
    "with warnings.catch_warnings():\n",
    "    warnings.simplefilter(\"ignore\")\n",
    "    for i, predicted_sentence in enumerate(predicted_sentences):\n",
    "        print(\"-\" * 100)\n",
    "        print(\"Reference: \", test_dataset_cv_14[i][\"sentence\"])\n",
    "        print(\"Prediction:\", predicted_sentence)"
   ]
  },
  {
   "cell_type": "markdown",
   "id": "8b0e5218-9419-433c-8f53-054dbbad2846",
   "metadata": {},
   "source": [
    "### Тест WER, CER, MER, WIL"
   ]
  },
  {
   "cell_type": "code",
   "execution_count": 52,
   "id": "cc3818c3-6961-453b-949f-b0e6138c5f16",
   "metadata": {},
   "outputs": [],
   "source": [
    "# Создадим списки с референсами и предсказанными текстами\n",
    "references = [test_dataset_cv_14[i][\"sentence\"] for i in range(SAMPLES)]"
   ]
  },
  {
   "cell_type": "code",
   "execution_count": 53,
   "id": "beeca8e3-11b4-4e66-9cd2-caf0e5740fad",
   "metadata": {},
   "outputs": [],
   "source": [
    "# Приведем все к нижнему регистру\n",
    "references = [ref.lower() for ref in references]\n",
    "predicted_sentences = [pred.lower() for pred in predicted_sentences]"
   ]
  },
  {
   "cell_type": "code",
   "execution_count": 54,
   "id": "0f37f3f2-d838-4067-a1a9-222a2ae15a5a",
   "metadata": {},
   "outputs": [],
   "source": [
    "# Рассчитаем WER\n",
    "wer_score = wer(references, predicted_sentences)"
   ]
  },
  {
   "cell_type": "code",
   "execution_count": 55,
   "id": "a06cf6a7-b63c-4d37-a815-22069ea31863",
   "metadata": {},
   "outputs": [
    {
     "name": "stdout",
     "output_type": "stream",
     "text": [
      "Word Error Rate (WER): 38.29%\n"
     ]
    }
   ],
   "source": [
    "print(f\"Word Error Rate (WER): {wer_score * 100:.2f}%\")"
   ]
  },
  {
   "cell_type": "code",
   "execution_count": 56,
   "id": "d6e00740-7ada-4a5d-aaa2-a0b472745ece",
   "metadata": {},
   "outputs": [],
   "source": [
    "# и CER\n",
    "cer_score = cer(references, predicted_sentences)"
   ]
  },
  {
   "cell_type": "code",
   "execution_count": 57,
   "id": "ff2aec25-e25b-4fd7-9340-7efc642cfb71",
   "metadata": {},
   "outputs": [
    {
     "name": "stdout",
     "output_type": "stream",
     "text": [
      "Character Error Rate (CER): 15.53%\n"
     ]
    }
   ],
   "source": [
    "print(f\"Character Error Rate (CER): {cer_score * 100:.2f}%\")"
   ]
  },
  {
   "cell_type": "code",
   "execution_count": 58,
   "id": "4c985fc4-8a9e-4fbc-852c-1affadd989ad",
   "metadata": {},
   "outputs": [],
   "source": [
    "# MER\n",
    "mer_score = mer(references, predicted_sentences)"
   ]
  },
  {
   "cell_type": "code",
   "execution_count": 59,
   "id": "5bc240d8-c4a4-4330-8943-666c5ade62b4",
   "metadata": {},
   "outputs": [
    {
     "name": "stdout",
     "output_type": "stream",
     "text": [
      "Match Error Rate (MER): 35.64%\n"
     ]
    }
   ],
   "source": [
    "print(f\"Match Error Rate (MER): {mer_score * 100:.2f}%\")"
   ]
  },
  {
   "cell_type": "code",
   "execution_count": 60,
   "id": "7da70268-91df-4bc0-949a-35ce27baf061",
   "metadata": {},
   "outputs": [],
   "source": [
    "# WIL\n",
    "wil_score = wil(references, predicted_sentences)"
   ]
  },
  {
   "cell_type": "code",
   "execution_count": 61,
   "id": "1a0f2ebd-72aa-45ac-9723-8e096a69b051",
   "metadata": {},
   "outputs": [
    {
     "name": "stdout",
     "output_type": "stream",
     "text": [
      "Word Information Lost (WIL): 55.02%\n"
     ]
    }
   ],
   "source": [
    "print(f\"Word Information Lost (WIL): {wil_score * 100:.2f}%\")"
   ]
  },
  {
   "cell_type": "code",
   "execution_count": 62,
   "id": "3a3c2255-905e-4a23-a3af-d27c43f9298f",
   "metadata": {},
   "outputs": [
    {
     "name": "stderr",
     "output_type": "stream",
     "text": [
      "/tmp/ipykernel_21795/923872263.py:2: FutureWarning: The frame.append method is deprecated and will be removed from pandas in a future version. Use pandas.concat instead.\n",
      "  info = info.append({\n"
     ]
    },
    {
     "data": {
      "text/html": [
       "<div>\n",
       "<style scoped>\n",
       "    .dataframe tbody tr th:only-of-type {\n",
       "        vertical-align: middle;\n",
       "    }\n",
       "\n",
       "    .dataframe tbody tr th {\n",
       "        vertical-align: top;\n",
       "    }\n",
       "\n",
       "    .dataframe thead th {\n",
       "        text-align: right;\n",
       "    }\n",
       "</style>\n",
       "<table border=\"1\" class=\"dataframe\">\n",
       "  <thead>\n",
       "    <tr style=\"text-align: right;\">\n",
       "      <th></th>\n",
       "      <th>MODEL</th>\n",
       "      <th>DATASET</th>\n",
       "      <th>ORIGINAL TEXT</th>\n",
       "      <th>PREDICTION TEXT</th>\n",
       "      <th>WER</th>\n",
       "      <th>CER</th>\n",
       "      <th>MER</th>\n",
       "      <th>WIL</th>\n",
       "      <th>SAMPLES</th>\n",
       "    </tr>\n",
       "  </thead>\n",
       "  <tbody>\n",
       "    <tr>\n",
       "      <th>0</th>\n",
       "      <td>bond005/wav2vec2-mbart50-ru</td>\n",
       "      <td>common_voice_11_0</td>\n",
       "      <td>[к сожалению, эти предложения не нашли отражен...</td>\n",
       "      <td>[к сожалению, эти предложения не нашли отражен...</td>\n",
       "      <td>0.310881</td>\n",
       "      <td>0.117510</td>\n",
       "      <td>0.289855</td>\n",
       "      <td>0.448455</td>\n",
       "      <td>25</td>\n",
       "    </tr>\n",
       "    <tr>\n",
       "      <th>1</th>\n",
       "      <td>bond005/wav2vec2-mbart50-ru</td>\n",
       "      <td>common_voice_12_0</td>\n",
       "      <td>[к сожалению, эти предложения не нашли отражен...</td>\n",
       "      <td>[к сожалению, эти предложения не нашли отражен...</td>\n",
       "      <td>0.301508</td>\n",
       "      <td>0.123961</td>\n",
       "      <td>0.285714</td>\n",
       "      <td>0.453791</td>\n",
       "      <td>25</td>\n",
       "    </tr>\n",
       "    <tr>\n",
       "      <th>2</th>\n",
       "      <td>bond005/wav2vec2-mbart50-ru</td>\n",
       "      <td>common_voice_14_0</td>\n",
       "      <td>[к сожалению, эти предложения не нашли отражен...</td>\n",
       "      <td>[к сожалению, эти предложения не нашли отражен...</td>\n",
       "      <td>0.382857</td>\n",
       "      <td>0.155324</td>\n",
       "      <td>0.356383</td>\n",
       "      <td>0.550200</td>\n",
       "      <td>25</td>\n",
       "    </tr>\n",
       "  </tbody>\n",
       "</table>\n",
       "</div>"
      ],
      "text/plain": [
       "                         MODEL            DATASET  \\\n",
       "0  bond005/wav2vec2-mbart50-ru  common_voice_11_0   \n",
       "1  bond005/wav2vec2-mbart50-ru  common_voice_12_0   \n",
       "2  bond005/wav2vec2-mbart50-ru  common_voice_14_0   \n",
       "\n",
       "                                       ORIGINAL TEXT  \\\n",
       "0  [к сожалению, эти предложения не нашли отражен...   \n",
       "1  [к сожалению, эти предложения не нашли отражен...   \n",
       "2  [к сожалению, эти предложения не нашли отражен...   \n",
       "\n",
       "                                     PREDICTION TEXT       WER       CER  \\\n",
       "0  [к сожалению, эти предложения не нашли отражен...  0.310881  0.117510   \n",
       "1  [к сожалению, эти предложения не нашли отражен...  0.301508  0.123961   \n",
       "2  [к сожалению, эти предложения не нашли отражен...  0.382857  0.155324   \n",
       "\n",
       "        MER       WIL  SAMPLES  \n",
       "0  0.289855  0.448455       25  \n",
       "1  0.285714  0.453791       25  \n",
       "2  0.356383  0.550200       25  "
      ]
     },
     "metadata": {},
     "output_type": "display_data"
    }
   ],
   "source": [
    "# Создание датафрейма\n",
    "info = info.append({\n",
    "    'MODEL': MODEL_ID,\n",
    "    'DATASET': test_dataset_cv_14.info.dataset_name,\n",
    "    'ORIGINAL TEXT': references,\n",
    "    'PREDICTION TEXT': predicted_sentences,\n",
    "    'WER': wer_score,\n",
    "    'CER': cer_score,\n",
    "    'MER': mer_score,\n",
    "    'WIL': wil_score,\n",
    "    'SAMPLES': SAMPLES\n",
    "}, ignore_index=True)\n",
    "display(info)"
   ]
  },
  {
   "cell_type": "code",
   "execution_count": 63,
   "id": "ee42c3d7-8a08-4bf9-bd7a-ced424b362a4",
   "metadata": {},
   "outputs": [],
   "source": [
    "info.to_csv('recognition_speech/wav2vec2-mbart50-ru.csv', index=False)"
   ]
  }
 ],
 "metadata": {
  "kernelspec": {
   "display_name": "Python 3 (ipykernel)",
   "language": "python",
   "name": "python3"
  },
  "language_info": {
   "codemirror_mode": {
    "name": "ipython",
    "version": 3
   },
   "file_extension": ".py",
   "mimetype": "text/x-python",
   "name": "python",
   "nbconvert_exporter": "python",
   "pygments_lexer": "ipython3",
   "version": "3.9.18"
  }
 },
 "nbformat": 4,
 "nbformat_minor": 5
}
