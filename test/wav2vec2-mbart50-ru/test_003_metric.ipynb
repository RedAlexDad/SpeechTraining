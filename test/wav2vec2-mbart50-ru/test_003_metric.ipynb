{
 "cells": [
  {
   "cell_type": "markdown",
   "id": "6c7d1df3-8a4b-4bac-a216-d13222530c21",
   "metadata": {},
   "source": [
    "# wav2vec2-mbart50-ru"
   ]
  },
  {
   "cell_type": "markdown",
   "id": "dfbc46fc-178d-4410-a823-f50eefa8b857",
   "metadata": {},
   "source": [
    "##### https://huggingface.co/bond005/wav2vec2-mbart50-ru"
   ]
  },
  {
   "cell_type": "markdown",
   "id": "3b7e2a01-a376-4216-8d65-393b8dd4c01e",
   "metadata": {},
   "source": [
    "`Wav2Vec2-mBART-50-Ru` - это модель преобразования последовательности речи в тестовую последовательность, которая может преобразовывать входное аудио с русской речью в текст с пунктуацией, заглавными буквами и так далее.\n",
    "\n",
    "`Wav2Vec2-mBART-50-Ru` - это модель декодера речевого кодера, которая была инициализирована с помощью `Wav2Vec2-Large-Ru-Golos` в качестве кодера и `mBART-large-50` в качестве декодера. После инициализации модель была точно настроена с использованием обучающей части нескольких аннотированных речевых корпусов:\n",
    "\n",
    "- the 10 hours crowd subset of SberDevices Golos\n",
    "- the 100 hours farfield subset of SberDevices Golos\n",
    "- the Russian subset of Common Voice 6.0\n",
    "- Sova RuDevices\n",
    "- 15% part of the training subset of Russian Librispeech"
   ]
  },
  {
   "cell_type": "markdown",
   "id": "1fd0c6de-44a3-4694-b56c-c388c3c0fa73",
   "metadata": {},
   "source": [
    "Как и видим, что модель обучена на датасетах сбербанка, поэтому будем проверить метрику WER и CER на других датасетах"
   ]
  },
  {
   "cell_type": "markdown",
   "id": "322b2939-9af9-452d-85f4-03564cd2632a",
   "metadata": {},
   "source": [
    "## Подключение библиотеки"
   ]
  },
  {
   "cell_type": "code",
   "execution_count": 1,
   "id": "146739e0-86ce-45fb-b841-5cf34fa6767c",
   "metadata": {},
   "source": [
    "import os\n",
    "import warnings\n",
    "\n",
    "import torch\n",
    "from datasets import load_dataset, load_from_disk\n",
    "from datasets.features import Audio\n",
    "from transformers import SpeechEncoderDecoderModel, Wav2Vec2Processor\n",
    "import pandas as pd\n",
    "\n",
    "# Для теста WER - Word Error Rate\n",
    "# CER - Character Error Rate\n",
    "# MER - Match Error Rate\n",
    "# WIL - Word Information Lost\n",
    "from jiwer import wer, cer, mer, wil"
   ],
   "outputs": []
  },
  {
   "cell_type": "code",
   "execution_count": 2,
   "id": "1e720dc3-058f-43a2-a542-7d497dcccb20",
   "metadata": {},
   "source": [
    "LANG_ID = \"ru\"\n",
    "MODEL_ID = \"bond005/wav2vec2-mbart50-ru\"\n",
    "PATH_MODEL = '/home/redalexdad/recognition_speech/wav2vec2-mbart50-ru'\n",
    "# Кол-во текстов для предсказания\n",
    "SAMPLES = 25"
   ],
   "outputs": []
  },
  {
   "cell_type": "code",
   "execution_count": 3,
   "id": "2db1bd2e-5897-41f3-9a1f-47cd2f350e94",
   "metadata": {},
   "source": [
    "num_processes = max(1, os.cpu_count())"
   ],
   "outputs": []
  },
  {
   "cell_type": "markdown",
   "id": "2f3843b7-633b-4134-a3dc-30fb4a63624e",
   "metadata": {},
   "source": [
    "## Использование CUDA"
   ]
  },
  {
   "cell_type": "code",
   "execution_count": 4,
   "id": "e814f6a8-5cca-4fd0-8bc6-f8f895679234",
   "metadata": {},
   "source": [
    "# Проверка доступности GPU\n",
    "device = torch.device(\"cuda\" if torch.cuda.is_available() else \"cpu\")"
   ],
   "outputs": []
  },
  {
   "cell_type": "code",
   "execution_count": 5,
   "id": "40a7af84-8e25-4240-ac6c-bb57fe5d2452",
   "metadata": {},
   "source": [
    "print(f\"Using device: {device}\")"
   ],
   "outputs": []
  },
  {
   "cell_type": "code",
   "execution_count": 6,
   "id": "5b430d17-39ee-4bc8-ba56-c2b636bb4af5",
   "metadata": {},
   "source": [
    "device = 'cpu'\n",
    "# Устанавливает максимальное количество доступной видеопамяти (например, 75%)\n",
    "# torch.cuda.set_per_process_memory_fraction(0.75)  \n",
    "# Включает динамическое выделение памяти на GPU\n",
    "# torch.cuda.set_per_process_memory_growth(True)  "
   ],
   "outputs": []
  },
  {
   "cell_type": "markdown",
   "id": "3122c7cd-6641-43e3-b627-0508d1bfe3e4",
   "metadata": {},
   "source": [
    "Не загружаем модель через CUDA, памяти не хватило\n",
    "\n",
    "`RuntimeError: CUDA out of memory. Tried to allocate 16.00 MiB (GPU 0; 3.63 GiB total capacity; 2.56 GiB already allocated; 7.12 MiB free; 2.58 GiB reserved in total by PyTorch) If reserved memory is >> allocated memory try setting max_split_size_mb to avoid fragmentation.  See documentation for Memory Management and PYTORCH_CUDA_ALLOC_CONF`"
   ]
  },
  {
   "cell_type": "code",
   "execution_count": 7,
   "id": "6eb79a93-3b20-4aea-8855-9089bcf23274",
   "metadata": {},
   "source": [
    "# Создадим датафрейм, который будет собирать данные и сохранять\n",
    "info = pd.DataFrame()"
   ],
   "outputs": []
  },
  {
   "cell_type": "markdown",
   "id": "bbbbef4f-889c-46c7-80e1-89e5f80da6e1",
   "metadata": {},
   "source": [
    "## Загрузка модели"
   ]
  },
  {
   "cell_type": "code",
   "execution_count": 8,
   "id": "2ca3bd4a-224b-4d21-ba6e-fc4690dd18c9",
   "metadata": {},
   "source": [
    "%%time\n",
    "torch.cuda.empty_cache()\n",
    "\n",
    "# Проверка наличия модели в локальном пути\n",
    "if os.path.exists(PATH_MODEL):\n",
    "    # Загрузка процессора из локального пути\n",
    "    processor = Wav2Vec2Processor.from_pretrained(PATH_MODEL)\n",
    "    \n",
    "    # Загрузка модели из локального пути\n",
    "    model = SpeechEncoderDecoderModel.from_pretrained(PATH_MODEL).to(device)\n",
    "    print('Успешно модель загружена')\n",
    "else:\n",
    "    # Загрузка процессора из сети и сохранение в локальный путь\n",
    "    processor = Wav2Vec2Processor.from_pretrained(MODEL_ID)\n",
    "    processor.save_pretrained(PATH_MODEL)\n",
    "    \n",
    "    # Загрузка модели из сети и сохранение в локальный путь\n",
    "    model = SpeechEncoderDecoderModel.from_pretrained(MODEL_ID).to(device)\n",
    "    model.save_pretrained(PATH_MODEL)\n",
    "    print(f'Успешно модель скачана и сохранена в пути {PATH_MODEL}')"
   ],
   "outputs": []
  },
  {
   "cell_type": "markdown",
   "id": "58722195-b8d5-4a08-944d-84fa851f25c8",
   "metadata": {},
   "source": [
    "## Загрузка датасета `common_voice_11_0`"
   ]
  },
  {
   "cell_type": "code",
   "execution_count": 9,
   "id": "8691f3ca-0552-4d09-a78d-f17581130ce0",
   "metadata": {},
   "source": [
    "%%time\n",
    "test_dataset_cv_11 = load_dataset(\"mozilla-foundation/common_voice_11_0\", LANG_ID, split=f\"test[:{SAMPLES}]\", trust_remote_code=True)"
   ],
   "outputs": []
  },
  {
   "cell_type": "code",
   "execution_count": 10,
   "id": "7cebb5e3-e88c-4bb5-9837-1a15b8b05370",
   "metadata": {},
   "source": [
    "if test_dataset_cv_11.features['audio'].sampling_rate != 16_000:\n",
    "    test_dataset_cv_11 = test_dataset_cv_11.cast_column(\n",
    "        'audio',\n",
    "        Audio(sampling_rate=16_000)\n",
    "    )"
   ],
   "outputs": []
  },
  {
   "cell_type": "code",
   "execution_count": 11,
   "id": "9ccceb07-5fa8-4003-82e4-7f798149947d",
   "metadata": {},
   "source": [
    "# Освобождаем памяти \n",
    "torch.cuda.empty_cache()"
   ],
   "outputs": []
  },
  {
   "cell_type": "code",
   "execution_count": 12,
   "id": "a9dd10dc-9533-4a66-be11-b23b9e7314a9",
   "metadata": {},
   "source": [
    "%%time\n",
    "audio_data = [test_dataset_cv_11[i]['audio']['array'] for i in range(SAMPLES)]\n",
    "\n",
    "processed = processor(audio_data, sampling_rate=16_000, return_tensors=\"pt\", padding='longest').to(device)"
   ],
   "outputs": []
  },
  {
   "cell_type": "markdown",
   "id": "cf9694a0-fd60-4b35-b443-1fa49beabe04",
   "metadata": {},
   "source": [
    "### Предсказание"
   ]
  },
  {
   "cell_type": "code",
   "execution_count": 13,
   "id": "2a5a791c-a314-4902-82f0-ab2fb23f98de",
   "metadata": {},
   "source": [
    "%%time\n",
    "try:\n",
    "    # Включение вычислений на GPU, если возможно\n",
    "    with torch.cuda.amp.autocast():\n",
    "        # Генерация предсказаний на GPU\n",
    "        predicted_ids = model.generate(**processed)\n",
    "    \n",
    "    # Перемещение предсказаний обратно на CPU для декодирования\n",
    "    predicted_ids = predicted_ids.to(\"cpu\")\n",
    "except Exception as error:\n",
    "    with torch.no_grad():\n",
    "        predicted_ids = model.generate(**processed)\n",
    "\n",
    "    print('ERROR: ', error)"
   ],
   "outputs": []
  },
  {
   "cell_type": "code",
   "execution_count": 14,
   "id": "ae3ab31e-7ccd-43b1-bedd-01ad592a42db",
   "metadata": {},
   "source": [
    "predicted_sentences = processor.batch_decode(\n",
    "    predicted_ids,\n",
    "    num_processes=num_processes,\n",
    "    skip_special_tokens=True\n",
    ")"
   ],
   "outputs": []
  },
  {
   "cell_type": "markdown",
   "id": "61b2cde5-b141-4dd0-b8b3-f553d7ba7137",
   "metadata": {},
   "source": [
    "### Вывод результатов"
   ]
  },
  {
   "cell_type": "code",
   "execution_count": 15,
   "id": "006fde7d-17b8-4716-88ad-831f3cf4a206",
   "metadata": {
    "scrolled": true
   },
   "source": [
    "with warnings.catch_warnings():\n",
    "    warnings.simplefilter(\"ignore\")\n",
    "    for i, predicted_sentence in enumerate(predicted_sentences):\n",
    "        print(\"-\" * 100)\n",
    "        print(\"Reference: \", test_dataset_cv_11[i][\"sentence\"])\n",
    "        print(\"Prediction:\", predicted_sentence)"
   ],
   "outputs": []
  },
  {
   "cell_type": "markdown",
   "id": "4a5361d9-3ee6-4d68-b05b-61eeca8ce145",
   "metadata": {},
   "source": [
    "### Тест WER, CER, MER, WIL"
   ]
  },
  {
   "cell_type": "code",
   "execution_count": 16,
   "id": "c26dce8c-dec8-4c07-ab18-e0780e8ff5f4",
   "metadata": {},
   "source": [
    "# Создадим списки с референсами и предсказанными текстами\n",
    "references = [test_dataset_cv_11[i][\"sentence\"] for i in range(SAMPLES)]"
   ],
   "outputs": []
  },
  {
   "cell_type": "code",
   "execution_count": 17,
   "id": "b64d4f2d-fdbd-4e1a-b2d3-f4b6b5e9f788",
   "metadata": {},
   "source": [
    "# Приведем все к нижнему регистру\n",
    "references = [ref.lower() for ref in references]\n",
    "predicted_sentences = [pred.lower() for pred in predicted_sentences]"
   ],
   "outputs": []
  },
  {
   "cell_type": "code",
   "execution_count": 18,
   "id": "dec43654-b141-473f-a479-4345d2284bd0",
   "metadata": {},
   "source": [
    "# Рассчитаем WER\n",
    "wer_score = wer(references, predicted_sentences)"
   ],
   "outputs": []
  },
  {
   "cell_type": "code",
   "execution_count": 19,
   "id": "5c6d9ebc-0d38-46b3-91c2-21778baba2fa",
   "metadata": {},
   "source": [
    "print(f\"Word Error Rate (WER): {wer_score * 100:.2f}%\")"
   ],
   "outputs": []
  },
  {
   "cell_type": "code",
   "execution_count": 20,
   "id": "d7224004-9e64-44d2-a90c-360626929ebd",
   "metadata": {},
   "source": [
    "# и CER\n",
    "cer_score = cer(references, predicted_sentences)"
   ],
   "outputs": []
  },
  {
   "cell_type": "code",
   "execution_count": 21,
   "id": "62a1351a-cde4-4a53-a928-4757ca7d57a3",
   "metadata": {},
   "source": [
    "print(f\"Character Error Rate (CER): {cer_score * 100:.2f}%\")"
   ],
   "outputs": []
  },
  {
   "cell_type": "code",
   "execution_count": 22,
   "id": "b20caff9-2b29-4059-9c66-45831ea4826f",
   "metadata": {},
   "source": [
    "# MER\n",
    "mer_score = mer(references, predicted_sentences)"
   ],
   "outputs": []
  },
  {
   "cell_type": "code",
   "execution_count": 23,
   "id": "29085cc3-e8df-4691-91be-a897cfb0e495",
   "metadata": {},
   "source": [
    "print(f\"Match Error Rate (MER): {mer_score * 100:.2f}%\")"
   ],
   "outputs": []
  },
  {
   "cell_type": "code",
   "execution_count": 24,
   "id": "2023af05-5450-4cb5-a130-44cbe8620bf8",
   "metadata": {},
   "source": [
    "# WIL\n",
    "wil_score = wil(references, predicted_sentences)"
   ],
   "outputs": []
  },
  {
   "cell_type": "code",
   "execution_count": 25,
   "id": "fbc55434-0172-4808-9c37-93fcf8c3d712",
   "metadata": {},
   "source": [
    "print(f\"Word Information Lost (WIL): {wil_score * 100:.2f}%\")"
   ],
   "outputs": []
  },
  {
   "cell_type": "code",
   "execution_count": 26,
   "id": "10f6b396-a009-48da-9467-6b5a94a6b38b",
   "metadata": {},
   "source": [
    "# Создание датафрейма\n",
    "info = info.append({\n",
    "    'MODEL': MODEL_ID,\n",
    "    'DATASET': test_dataset_cv_11.info.dataset_name,\n",
    "    'ORIGINAL TEXT': references,\n",
    "    'PREDICTION TEXT': predicted_sentences,\n",
    "    'WER': wer_score,\n",
    "    'CER': cer_score,\n",
    "    'MER': mer_score,\n",
    "    'WIL': wil_score,\n",
    "    'SAMPLES': SAMPLES\n",
    "}, ignore_index=True)\n",
    "display(info)"
   ],
   "outputs": []
  },
  {
   "cell_type": "markdown",
   "id": "2fe01c07-16b7-4730-ac41-4fdd64ab5659",
   "metadata": {},
   "source": [
    "## Загрузка датасета `common_voice_12_0`"
   ]
  },
  {
   "cell_type": "code",
   "execution_count": 27,
   "id": "9bb5254c-ae8f-4409-883c-35f2c95e9018",
   "metadata": {},
   "source": [
    "%%time\n",
    "test_dataset_cv_12 = load_dataset(\"mozilla-foundation/common_voice_12_0\", LANG_ID, split=f\"test[:{SAMPLES}]\", trust_remote_code=True)"
   ],
   "outputs": []
  },
  {
   "cell_type": "code",
   "execution_count": 28,
   "id": "2d283dee-a68d-4ef4-a450-271c71bc0cca",
   "metadata": {},
   "source": [
    "if test_dataset_cv_12.features['audio'].sampling_rate != 16_000:\n",
    "    test_dataset_cv_12 = test_dataset_cv_12.cast_column(\n",
    "        'audio',\n",
    "        Audio(sampling_rate=16_000)\n",
    "    )"
   ],
   "outputs": []
  },
  {
   "cell_type": "code",
   "execution_count": 29,
   "id": "5e70a3bf-0689-4fff-a2e0-cacfbb58a6ce",
   "metadata": {},
   "source": [
    "# Освобождаем памяти \n",
    "torch.cuda.empty_cache()"
   ],
   "outputs": []
  },
  {
   "cell_type": "code",
   "execution_count": 30,
   "id": "98ccb305-b080-4f5c-838e-5682c49cda18",
   "metadata": {},
   "source": [
    "%%time\n",
    "audio_data = [test_dataset_cv_12[i]['audio']['array'] for i in range(SAMPLES)]\n",
    "\n",
    "processed = processor(audio_data, sampling_rate=16_000, return_tensors=\"pt\", padding='longest').to(device)"
   ],
   "outputs": []
  },
  {
   "cell_type": "markdown",
   "id": "3f1bc674-8900-478d-b248-77ee03f4c943",
   "metadata": {},
   "source": [
    "### Предсказание"
   ]
  },
  {
   "cell_type": "code",
   "execution_count": 31,
   "id": "578451b9-f38e-4d39-8793-a3b100380ac5",
   "metadata": {},
   "source": [
    "%%time\n",
    "try:\n",
    "    # Включение вычислений на GPU, если возможно\n",
    "    with torch.cuda.amp.autocast():\n",
    "        # Генерация предсказаний на GPU\n",
    "        predicted_ids = model.generate(**processed)\n",
    "    \n",
    "    # Перемещение предсказаний обратно на CPU для декодирования\n",
    "    predicted_ids = predicted_ids.to(\"cpu\")\n",
    "except Exception as error:\n",
    "    with torch.no_grad():\n",
    "        predicted_ids = model.generate(**processed)\n",
    "\n",
    "    print('ERROR: ', error)"
   ],
   "outputs": []
  },
  {
   "cell_type": "code",
   "execution_count": 32,
   "id": "cdb869eb-2619-49dd-8c72-e1bba1ab7111",
   "metadata": {},
   "source": [
    "predicted_sentences = processor.batch_decode(\n",
    "    predicted_ids,\n",
    "    num_processes=num_processes,\n",
    "    skip_special_tokens=True\n",
    ")"
   ],
   "outputs": []
  },
  {
   "cell_type": "markdown",
   "id": "234aeab3-d729-4232-87c9-c4edb6ef4507",
   "metadata": {},
   "source": [
    "### Вывод результатов"
   ]
  },
  {
   "cell_type": "code",
   "execution_count": 33,
   "id": "3865dc54-a67e-4bca-a05d-fa0af6dda28c",
   "metadata": {
    "scrolled": true
   },
   "source": [
    "with warnings.catch_warnings():\n",
    "    warnings.simplefilter(\"ignore\")\n",
    "    for i, predicted_sentence in enumerate(predicted_sentences):\n",
    "        print(\"-\" * 100)\n",
    "        print(\"Reference: \", test_dataset_cv_12[i][\"sentence\"])\n",
    "        print(\"Prediction:\", predicted_sentence)"
   ],
   "outputs": []
  },
  {
   "cell_type": "markdown",
   "id": "fc0e5f96-7993-47ae-90f8-3cc6d540eec5",
   "metadata": {},
   "source": [
    "### Тест WER, CER, MER, WIL"
   ]
  },
  {
   "cell_type": "code",
   "execution_count": 34,
   "id": "e1082b02-dd85-4727-8dbf-d63e57f3e2e1",
   "metadata": {},
   "source": [
    "# Создадим списки с референсами и предсказанными текстами\n",
    "references = [test_dataset_cv_12[i][\"sentence\"] for i in range(SAMPLES)]"
   ],
   "outputs": []
  },
  {
   "cell_type": "code",
   "execution_count": 35,
   "id": "1934f556-7fe0-4693-a9e0-432c1b0adfe8",
   "metadata": {},
   "source": [
    "# Приведем все к нижнему регистру\n",
    "references = [ref.lower() for ref in references]\n",
    "predicted_sentences = [pred.lower() for pred in predicted_sentences]"
   ],
   "outputs": []
  },
  {
   "cell_type": "code",
   "execution_count": 36,
   "id": "02fdbe9b-deb6-47ac-b055-8288aa14b549",
   "metadata": {},
   "source": [
    "# Рассчитаем WER\n",
    "wer_score = wer(references, predicted_sentences)"
   ],
   "outputs": []
  },
  {
   "cell_type": "code",
   "execution_count": 37,
   "id": "1f04420f-8874-499d-9e68-9c148614b4c2",
   "metadata": {},
   "source": [
    "print(f\"Word Error Rate (WER): {wer_score * 100:.2f}%\")"
   ],
   "outputs": []
  },
  {
   "cell_type": "code",
   "execution_count": 38,
   "id": "b70f25ec-ed3b-4eb4-b3dc-cfc395e5372e",
   "metadata": {},
   "source": [
    "# и CER\n",
    "cer_score = cer(references, predicted_sentences)"
   ],
   "outputs": []
  },
  {
   "cell_type": "code",
   "execution_count": 39,
   "id": "26dc2a5b-152c-450b-90f6-12125fe2ffa3",
   "metadata": {},
   "source": [
    "print(f\"Character Error Rate (CER): {cer_score * 100:.2f}%\")"
   ],
   "outputs": []
  },
  {
   "cell_type": "code",
   "execution_count": 40,
   "id": "bd58f593-434e-476b-83da-3b4f295865d5",
   "metadata": {},
   "source": [
    "# MER\n",
    "mer_score = mer(references, predicted_sentences)"
   ],
   "outputs": []
  },
  {
   "cell_type": "code",
   "execution_count": 41,
   "id": "47e9b104-5f4b-4b68-afeb-7b53469ee34f",
   "metadata": {},
   "source": [
    "print(f\"Match Error Rate (MER): {mer_score * 100:.2f}%\")"
   ],
   "outputs": []
  },
  {
   "cell_type": "code",
   "execution_count": 42,
   "id": "98b7874c-467f-4d32-92d3-608a5c7dc6eb",
   "metadata": {},
   "source": [
    "# WIL\n",
    "wil_score = wil(references, predicted_sentences)"
   ],
   "outputs": []
  },
  {
   "cell_type": "code",
   "execution_count": 43,
   "id": "e1909ead-4557-496a-ae27-f666fb0b077c",
   "metadata": {},
   "source": [
    "print(f\"Word Information Lost (WIL): {wil_score * 100:.2f}%\")"
   ],
   "outputs": []
  },
  {
   "cell_type": "code",
   "execution_count": 44,
   "id": "95fe4a1f-74ad-40ba-90f8-8b310358b8a7",
   "metadata": {},
   "source": [
    "# Создание датафрейма\n",
    "info = info.append({\n",
    "    'MODEL': MODEL_ID,\n",
    "    'DATASET': test_dataset_cv_12.info.dataset_name,\n",
    "    'ORIGINAL TEXT': references,\n",
    "    'PREDICTION TEXT': predicted_sentences,\n",
    "    'WER': wer_score,\n",
    "    'CER': cer_score,\n",
    "    'MER': mer_score,\n",
    "    'WIL': wil_score,\n",
    "    'SAMPLES': SAMPLES\n",
    "}, ignore_index=True)\n",
    "display(info)"
   ],
   "outputs": []
  },
  {
   "cell_type": "markdown",
   "id": "703d4eb2-f7a0-4f95-9b91-41bff3b996a2",
   "metadata": {},
   "source": [
    "## Загрузка датасета `common_voice_14_0`"
   ]
  },
  {
   "cell_type": "code",
   "execution_count": 45,
   "id": "9a31026f-8bfd-483a-ab60-25f0ceb45128",
   "metadata": {},
   "source": [
    "%%time\n",
    "test_dataset_cv_14 = load_dataset(\"mozilla-foundation/common_voice_14_0\", LANG_ID, split=f\"test[:{SAMPLES}]\", trust_remote_code=True)"
   ],
   "outputs": []
  },
  {
   "cell_type": "code",
   "execution_count": 46,
   "id": "8721a6cc-4f77-4f98-b19b-f571d26b7fcb",
   "metadata": {},
   "source": [
    "if test_dataset_cv_14.features['audio'].sampling_rate != 16_000:\n",
    "    test_dataset_cv_14 = test_dataset_cv_14.cast_column(\n",
    "        'audio',\n",
    "        Audio(sampling_rate=16_000)\n",
    "    )"
   ],
   "outputs": []
  },
  {
   "cell_type": "code",
   "execution_count": 47,
   "id": "7187b412-ec8b-4da4-b353-6a9916f43a31",
   "metadata": {},
   "source": [
    "# Освобождаем памяти \n",
    "torch.cuda.empty_cache()"
   ],
   "outputs": []
  },
  {
   "cell_type": "code",
   "execution_count": 48,
   "id": "27111d61-41c6-40f4-af8d-bdc2862c7d1e",
   "metadata": {},
   "source": [
    "%%time\n",
    "audio_data = [test_dataset_cv_14[i]['audio']['array'] for i in range(SAMPLES)]\n",
    "\n",
    "processed = processor(audio_data, sampling_rate=16_000, return_tensors=\"pt\", padding='longest').to(device)"
   ],
   "outputs": []
  },
  {
   "cell_type": "markdown",
   "id": "703ea4b4-fcff-4729-a99b-ed11ef651d0f",
   "metadata": {},
   "source": [
    "### Предсказание"
   ]
  },
  {
   "cell_type": "code",
   "execution_count": 49,
   "id": "54694752-ba06-4cf5-a6cc-41ac36d3915a",
   "metadata": {},
   "source": [
    "%%time\n",
    "try:\n",
    "    # Включение вычислений на GPU, если возможно\n",
    "    with torch.cuda.amp.autocast():\n",
    "        # Генерация предсказаний на GPU\n",
    "        predicted_ids = model.generate(**processed)\n",
    "    \n",
    "    # Перемещение предсказаний обратно на CPU для декодирования\n",
    "    predicted_ids = predicted_ids.to(\"cpu\")\n",
    "except Exception as error:\n",
    "    with torch.no_grad():\n",
    "        predicted_ids = model.generate(**processed)\n",
    "\n",
    "    print('ERROR: ', error)"
   ],
   "outputs": []
  },
  {
   "cell_type": "code",
   "execution_count": 50,
   "id": "e37f789d-cfe1-4784-820d-a65465464d8c",
   "metadata": {},
   "source": [
    "predicted_sentences = processor.batch_decode(\n",
    "    predicted_ids,\n",
    "    num_processes=num_processes,\n",
    "    skip_special_tokens=True\n",
    ")"
   ],
   "outputs": []
  },
  {
   "cell_type": "markdown",
   "id": "b5926a67-5d59-4a03-a50a-0ed08eb6dba0",
   "metadata": {},
   "source": [
    "### Вывод результатов"
   ]
  },
  {
   "cell_type": "code",
   "execution_count": 51,
   "id": "3a8133e7-4c88-474c-8786-be23b9e374ee",
   "metadata": {
    "scrolled": true
   },
   "source": [
    "with warnings.catch_warnings():\n",
    "    warnings.simplefilter(\"ignore\")\n",
    "    for i, predicted_sentence in enumerate(predicted_sentences):\n",
    "        print(\"-\" * 100)\n",
    "        print(\"Reference: \", test_dataset_cv_14[i][\"sentence\"])\n",
    "        print(\"Prediction:\", predicted_sentence)"
   ],
   "outputs": []
  },
  {
   "cell_type": "markdown",
   "id": "8b0e5218-9419-433c-8f53-054dbbad2846",
   "metadata": {},
   "source": [
    "### Тест WER, CER, MER, WIL"
   ]
  },
  {
   "cell_type": "code",
   "execution_count": 52,
   "id": "cc3818c3-6961-453b-949f-b0e6138c5f16",
   "metadata": {},
   "source": [
    "# Создадим списки с референсами и предсказанными текстами\n",
    "references = [test_dataset_cv_14[i][\"sentence\"] for i in range(SAMPLES)]"
   ],
   "outputs": []
  },
  {
   "cell_type": "code",
   "execution_count": 53,
   "id": "beeca8e3-11b4-4e66-9cd2-caf0e5740fad",
   "metadata": {},
   "source": [
    "# Приведем все к нижнему регистру\n",
    "references = [ref.lower() for ref in references]\n",
    "predicted_sentences = [pred.lower() for pred in predicted_sentences]"
   ],
   "outputs": []
  },
  {
   "cell_type": "code",
   "execution_count": 54,
   "id": "0f37f3f2-d838-4067-a1a9-222a2ae15a5a",
   "metadata": {},
   "source": [
    "# Рассчитаем WER\n",
    "wer_score = wer(references, predicted_sentences)"
   ],
   "outputs": []
  },
  {
   "cell_type": "code",
   "execution_count": 55,
   "id": "a06cf6a7-b63c-4d37-a815-22069ea31863",
   "metadata": {},
   "source": [
    "print(f\"Word Error Rate (WER): {wer_score * 100:.2f}%\")"
   ],
   "outputs": []
  },
  {
   "cell_type": "code",
   "execution_count": 56,
   "id": "d6e00740-7ada-4a5d-aaa2-a0b472745ece",
   "metadata": {},
   "source": [
    "# и CER\n",
    "cer_score = cer(references, predicted_sentences)"
   ],
   "outputs": []
  },
  {
   "cell_type": "code",
   "execution_count": 57,
   "id": "ff2aec25-e25b-4fd7-9340-7efc642cfb71",
   "metadata": {},
   "source": [
    "print(f\"Character Error Rate (CER): {cer_score * 100:.2f}%\")"
   ],
   "outputs": []
  },
  {
   "cell_type": "code",
   "execution_count": 58,
   "id": "4c985fc4-8a9e-4fbc-852c-1affadd989ad",
   "metadata": {},
   "source": [
    "# MER\n",
    "mer_score = mer(references, predicted_sentences)"
   ],
   "outputs": []
  },
  {
   "cell_type": "code",
   "execution_count": 59,
   "id": "5bc240d8-c4a4-4330-8943-666c5ade62b4",
   "metadata": {},
   "source": [
    "print(f\"Match Error Rate (MER): {mer_score * 100:.2f}%\")"
   ],
   "outputs": []
  },
  {
   "cell_type": "code",
   "execution_count": 60,
   "id": "7da70268-91df-4bc0-949a-35ce27baf061",
   "metadata": {},
   "source": [
    "# WIL\n",
    "wil_score = wil(references, predicted_sentences)"
   ],
   "outputs": []
  },
  {
   "cell_type": "code",
   "execution_count": 61,
   "id": "1a0f2ebd-72aa-45ac-9723-8e096a69b051",
   "metadata": {},
   "source": [
    "print(f\"Word Information Lost (WIL): {wil_score * 100:.2f}%\")"
   ],
   "outputs": []
  },
  {
   "cell_type": "code",
   "execution_count": 62,
   "id": "3a3c2255-905e-4a23-a3af-d27c43f9298f",
   "metadata": {},
   "source": [
    "# Создание датафрейма\n",
    "info = info.append({\n",
    "    'MODEL': MODEL_ID,\n",
    "    'DATASET': test_dataset_cv_14.info.dataset_name,\n",
    "    'ORIGINAL TEXT': references,\n",
    "    'PREDICTION TEXT': predicted_sentences,\n",
    "    'WER': wer_score,\n",
    "    'CER': cer_score,\n",
    "    'MER': mer_score,\n",
    "    'WIL': wil_score,\n",
    "    'SAMPLES': SAMPLES\n",
    "}, ignore_index=True)\n",
    "display(info)"
   ],
   "outputs": []
  },
  {
   "cell_type": "code",
   "execution_count": 63,
   "id": "ee42c3d7-8a08-4bf9-bd7a-ced424b362a4",
   "metadata": {},
   "source": [
    "info.to_csv('recognition_speech/wav2vec2-mbart50-ru.csv', index=False)"
   ],
   "outputs": []
  }
 ],
 "metadata": {
  "kernelspec": {
   "display_name": "Python 3 (ipykernel)",
   "language": "python",
   "name": "python3"
  },
  "language_info": {
   "codemirror_mode": {
    "name": "ipython",
    "version": 3
   },
   "file_extension": ".py",
   "mimetype": "text/x-python",
   "name": "python",
   "nbconvert_exporter": "python",
   "pygments_lexer": "ipython3",
   "version": "3.9.18"
  }
 },
 "nbformat": 4,
 "nbformat_minor": 5
}
