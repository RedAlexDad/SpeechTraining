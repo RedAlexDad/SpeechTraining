{
 "cells": [
  {
   "cell_type": "code",
   "execution_count": 1,
   "id": "8f83567a-1540-45a3-8004-8626859ee67d",
   "metadata": {},
   "outputs": [],
   "source": [
    "# https://huggingface.co/bond005/wav2vec2-mbart50-ru"
   ]
  },
  {
   "cell_type": "code",
   "execution_count": 8,
   "id": "146739e0-86ce-45fb-b841-5cf34fa6767c",
   "metadata": {},
   "outputs": [],
   "source": [
    "import os\n",
    "import warnings\n",
    "\n",
    "import torch\n",
    "from datasets import load_dataset, load_from_disk\n",
    "from datasets.features import Audio\n",
    "from transformers import SpeechEncoderDecoderModel, Wav2Vec2Processor"
   ]
  },
  {
   "cell_type": "code",
   "execution_count": 3,
   "id": "1e720dc3-058f-43a2-a542-7d497dcccb20",
   "metadata": {},
   "outputs": [],
   "source": [
    "LANG_ID = \"ru\"\n",
    "MODEL_ID = \"bond005/wav2vec2-mbart50-ru\"\n",
    "PATH_MODEL = '/home/redalexdad/recognition_speech/wav2vec2-mbart50-ru'\n",
    "# Кол-во текстов для предсказания\n",
    "SAMPLES = 10"
   ]
  },
  {
   "cell_type": "code",
   "execution_count": 4,
   "id": "2db1bd2e-5897-41f3-9a1f-47cd2f350e94",
   "metadata": {},
   "outputs": [],
   "source": [
    "num_processes = max(1, os.cpu_count())"
   ]
  },
  {
   "cell_type": "code",
   "execution_count": 5,
   "id": "2ca3bd4a-224b-4d21-ba6e-fc4690dd18c9",
   "metadata": {},
   "outputs": [
    {
     "name": "stdout",
     "output_type": "stream",
     "text": [
      "Успешно модель загружена\n",
      "CPU times: user 13.4 s, sys: 4.23 s, total: 17.6 s\n",
      "Wall time: 30.6 s\n"
     ]
    }
   ],
   "source": [
    "%%time\n",
    "# Проверка наличия модели в локальном пути\n",
    "if os.path.exists(PATH_MODEL):\n",
    "    # Загрузка процессора из локального пути\n",
    "    processor = Wav2Vec2Processor.from_pretrained(PATH_MODEL)\n",
    "    \n",
    "    # Загрузка модели из локального пути\n",
    "    model = SpeechEncoderDecoderModel.from_pretrained(PATH_MODEL)\n",
    "    print('Успешно модель загружена')\n",
    "else:\n",
    "    # Загрузка процессора из сети и сохранение в локальный путь\n",
    "    processor = Wav2Vec2Processor.from_pretrained(MODEL_ID)\n",
    "    processor.save_pretrained(PATH_MODEL)\n",
    "    \n",
    "    # Загрузка модели из сети и сохранение в локальный путь\n",
    "    model = SpeechEncoderDecoderModel.from_pretrained(MODEL_ID)\n",
    "    model.save_pretrained(PATH_MODEL)\n",
    "    print(f'Успешно модель скачана и сохранена в пути {PATH_MODEL}')"
   ]
  },
  {
   "cell_type": "code",
   "execution_count": 11,
   "id": "8691f3ca-0552-4d09-a78d-f17581130ce0",
   "metadata": {},
   "outputs": [
    {
     "name": "stdout",
     "output_type": "stream",
     "text": [
      "CPU times: user 372 ms, sys: 23.9 ms, total: 396 ms\n",
      "Wall time: 3.95 s\n"
     ]
    }
   ],
   "source": [
    "%%time\n",
    "test_dataset = load_dataset(\"mozilla-foundation/common_voice_11_0\", LANG_ID, split=f\"test[:{SAMPLES}]\", trust_remote_code=True)"
   ]
  },
  {
   "cell_type": "code",
   "execution_count": 12,
   "id": "7cebb5e3-e88c-4bb5-9837-1a15b8b05370",
   "metadata": {},
   "outputs": [],
   "source": [
    "if test_dataset.features['audio'].sampling_rate != 16_000:\n",
    "    test_dataset = test_dataset.cast_column(\n",
    "        'audio',\n",
    "        Audio(sampling_rate=16_000)\n",
    "    )"
   ]
  },
  {
   "cell_type": "code",
   "execution_count": 13,
   "id": "a9dd10dc-9533-4a66-be11-b23b9e7314a9",
   "metadata": {},
   "outputs": [
    {
     "name": "stderr",
     "output_type": "stream",
     "text": [
      "2024-03-08 20:51:12.286218: E external/local_xla/xla/stream_executor/cuda/cuda_dnn.cc:9261] Unable to register cuDNN factory: Attempting to register factory for plugin cuDNN when one has already been registered\n",
      "2024-03-08 20:51:12.286342: E external/local_xla/xla/stream_executor/cuda/cuda_fft.cc:607] Unable to register cuFFT factory: Attempting to register factory for plugin cuFFT when one has already been registered\n",
      "2024-03-08 20:51:12.478110: E external/local_xla/xla/stream_executor/cuda/cuda_blas.cc:1515] Unable to register cuBLAS factory: Attempting to register factory for plugin cuBLAS when one has already been registered\n",
      "2024-03-08 20:51:12.861734: I tensorflow/core/platform/cpu_feature_guard.cc:182] This TensorFlow binary is optimized to use available CPU instructions in performance-critical operations.\n",
      "To enable the following instructions: AVX2 FMA, in other operations, rebuild TensorFlow with the appropriate compiler flags.\n",
      "2024-03-08 20:51:14.253564: W tensorflow/compiler/tf2tensorrt/utils/py_utils.cc:38] TF-TRT Warning: Could not find TensorRT\n"
     ]
    }
   ],
   "source": [
    "%%time\n",
    "audio_data = [test_dataset[i]['audio']['array'] for i in range(SAMPLES)]\n",
    "\n",
    "processed = processor(audio_data, sampling_rate=16_000, return_tensors=\"pt\", padding='longest')"
   ]
  },
  {
   "cell_type": "code",
   "execution_count": 14,
   "id": "763eef94-86e9-45d7-b087-5e6cbdab4cdf",
   "metadata": {},
   "outputs": [],
   "source": [
    "%%time\n",
    "with torch.no_grad():\n",
    "    predicted_ids = model.generate(**processed)"
   ]
  },
  {
   "cell_type": "code",
   "execution_count": 15,
   "id": "ae3ab31e-7ccd-43b1-bedd-01ad592a42db",
   "metadata": {},
   "outputs": [],
   "source": [
    "predicted_sentences = processor.batch_decode(\n",
    "    predicted_ids,\n",
    "    num_processes=num_processes,\n",
    "    skip_special_tokens=True\n",
    ")"
   ]
  },
  {
   "cell_type": "code",
   "execution_count": 16,
   "id": "006fde7d-17b8-4716-88ad-831f3cf4a206",
   "metadata": {
    "scrolled": true
   },
   "outputs": [
    {
     "name": "stdout",
     "output_type": "stream",
     "text": [
      "----------------------------------------------------------------------------------------------------\n",
      "Reference:  К сожалению, эти предложения не нашли отражения в тексте.\n",
      "Prediction: К сожалению, эти предложения не нашли отражения в тексте.\n",
      "----------------------------------------------------------------------------------------------------\n",
      "Reference:  Если не будет возражений, я буду считать, что Ассамблея согласна с этим предложением.\n",
      "Prediction: Если не будет возражений, я буду считать, что Ассамблея согласна с этим предложением.\n",
      "----------------------------------------------------------------------------------------------------\n",
      "Reference:  Новошахтинск — милый город\n",
      "Prediction: Новошахтинске милый город.\n",
      "----------------------------------------------------------------------------------------------------\n",
      "Reference:  Мы особенно рады отметить, что число скрывающихся от правосудия лиц уменьшилось.\n",
      "Prediction: Мы все равно рады отметить, что число, в том числе в Таиланде, по совещанию Дудицы меньше.\n",
      "----------------------------------------------------------------------------------------------------\n",
      "Reference:  Контроллер\n",
      "Prediction: контролёр!\n",
      "----------------------------------------------------------------------------------------------------\n",
      "Reference:  Создание устойчивых обществ требует от нас готовности на всех уровнях.\n",
      "Prediction: Создание устойчивых обществ требует от нас готовности на всех уровнях.\n",
      "----------------------------------------------------------------------------------------------------\n",
      "Reference:  Нет, я не вижу, почему это не может быть новая сила, если она....\n",
      "Prediction: Нет, я не вижу, почему это — не может быть, и новая сила, если она.\n",
      "----------------------------------------------------------------------------------------------------\n",
      "Reference:  Палестинцам необходимо сначала установить мир с Израилем, а затем добиваться признания государственности.\n",
      "Prediction: Палестинцам необходимо сначала установить с ним мир, с израильтьем, а затем добиваться признания государственности.\n",
      "----------------------------------------------------------------------------------------------------\n",
      "Reference:  Наталия\n",
      "Prediction: Наталья!\n",
      "----------------------------------------------------------------------------------------------------\n",
      "Reference:  И главное, переговори с ней.\n",
      "Prediction: И главное — переговорить с ним.\n",
      "----------------------------------------------------------------------------------------------------\n",
      "Reference:  – Мне надоели твои ночные похождения, – говорил Георгий.\n",
      "Prediction: Мне надоели твои ночные похождения, – говорил Георгий.\n",
      "----------------------------------------------------------------------------------------------------\n",
      "Reference:  У меня было такое чувство, что что-то такое очень важное я прибавляю.\n",
      "Prediction: У меня было такое чувство, что кто-то такой очень важной, я добавляю.\n",
      "----------------------------------------------------------------------------------------------------\n",
      "Reference:  Я ведь добрый-добрый.\n",
      "Prediction: Я ведь добрый добрый!\n",
      "----------------------------------------------------------------------------------------------------\n",
      "Reference:  Ей можно было жалеть о себе, но не ему о ней.\n",
      "Prediction: Ей можно было жалеть о себе, но не ему о ней.\n",
      "----------------------------------------------------------------------------------------------------\n",
      "Reference:  Нашей неотложной задачей должно стать выполнение соответствующих обязательств в отношении совместных действий.\n",
      "Prediction: Наши неотложные задачи должно стать выполнением соответствующих обязательств в отношении совместных действий.\n",
      "----------------------------------------------------------------------------------------------------\n",
      "Reference:  Две недели тому назад было получено кающееся письмо Степана Аркадьича к Долли.\n",
      "Prediction: Две недели тому назад было получено кайящее письмо Степана Аркадьича Чагги.\n",
      "----------------------------------------------------------------------------------------------------\n",
      "Reference:  Извините, что нечисто.\n",
      "Prediction: Извините, что не чисто.\n",
      "----------------------------------------------------------------------------------------------------\n",
      "Reference:  Конечно, будучи неофициальным, он будет наличествовать только на английском языке.\n",
      "Prediction: В моем качестве официального он будет наличествовать только на английском языке.\n",
      "----------------------------------------------------------------------------------------------------\n",
      "Reference:  К сожалению, ситуация продолжает ухудшаться.\n",
      "Prediction: К сожалению, ситуация продолжает ухудшиться.\n",
      "----------------------------------------------------------------------------------------------------\n",
      "Reference:  Такая беленькая, с косой.\n",
      "Prediction: Такая беленькая скастой.\n",
      "----------------------------------------------------------------------------------------------------\n",
      "Reference:  Да, к Долли?\n",
      "Prediction: Да, где же?\n",
      "----------------------------------------------------------------------------------------------------\n",
      "Reference:  «Байконур» — это первый и крупнейший в мире космодром международного значения.\n",
      "Prediction: Байконур — это первый и крупнейший в мире космодром международного значения.\n",
      "----------------------------------------------------------------------------------------------------\n",
      "Reference:  Как дела?\n",
      "Prediction: Как дела?\n",
      "----------------------------------------------------------------------------------------------------\n",
      "Reference:  Ступайте к Акулине Памфиловне; я сейчас туда же буду».\n",
      "Prediction: – ступайте к окне Панфилов, я сейчас туда же буду.\n",
      "----------------------------------------------------------------------------------------------------\n",
      "Reference:  Я считаю, что это будет иметь большое значение.\n",
      "Prediction: Я считаю, что это будет иметь большое значение.\n",
      "----------------------------------------------------------------------------------------------------\n",
      "Reference:  Первое время ей не читалось.\n",
      "Prediction: Первое время ей не читалось.\n",
      "----------------------------------------------------------------------------------------------------\n",
      "Reference:  Людям страшно – у меня изо рта шевелит ногами непрожеванный крик.\n",
      "Prediction: Людим страшно у меня из оташи льют ноги не прожеванный крик.\n",
      "----------------------------------------------------------------------------------------------------\n",
      "Reference:  Сегодня мы гордимся своими достижениями.\n",
      "Prediction: Сегодня мы гордимся своими достижениями.\n",
      "----------------------------------------------------------------------------------------------------\n",
      "Reference:  Чем больше она узнавала Вронского, тем больше она любила его.\n",
      "Prediction: Чем больше она узнавала Вронского, тем больше она любила его.\n",
      "----------------------------------------------------------------------------------------------------\n",
      "Reference:  Теперь дело, конечно, за тем, чтобы превратить слова в дела.\n",
      "Prediction: Теперь дело, конечно, за тем, чтобы превратить слова в дела.\n"
     ]
    }
   ],
   "source": [
    "with warnings.catch_warnings():\n",
    "    warnings.simplefilter(\"ignore\")\n",
    "    for i, predicted_sentence in enumerate(predicted_sentences):\n",
    "        print(\"-\" * 100)\n",
    "        print(\"Reference: \", test_dataset[i][\"sentence\"])\n",
    "        print(\"Prediction:\", predicted_sentence)"
   ]
  },
  {
   "cell_type": "code",
   "execution_count": null,
   "id": "a8333f54-83ff-4f55-89b5-8a155077d2ec",
   "metadata": {},
   "outputs": [],
   "source": []
  }
 ],
 "metadata": {
  "kernelspec": {
   "display_name": "Python 3 (ipykernel)",
   "language": "python",
   "name": "python3"
  },
  "language_info": {
   "codemirror_mode": {
    "name": "ipython",
    "version": 3
   },
   "file_extension": ".py",
   "mimetype": "text/x-python",
   "name": "python",
   "nbconvert_exporter": "python",
   "pygments_lexer": "ipython3",
   "version": "3.9.18"
  }
 },
 "nbformat": 4,
 "nbformat_minor": 5
}
