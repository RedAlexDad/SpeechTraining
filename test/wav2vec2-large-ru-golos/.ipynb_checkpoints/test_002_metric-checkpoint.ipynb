{
 "cells": [
  {
   "cell_type": "markdown",
   "id": "37eb7a16-6c5d-4bce-96d3-4a623cd094ad",
   "metadata": {},
   "source": [
    "# Wav2Vec2-Large-Ru-Golos"
   ]
  },
  {
   "cell_type": "markdown",
   "id": "3432f5e5-7af8-42cc-ba80-fbc7ac73fd30",
   "metadata": {},
   "source": [
    "##### https://huggingface.co/bond005/wav2vec2-large-ru-golos"
   ]
  },
  {
   "cell_type": "markdown",
   "id": "2f8f5a43-1c2f-488b-bcb8-e144f8b1e5b5",
   "metadata": {},
   "source": [
    "Модель Wav2Vec2 основана на `facebook/wav2vec2-large-xlsr-53`, доработана на русском языке с помощью `Sberdevices Gloss` с дополнениями для звука, такими как сдвиг высоты тона, ускорение / замедление звука, реверберация и т.д.\n",
    "\n",
    "При использовании этой модели убедитесь, что частота дискретизации речевого ввода составляет 16 кГц."
   ]
  },
  {
   "cell_type": "markdown",
   "id": "269f2276-78fe-45c5-832d-9aaef27228e9",
   "metadata": {},
   "source": [
    "## Подключение библиотеки"
   ]
  },
  {
   "cell_type": "code",
   "execution_count": 1,
   "id": "47d1b521-562b-497c-b536-b8fb76f0033a",
   "metadata": {},
   "source": [
    "import os\n",
    "import warnings\n",
    "\n",
    "import torch\n",
    "from datasets import load_dataset, load_from_disk\n",
    "from datasets.features import Audio\n",
    "from transformers import Wav2Vec2ForCTC, Wav2Vec2Processor\n",
    "import pandas as pd\n",
    "import torchaudio\n",
    "\n",
    "# Для теста WER - Word Error Rate\n",
    "# CER - Character Error Rate\n",
    "# MER - Match Error Rate\n",
    "# WIL - Word Information Lost\n",
    "from jiwer import wer, cer, mer, wil"
   ],
   "outputs": []
  },
  {
   "cell_type": "markdown",
   "id": "eb83b75a-b560-43d8-8ba8-d2b5241c7ec4",
   "metadata": {},
   "source": [
    "## Использование CUDA"
   ]
  },
  {
   "cell_type": "code",
   "execution_count": 2,
   "id": "fb4ef402-5896-40f2-979c-0deab64abd00",
   "metadata": {},
   "source": [
    "# Check if CUDA is available\n",
    "if torch.cuda.is_available():\n",
    "    # Get the device name\n",
    "    device = torch.cuda.current_device()\n",
    "    print(f\"Code is connected to CUDA. Using GPU: {torch.cuda.get_device_name(device)}\")\n",
    "else:\n",
    "    print(\"CUDA is not available. Running on CPU.\")"
   ],
   "outputs": []
  },
  {
   "cell_type": "code",
   "execution_count": 3,
   "id": "acd149bb-fc58-4c75-a50c-976af6ac9dc1",
   "metadata": {},
   "source": [
    "# Все равно у меня не хватит памяти для выполнения(\n",
    "device = 'cpu'"
   ],
   "outputs": []
  },
  {
   "cell_type": "markdown",
   "id": "f0461037-a1a9-446f-a911-264642692f20",
   "metadata": {},
   "source": [
    "Не загружаем модель через CUDA, памяти не хватило\n",
    "\n",
    "`RuntimeError: CUDA out of memory. Tried to allocate 16.00 MiB (GPU 0; 3.63 GiB total capacity; 2.56 GiB already allocated; 7.12 MiB free; 2.58 GiB reserved in total by PyTorch) If reserved memory is >> allocated memory try setting max_split_size_mb to avoid fragmentation.  See documentation for Memory Management and PYTORCH_CUDA_ALLOC_CONF`"
   ]
  },
  {
   "cell_type": "code",
   "execution_count": 4,
   "id": "6eb79a93-3b20-4aea-8855-9089bcf23274",
   "metadata": {},
   "source": [
    "# Создадим датафрейм, который будет собирать данные и сохранять\n",
    "info = pd.DataFrame()"
   ],
   "outputs": []
  },
  {
   "cell_type": "markdown",
   "id": "67e8a72f-1879-4c80-99b2-6a71653a655f",
   "metadata": {},
   "source": [
    "## Загрузка модели"
   ]
  },
  {
   "cell_type": "code",
   "execution_count": 5,
   "id": "aae3af6a-aecf-4889-b8ca-ca965e4c91bd",
   "metadata": {},
   "source": [
    "LANG_ID = \"ru\"\n",
    "MODEL_ID = 'bond005/wav2vec2-large-ru-golos'\n",
    "PATH_MODEL = '/home/redalexdad/recognition_speech/wav2vec2-large-ru-golos'\n",
    "# Кол-во текстов для предсказания\n",
    "# ВНИМАНИЕ, НЕ СТАВЬ БОЛЬШЕ 10, ОС ЗАВИСНЕТ И ЯДРО УПАДЕТ!\n",
    "SAMPLES = 3"
   ],
   "outputs": []
  },
  {
   "cell_type": "code",
   "execution_count": 6,
   "id": "0d364e67-1439-41c7-a438-5b00ce330454",
   "metadata": {},
   "source": [
    "# Проверка наличия модели в локальном пути\n",
    "if not os.path.exists(PATH_MODEL):\n",
    "    processor = Wav2Vec2Processor.from_pretrained(PATH_MODEL)\n",
    "    model = Wav2Vec2ForCTC.from_pretrained(PATH_MODEL).to(device)\n",
    "    print('Успешно модель загружена')\n",
    "else:\n",
    "    # Загрузка процессора из сети\n",
    "    processor = Wav2Vec2Processor.from_pretrained(\"bond005/wav2vec2-large-ru-golos\")\n",
    "    processor.save_pretrained(PATH_MODEL)\n",
    "    \n",
    "    # Загрузка модели из сети\n",
    "    model = Wav2Vec2ForCTC.from_pretrained(\"bond005/wav2vec2-large-ru-golos\").to(device)\n",
    "    model.save_pretrained(PATH_MODEL)\n",
    "    \n",
    "    print(f'Успешно процессор и модель скачаны и сохранены в пути {PATH_MODEL}')"
   ],
   "outputs": []
  },
  {
   "cell_type": "markdown",
   "id": "a7f97941-076b-4e37-b11b-ff630bb1cbdf",
   "metadata": {},
   "source": [
    "## Загрузка датасета и небольшая проверка `sberdevices_golos_10h_crowd`"
   ]
  },
  {
   "cell_type": "code",
   "execution_count": 7,
   "id": "34a8f5cd-19c9-41c2-bb83-14559aa743ff",
   "metadata": {},
   "source": [
    "# Загрузка тестовую часть набора данных Golos и чтение первого звукового файла\n",
    "ds = load_dataset(\"bond005/sberdevices_golos_10h_crowd\", split=\"test\")"
   ],
   "outputs": []
  },
  {
   "cell_type": "code",
   "execution_count": 8,
   "id": "b0ce9795-3330-4d64-95fb-529be28ba29d",
   "metadata": {},
   "source": [
    "# Токенизация\n",
    "# Batch size 1\n",
    "processed = processor(ds[0][\"audio\"][\"array\"], return_tensors=\"pt\", padding=\"longest\").to(device)"
   ],
   "outputs": []
  },
  {
   "cell_type": "code",
   "execution_count": 9,
   "id": "72ff0e4a-6aba-4a00-82a4-5615f54e0e36",
   "metadata": {},
   "source": [
    "# Освобождение памяти на GPU\n",
    "torch.cuda.empty_cache()"
   ],
   "outputs": []
  },
  {
   "cell_type": "code",
   "execution_count": 10,
   "id": "4e62b776-2de0-41fd-b110-4846b5b8e567",
   "metadata": {},
   "source": [
    "# Извлекаем логиты\n",
    "logits = model(processed.input_values, attention_mask=processed.attention_mask).logits"
   ],
   "outputs": []
  },
  {
   "cell_type": "code",
   "execution_count": 11,
   "id": "6bac944b-69e9-4b27-a59e-2837ea9dec07",
   "metadata": {},
   "source": [
    "# Транскрибация\n",
    "predicted_ids = torch.argmax(logits, dim=-1)\n",
    "transcription = processor.batch_decode(predicted_ids)[0]\n",
    "print(transcription)"
   ],
   "outputs": []
  },
  {
   "cell_type": "markdown",
   "id": "1bb41004-5a5c-4294-a666-0a50cde2843b",
   "metadata": {},
   "source": [
    "## Загрузка датасета `common_voice_11_0`"
   ]
  },
  {
   "cell_type": "code",
   "execution_count": 12,
   "id": "fe875f79-ade7-45fa-b0bc-71a28c43129f",
   "metadata": {},
   "source": [
    "%%time\n",
    "test_dataset_cv_11 = load_dataset(\"mozilla-foundation/common_voice_11_0\", LANG_ID, split=f\"test[:{SAMPLES}]\", trust_remote_code=True)"
   ],
   "outputs": []
  },
  {
   "cell_type": "code",
   "execution_count": 13,
   "id": "d872bbb5-d9ff-4aa2-88c6-e31cae39bfd2",
   "metadata": {},
   "source": [
    "if test_dataset_cv_11.features['audio'].sampling_rate != 16_000:\n",
    "    test_dataset_cv_11 = test_dataset_cv_11.cast_column(\n",
    "        'audio',\n",
    "        Audio(sampling_rate=16_000)\n",
    "    )"
   ],
   "outputs": []
  },
  {
   "cell_type": "markdown",
   "id": "baac513b-e2a6-4d93-9cf2-d680fa5cb76a",
   "metadata": {},
   "source": [
    "### Предсказание"
   ]
  },
  {
   "cell_type": "code",
   "execution_count": 14,
   "id": "79ec5c04-100d-4a7f-96cc-565fb85c0f4d",
   "metadata": {},
   "source": [
    "# Освобождаем памяти\n",
    "torch.cuda.empty_cache()"
   ],
   "outputs": []
  },
  {
   "cell_type": "code",
   "execution_count": 15,
   "id": "6bb2ccc9-784f-46ca-8651-3bcbbe7eaf16",
   "metadata": {},
   "source": [
    "%%time\n",
    "audio_data = [test_dataset_cv_11[i]['audio']['array'] for i in range(SAMPLES)]\n",
    "\n",
    "processed = processor(audio_data, sampling_rate=16_000, return_tensors=\"pt\", padding='longest').to(device)"
   ],
   "outputs": []
  },
  {
   "cell_type": "code",
   "execution_count": 16,
   "id": "d32419d9-b988-428e-938c-60d8eaa27985",
   "metadata": {},
   "source": [
    "# Извлекаем логиты напрямую с использованием model.forward\n",
    "logits = model(processed.input_values, attention_mask=processed.attention_mask).logits"
   ],
   "outputs": []
  },
  {
   "cell_type": "code",
   "execution_count": 17,
   "id": "89536aaa-d0db-4f31-890f-7adc69a4ade7",
   "metadata": {},
   "source": [
    "# Оригинальные тексты из датасета\n",
    "original_texts = [test_dataset_cv_11[i]['sentence'] for i in range(SAMPLES)]"
   ],
   "outputs": []
  },
  {
   "cell_type": "code",
   "execution_count": 18,
   "id": "e15df0dd-de35-47bc-b951-b1886bdf75f3",
   "metadata": {},
   "source": [
    "# Транскрибация\n",
    "predicted_ids = torch.argmax(logits, dim=-1)\n",
    "transcription = processor.batch_decode(predicted_ids)"
   ],
   "outputs": []
  },
  {
   "cell_type": "markdown",
   "id": "b63a8992-add7-4bf1-b95a-38af5198f642",
   "metadata": {},
   "source": [
    "### Вывод результатов"
   ]
  },
  {
   "cell_type": "code",
   "execution_count": 19,
   "id": "8ffda5fd-7bed-41af-b57e-ec8f6ac8894b",
   "metadata": {},
   "source": [
    "# Вывод оригинальных и предсказанных текстов\n",
    "print('-'*100)\n",
    "for i, (original_text, predicted_text) in enumerate(zip(original_texts, transcription)):\n",
    "    print(f\"Sample {i + 1} \\n- Канонический текст: {original_text}\")\n",
    "    print(f\"- Предсказанный текст: {predicted_text}\")\n",
    "    print(\"-\" * 100)"
   ],
   "outputs": []
  },
  {
   "cell_type": "markdown",
   "id": "2d11427f-9507-4062-9ce9-648d6988f84e",
   "metadata": {},
   "source": [
    "### Тест WER, CER, MER, WIL"
   ]
  },
  {
   "cell_type": "code",
   "execution_count": 20,
   "id": "53d0ce14-ee19-4bc4-abb4-c2cef235c956",
   "metadata": {},
   "source": [
    "# Приведем все к нижнему регистру\n",
    "original_texts = [ref.lower() for ref in original_texts]\n",
    "transcription = [pred.lower() for pred in transcription]"
   ],
   "outputs": []
  },
  {
   "cell_type": "code",
   "execution_count": 21,
   "id": "530bf919-a6e6-43f6-bf74-34cc351ada5c",
   "metadata": {},
   "source": [
    "original_texts"
   ],
   "outputs": []
  },
  {
   "cell_type": "code",
   "execution_count": 21,
   "id": "9caa2d82-a604-425f-8d08-03a1f4ea1e7b",
   "metadata": {},
   "source": [
    "# Рассчитаем WER\n",
    "wer_score = wer(original_texts, transcription)"
   ],
   "outputs": []
  },
  {
   "cell_type": "code",
   "execution_count": 22,
   "id": "3305419a-6dd5-4ec8-a1a8-9e6ca56db128",
   "metadata": {},
   "source": [
    "print(f\"Word Error Rate (WER): {wer_score * 100:.2f}%\")"
   ],
   "outputs": []
  },
  {
   "cell_type": "code",
   "execution_count": 23,
   "id": "76e54d9f-ff3a-4d54-a5cd-e6a4547c3e3f",
   "metadata": {},
   "source": [
    "# и CER\n",
    "cer_score = cer(original_texts, transcription)"
   ],
   "outputs": []
  },
  {
   "cell_type": "code",
   "execution_count": 24,
   "id": "cf51a70e-79a5-4475-b2e0-445782353cdf",
   "metadata": {},
   "source": [
    "print(f\"Character Error Rate (CER): {cer_score * 100:.2f}%\")"
   ],
   "outputs": []
  },
  {
   "cell_type": "code",
   "execution_count": 25,
   "id": "20aea7a5-56b5-4e48-820d-ff340177a7c3",
   "metadata": {},
   "source": [
    "# MER\n",
    "mer_score = mer(original_texts, transcription)"
   ],
   "outputs": []
  },
  {
   "cell_type": "code",
   "execution_count": 26,
   "id": "3eeb5ef0-c865-460b-92ba-b0f5ab1d6ec2",
   "metadata": {},
   "source": [
    "print(f\"Match Error Rate (MER): {mer_score * 100:.2f}%\")"
   ],
   "outputs": []
  },
  {
   "cell_type": "code",
   "execution_count": 27,
   "id": "344aa4df-5731-42a5-985c-e02b0df15bad",
   "metadata": {},
   "source": [
    "# WIL\n",
    "wil_score = wil(original_texts, transcription)"
   ],
   "outputs": []
  },
  {
   "cell_type": "code",
   "execution_count": 28,
   "id": "26e820a1-baa2-49b2-9db3-e368688de06b",
   "metadata": {},
   "source": [
    "print(f\"Word Information Lost (WIL): {wil_score * 100:.2f}%\")"
   ],
   "outputs": []
  },
  {
   "cell_type": "code",
   "execution_count": 29,
   "id": "82de810f-9b5f-4236-829a-d60b7ca1adef",
   "metadata": {},
   "source": [
    "# Создание датафрейма\n",
    "info = info.append({\n",
    "    'MODEL': MODEL_ID,\n",
    "    'DATASET': test_dataset_cv_11.info.dataset_name,\n",
    "    'ORIGINAL TEXT': original_texts,\n",
    "    'PREDICTION TEXT': transcription,\n",
    "    'WER': wer_score,\n",
    "    'CER': cer_score,\n",
    "    'MER': mer_score,\n",
    "    'WIL': wil_score,\n",
    "    'SAMPLES': SAMPLES\n",
    "}, ignore_index=True)\n",
    "display(info)"
   ],
   "outputs": []
  },
  {
   "cell_type": "markdown",
   "id": "28bc8ce2-2cb6-451b-99cc-ac17f3052b99",
   "metadata": {},
   "source": [
    "## Загрузка датасета `common_voice_12_0`"
   ]
  },
  {
   "cell_type": "code",
   "execution_count": 30,
   "id": "85cc17f1-7e9e-46ba-a41f-8dc2a39df420",
   "metadata": {},
   "source": [
    "%%time\n",
    "test_dataset_cv_12 = load_dataset(\"mozilla-foundation/common_voice_12_0\", LANG_ID, split=f\"test[:{SAMPLES}]\", trust_remote_code=True)"
   ],
   "outputs": []
  },
  {
   "cell_type": "code",
   "execution_count": 31,
   "id": "da58908e-8f2c-4560-9417-fe0c46d1aea2",
   "metadata": {},
   "source": [
    "if test_dataset_cv_12.features['audio'].sampling_rate != 16_000:\n",
    "    test_dataset_cv_12 = test_dataset_cv_12.cast_column(\n",
    "        'audio',\n",
    "        Audio(sampling_rate=16_000)\n",
    "    )"
   ],
   "outputs": []
  },
  {
   "cell_type": "markdown",
   "id": "4f369409-32c8-4792-840e-7ca2d1d8e107",
   "metadata": {},
   "source": [
    "### Предсказание"
   ]
  },
  {
   "cell_type": "code",
   "execution_count": 32,
   "id": "35875be2-c34d-4bcf-82e1-105a12275b45",
   "metadata": {},
   "source": [
    "# Освобождаем памяти 50\n",
    "torch.cuda.empty_cache()"
   ],
   "outputs": []
  },
  {
   "cell_type": "code",
   "execution_count": 33,
   "id": "e2b0699a-7ad3-41ba-bec8-2dd5c17ed4a1",
   "metadata": {},
   "source": [
    "%%time\n",
    "audio_data = [test_dataset_cv_12[i]['audio']['array'] for i in range(SAMPLES)]\n",
    "\n",
    "processed = processor(audio_data, sampling_rate=16_000, return_tensors=\"pt\", padding='longest').to(device)"
   ],
   "outputs": []
  },
  {
   "cell_type": "code",
   "execution_count": 34,
   "id": "443835ac-d3b1-4c39-a5fd-93063a08dac7",
   "metadata": {},
   "source": [
    "# Извлекаем логиты напрямую с использованием model.forward\n",
    "logits = model(processed.input_values, attention_mask=processed.attention_mask).logits"
   ],
   "outputs": []
  },
  {
   "cell_type": "code",
   "execution_count": 35,
   "id": "275d7499-b06e-47b2-9ccb-198269e485cd",
   "metadata": {},
   "source": [
    "# Оригинальные тексты из датасета\n",
    "original_texts = [test_dataset_cv_12[i]['sentence'] for i in range(SAMPLES)]"
   ],
   "outputs": []
  },
  {
   "cell_type": "code",
   "execution_count": 36,
   "id": "50e7505d-93a2-4765-80eb-bea304fb2688",
   "metadata": {},
   "source": [
    "# Транскрибация\n",
    "predicted_ids = torch.argmax(logits, dim=-1)\n",
    "transcription = processor.batch_decode(predicted_ids)"
   ],
   "outputs": []
  },
  {
   "cell_type": "markdown",
   "id": "0259d299-f3b1-4bd1-bef8-aa9ba05939d9",
   "metadata": {},
   "source": [
    "### Вывод результатов"
   ]
  },
  {
   "cell_type": "code",
   "execution_count": 37,
   "id": "eaed0a78-6bab-445a-8b21-178be03ff8df",
   "metadata": {},
   "source": [
    "# Вывод оригинальных и предсказанных текстов\n",
    "print('-'*100)\n",
    "for i, (original_text, predicted_text) in enumerate(zip(original_texts, transcription)):\n",
    "    print(f\"Sample {i + 1} \\n- Канонический текст: {original_text}\")\n",
    "    print(f\"- Предсказанный текст: {predicted_text}\")\n",
    "    print(\"-\" * 100)"
   ],
   "outputs": []
  },
  {
   "cell_type": "markdown",
   "id": "79e20570-2c92-4cac-a1be-596cacbabd7c",
   "metadata": {},
   "source": [
    "### Тест WER, CER"
   ]
  },
  {
   "cell_type": "code",
   "execution_count": 38,
   "id": "3dde5aba-214a-4867-9a57-cdf8d2263431",
   "metadata": {},
   "source": [
    "# Приведем все к нижнему регистру\n",
    "original_texts = [ref.lower() for ref in original_texts]\n",
    "transcription = [pred.lower() for pred in transcription]"
   ],
   "outputs": []
  },
  {
   "cell_type": "code",
   "execution_count": 39,
   "id": "2b7f34f0-514d-49dc-9ffe-0a52c1038468",
   "metadata": {},
   "source": [
    "# Рассчитаем WER\n",
    "wer_score = wer(original_texts, transcription)"
   ],
   "outputs": []
  },
  {
   "cell_type": "code",
   "execution_count": 40,
   "id": "97dd31b9-61ac-4457-bba1-71b768dabff7",
   "metadata": {},
   "source": [
    "print(f\"Word Error Rate (WER): {wer_score * 100:.2f}%\")"
   ],
   "outputs": []
  },
  {
   "cell_type": "code",
   "execution_count": 41,
   "id": "ba922df8-acdd-475a-9125-90e61ebaf5d5",
   "metadata": {},
   "source": [
    "# и CER\n",
    "cer_score = cer(original_texts, transcription)"
   ],
   "outputs": []
  },
  {
   "cell_type": "code",
   "execution_count": 42,
   "id": "287ba463-159b-49f5-8f0f-f5ca7c5dda94",
   "metadata": {},
   "source": [
    "print(f\"Character Error Rate (CER): {cer_score * 100:.2f}%\")"
   ],
   "outputs": []
  },
  {
   "cell_type": "code",
   "execution_count": 43,
   "id": "2ee2acfa-2753-4b0d-8ab1-e1807327623c",
   "metadata": {},
   "source": [
    "# MER\n",
    "mer_score = mer(original_texts, transcription)"
   ],
   "outputs": []
  },
  {
   "cell_type": "code",
   "execution_count": 44,
   "id": "f6fb0b0b-08ea-42e7-a614-a54e65dc38f7",
   "metadata": {},
   "source": [
    "print(f\"Match Error Rate (MER): {mer_score * 100:.2f}%\")"
   ],
   "outputs": []
  },
  {
   "cell_type": "code",
   "execution_count": 45,
   "id": "ccdd7f9a-692b-4a3e-8889-36c8d3e4dcea",
   "metadata": {},
   "source": [
    "# WIL\n",
    "wil_score = wil(original_texts, transcription)"
   ],
   "outputs": []
  },
  {
   "cell_type": "code",
   "execution_count": 46,
   "id": "48d444f3-8807-4af0-b13d-2cde52a9f7ca",
   "metadata": {},
   "source": [
    "print(f\"Word Information Lost (WIL): {wil_score * 100:.2f}%\")"
   ],
   "outputs": []
  },
  {
   "cell_type": "code",
   "execution_count": 47,
   "id": "2741610c-6369-4b6e-9cf5-467680202ecf",
   "metadata": {},
   "source": [
    "# Создание датафрейма\n",
    "info = info.append({\n",
    "    'MODEL': MODEL_ID,\n",
    "    'DATASET': test_dataset_cv_12.info.dataset_name,\n",
    "    'ORIGINAL TEXT': original_texts,\n",
    "    'PREDICTION TEXT': transcription,\n",
    "    'WER': wer_score,\n",
    "    'CER': cer_score,\n",
    "    'MER': mer_score,\n",
    "    'WIL': wil_score,\n",
    "    'SAMPLES': SAMPLES\n",
    "}, ignore_index=True)\n",
    "display(info)"
   ],
   "outputs": []
  },
  {
   "cell_type": "markdown",
   "id": "7cbcf2b6-223c-4f41-a141-d35e179a1580",
   "metadata": {},
   "source": [
    "## Загрузка датасета `common_voice_14_0`"
   ]
  },
  {
   "cell_type": "code",
   "execution_count": 48,
   "id": "b14afad2-ff3f-43cc-873f-2199391a1722",
   "metadata": {},
   "source": [
    "%%time\n",
    "test_dataset_cv_14 = load_dataset(\"mozilla-foundation/common_voice_14_0\", LANG_ID, split=f\"test[:{SAMPLES}]\", trust_remote_code=True)"
   ],
   "outputs": []
  },
  {
   "cell_type": "code",
   "execution_count": 49,
   "id": "17d05f23-47dd-4fa3-b202-aa278cab1d62",
   "metadata": {},
   "source": [
    "if test_dataset_cv_14.features['audio'].sampling_rate != 16_000:\n",
    "    test_dataset_cv_14 = test_dataset_cv_14.cast_column(\n",
    "        'audio',\n",
    "        Audio(sampling_rate=16_000)\n",
    "    )"
   ],
   "outputs": []
  },
  {
   "cell_type": "markdown",
   "id": "70c1f03d-00c0-4270-8469-8cc22b99bf2e",
   "metadata": {},
   "source": [
    "### Предсказание"
   ]
  },
  {
   "cell_type": "code",
   "execution_count": 50,
   "id": "bd85bd3e-b99b-4323-8ef7-2fce16e773e0",
   "metadata": {},
   "source": [
    "# Освобождаем памяти 50\n",
    "torch.cuda.empty_cache()"
   ],
   "outputs": []
  },
  {
   "cell_type": "code",
   "execution_count": 51,
   "id": "0dfb8a63-db3a-4473-9b08-fefb305d5e7a",
   "metadata": {},
   "source": [
    "%%time\n",
    "audio_data = [test_dataset_cv_14[i]['audio']['array'] for i in range(SAMPLES)]\n",
    "\n",
    "processed = processor(audio_data, sampling_rate=16_000, return_tensors=\"pt\", padding='longest').to(device)"
   ],
   "outputs": []
  },
  {
   "cell_type": "code",
   "execution_count": 52,
   "id": "2fd153c7-c15d-490a-9167-55d9304b167d",
   "metadata": {},
   "source": [
    "# Извлекаем логиты напрямую с использованием model.forward\n",
    "logits = model(processed.input_values, attention_mask=processed.attention_mask).logits"
   ],
   "outputs": []
  },
  {
   "cell_type": "code",
   "execution_count": 53,
   "id": "8fd38f35-1ffe-4b06-97ce-0236f625333d",
   "metadata": {},
   "source": [
    "# Оригинальные тексты из датасета\n",
    "original_texts = [test_dataset_cv_14[i]['sentence'] for i in range(SAMPLES)]"
   ],
   "outputs": []
  },
  {
   "cell_type": "code",
   "execution_count": 54,
   "id": "105451d5-baa9-4f4a-82a3-52d23250de02",
   "metadata": {},
   "source": [
    "# Транскрибация\n",
    "predicted_ids = torch.argmax(logits, dim=-1)\n",
    "transcription = processor.batch_decode(predicted_ids)"
   ],
   "outputs": []
  },
  {
   "cell_type": "markdown",
   "id": "f7b5cca5-126d-4daa-85f0-25a3c7b667ae",
   "metadata": {},
   "source": [
    "### Вывод результатов"
   ]
  },
  {
   "cell_type": "code",
   "execution_count": 55,
   "id": "9808298c-8505-4ed4-a0c5-cf7fa5392961",
   "metadata": {},
   "source": [
    "# Вывод оригинальных и предсказанных текстов\n",
    "print('-'*100)\n",
    "for i, (original_text, predicted_text) in enumerate(zip(original_texts, transcription)):\n",
    "    print(f\"Sample {i + 1} \\n- Канонический текст: {original_text}\")\n",
    "    print(f\"- Предсказанный текст: {predicted_text}\")\n",
    "    print(\"-\" * 100)"
   ],
   "outputs": []
  },
  {
   "cell_type": "markdown",
   "id": "9d7371a0-0c3f-49e0-bf90-c9d946f16d5e",
   "metadata": {},
   "source": [
    "### Тест WER, CER"
   ]
  },
  {
   "cell_type": "code",
   "execution_count": 56,
   "id": "fa91d786-5555-4f49-bcfe-3fb259cdcd1c",
   "metadata": {},
   "source": [
    "# Приведем все к нижнему регистру\n",
    "original_texts = [ref.lower() for ref in original_texts]\n",
    "transcription = [pred.lower() for pred in transcription]"
   ],
   "outputs": []
  },
  {
   "cell_type": "code",
   "execution_count": 57,
   "id": "4f7c2023-61e3-482e-b527-b3c8073d95b7",
   "metadata": {},
   "source": [
    "# Рассчитаем WER\n",
    "wer_score = wer(original_texts, transcription)"
   ],
   "outputs": []
  },
  {
   "cell_type": "code",
   "execution_count": 58,
   "id": "4c0541cd-fed5-4299-9d2d-03d94a66cabf",
   "metadata": {},
   "source": [
    "print(f\"Word Error Rate (WER): {wer_score * 100:.2f}%\")"
   ],
   "outputs": []
  },
  {
   "cell_type": "code",
   "execution_count": 59,
   "id": "ec0ed840-359e-43e2-aece-34cc23b3757e",
   "metadata": {},
   "source": [
    "# и CER\n",
    "cer_score = cer(original_texts, transcription)"
   ],
   "outputs": []
  },
  {
   "cell_type": "code",
   "execution_count": 60,
   "id": "52fa7968-0369-4089-b71c-0da038b74012",
   "metadata": {},
   "source": [
    "print(f\"Character Error Rate (CER): {cer_score * 100:.2f}%\")"
   ],
   "outputs": []
  },
  {
   "cell_type": "code",
   "execution_count": 61,
   "id": "f56327f4-9bd5-4cf8-92bc-e958b2794242",
   "metadata": {},
   "source": [
    "# MER\n",
    "mer_score = mer(original_texts, transcription)"
   ],
   "outputs": []
  },
  {
   "cell_type": "code",
   "execution_count": 62,
   "id": "fde690ba-4698-41b9-8f96-0abf1065f098",
   "metadata": {},
   "source": [
    "print(f\"Match Error Rate (MER): {mer_score * 100:.2f}%\")"
   ],
   "outputs": []
  },
  {
   "cell_type": "code",
   "execution_count": 63,
   "id": "e6fbd1f2-898f-4754-8f24-2584f36eca65",
   "metadata": {},
   "source": [
    "# WIL\n",
    "wil_score = wil(original_texts, transcription)"
   ],
   "outputs": []
  },
  {
   "cell_type": "code",
   "execution_count": 64,
   "id": "de51835f-4e6a-4482-9576-b4523fa03570",
   "metadata": {},
   "source": [
    "print(f\"Word Information Lost (WIL): {wil_score * 100:.2f}%\")"
   ],
   "outputs": []
  },
  {
   "cell_type": "code",
   "execution_count": 65,
   "id": "bb333c52-d509-4fb7-9a70-cecf032cc267",
   "metadata": {},
   "source": [
    "# Создание датафрейма\n",
    "info = info.append({\n",
    "    'MODEL': MODEL_ID,\n",
    "    'DATASET': test_dataset_cv_14.info.dataset_name,\n",
    "    'ORIGINAL TEXT': original_texts,\n",
    "    'PREDICTION TEXT': transcription,\n",
    "    'WER': wer_score,\n",
    "    'CER': cer_score,\n",
    "    'MER': mer_score,\n",
    "    'WIL': wil_score,\n",
    "    'SAMPLES': SAMPLES\n",
    "}, ignore_index=True)\n",
    "display(info)"
   ],
   "outputs": []
  },
  {
   "cell_type": "code",
   "execution_count": 66,
   "id": "781e0e1c-b005-4ad5-a39f-92147dc40ee0",
   "metadata": {},
   "source": [
    "info.to_csv('wav2vec2-large-xlsr-53.csv', index=False)"
   ],
   "outputs": []
  }
 ],
 "metadata": {
  "kernelspec": {
   "display_name": "Python 3 (ipykernel)",
   "language": "python",
   "name": "python3"
  },
  "language_info": {
   "codemirror_mode": {
    "name": "ipython",
    "version": 3
   },
   "file_extension": ".py",
   "mimetype": "text/x-python",
   "name": "python",
   "nbconvert_exporter": "python",
   "pygments_lexer": "ipython3",
   "version": "3.9.18"
  }
 },
 "nbformat": 4,
 "nbformat_minor": 5
}
