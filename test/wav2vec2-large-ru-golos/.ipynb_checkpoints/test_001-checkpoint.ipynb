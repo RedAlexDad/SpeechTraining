{
 "cells": [
  {
   "cell_type": "markdown",
   "id": "37eb7a16-6c5d-4bce-96d3-4a623cd094ad",
   "metadata": {},
   "source": [
    "# Wav2Vec2-Large-Ru-Golos"
   ]
  },
  {
   "cell_type": "markdown",
   "id": "3432f5e5-7af8-42cc-ba80-fbc7ac73fd30",
   "metadata": {},
   "source": [
    "##### https://huggingface.co/bond005/wav2vec2-large-ru-golos"
   ]
  },
  {
   "cell_type": "markdown",
   "id": "d319f866-8a14-45f4-976a-334e1fe7b8f0",
   "metadata": {},
   "source": [
    "Модель Wav2Vec2 основана на `facebook/wav2vec2-large-xlsr-53`, доработана на русском языке с помощью `Sberdevices Gloss` с дополнениями для звука, такими как сдвиг высоты тона, ускорение / замедление звука, реверберация и т.д.\n",
    "\n",
    "При использовании этой модели убедитесь, что частота дискретизации речевого ввода составляет 16 кГц."
   ]
  },
  {
   "cell_type": "markdown",
   "id": "e55db1da-ae53-4506-baf4-8b570520924e",
   "metadata": {},
   "source": [
    "# Usage"
   ]
  },
  {
   "cell_type": "code",
   "execution_count": 1,
   "id": "47d1b521-562b-497c-b536-b8fb76f0033a",
   "metadata": {},
   "source": [
    "import os\n",
    "import warnings\n",
    "\n",
    "import torch\n",
    "from datasets import load_dataset, load_from_disk\n",
    "from datasets.features import Audio\n",
    "from transformers import Wav2Vec2ForCTC, Wav2Vec2Processor\n",
    "\n",
    "import torchaudio"
   ],
   "outputs": []
  },
  {
   "cell_type": "code",
   "execution_count": 2,
   "id": "fb4ef402-5896-40f2-979c-0deab64abd00",
   "metadata": {},
   "source": [
    "# Check if CUDA is available\n",
    "if torch.cuda.is_available():\n",
    "    # Get the device name\n",
    "    device = torch.cuda.current_device()\n",
    "    print(f\"Code is connected to CUDA. Using GPU: {torch.cuda.get_device_name(device)}\")\n",
    "else:\n",
    "    print(\"CUDA is not available. Running on CPU.\")"
   ],
   "outputs": []
  },
  {
   "cell_type": "code",
   "execution_count": 3,
   "id": "acd149bb-fc58-4c75-a50c-976af6ac9dc1",
   "metadata": {},
   "source": [
    "# Все равно у меня не хватит памяти для выполнения(\n",
    "device = 'cpu'"
   ],
   "outputs": []
  },
  {
   "cell_type": "code",
   "execution_count": 4,
   "id": "aae3af6a-aecf-4889-b8ca-ca965e4c91bd",
   "metadata": {},
   "source": [
    "LANG_ID = \"ru\"\n",
    "PATH_MODEL = '/home/redalexdad/recognition_speech/wav2vec2-large-ru-golos'\n",
    "# Кол-во текстов для предсказания\n",
    "SAMPLES = 10"
   ],
   "outputs": []
  },
  {
   "cell_type": "code",
   "execution_count": 5,
   "id": "0d364e67-1439-41c7-a438-5b00ce330454",
   "metadata": {},
   "source": [
    "# Проверка наличия модели в локальном пути\n",
    "if not os.path.exists(PATH_MODEL):\n",
    "    processor = Wav2Vec2Processor.from_pretrained(PATH_MODEL)\n",
    "    model = Wav2Vec2ForCTC.from_pretrained(PATH_MODEL).to(device)\n",
    "    print('Успешно модель загружена')\n",
    "else:\n",
    "    # Загрузка процессора из сети\n",
    "    processor = Wav2Vec2Processor.from_pretrained(\"bond005/wav2vec2-large-ru-golos\")\n",
    "    processor.save_pretrained(PATH_MODEL)\n",
    "    \n",
    "    # Загрузка модели из сети\n",
    "    model = Wav2Vec2ForCTC.from_pretrained(\"bond005/wav2vec2-large-ru-golos\").to(device)\n",
    "    model.save_pretrained(PATH_MODEL)\n",
    "    \n",
    "    print(f'Успешно процессор и модель скачаны и сохранены в пути {PATH_MODEL}')"
   ],
   "outputs": []
  },
  {
   "cell_type": "code",
   "execution_count": 6,
   "id": "34a8f5cd-19c9-41c2-bb83-14559aa743ff",
   "metadata": {},
   "source": [
    "# Загрузка тестовую часть набора данных Golos и чтение первого звукового файла\n",
    "ds = load_dataset(\"bond005/sberdevices_golos_10h_crowd\", split=\"test\")"
   ],
   "outputs": []
  },
  {
   "cell_type": "code",
   "execution_count": 7,
   "id": "b0ce9795-3330-4d64-95fb-529be28ba29d",
   "metadata": {},
   "source": [
    "# Токенизация\n",
    "# Batch size 1\n",
    "processed = processor(ds[0][\"audio\"][\"array\"], return_tensors=\"pt\", padding=\"longest\").to(device)"
   ],
   "outputs": []
  },
  {
   "cell_type": "code",
   "execution_count": 8,
   "id": "72ff0e4a-6aba-4a00-82a4-5615f54e0e36",
   "metadata": {},
   "source": [
    "# Освобождение памяти на GPU\n",
    "torch.cuda.empty_cache()"
   ],
   "outputs": []
  },
  {
   "cell_type": "code",
   "execution_count": 9,
   "id": "4e62b776-2de0-41fd-b110-4846b5b8e567",
   "metadata": {},
   "source": [
    "# Извлекаем логиты\n",
    "logits = model(processed.input_values, attention_mask=processed.attention_mask).logits"
   ],
   "outputs": []
  },
  {
   "cell_type": "code",
   "execution_count": 10,
   "id": "6bac944b-69e9-4b27-a59e-2837ea9dec07",
   "metadata": {},
   "source": [
    "# Транскрибация\n",
    "predicted_ids = torch.argmax(logits, dim=-1)\n",
    "transcription = processor.batch_decode(predicted_ids)[0]\n",
    "print(transcription)"
   ],
   "outputs": []
  },
  {
   "cell_type": "markdown",
   "id": "7428b767-0cf9-4827-88ff-aaee41249ef8",
   "metadata": {},
   "source": [
    "# Evaluation"
   ]
  },
  {
   "cell_type": "code",
   "execution_count": 11,
   "id": "f6e2c37c-1944-4683-b02c-17f69561836d",
   "metadata": {},
   "source": [
    "from datasets import load_dataset\n",
    "from transformers import Wav2Vec2ForCTC, Wav2Vec2Processor\n",
    "import torch\n",
    "from jiwer import wer, cer  # we need word error rate (WER) and character error rate (CER)"
   ],
   "outputs": []
  },
  {
   "cell_type": "code",
   "execution_count": 12,
   "id": "4f4a9690-eb20-498e-b03f-3cbb465a3470",
   "metadata": {},
   "source": [
    "# Check if CUDA is available\n",
    "if torch.cuda.is_available():\n",
    "    # Get the device name\n",
    "    device = torch.cuda.current_device()\n",
    "    print(f\"Code is connected to CUDA. Using GPU: {torch.cuda.get_device_name(device)}\")\n",
    "else:\n",
    "    print(\"CUDA is not available. Running on CPU.\")"
   ],
   "outputs": []
  },
  {
   "cell_type": "code",
   "execution_count": 13,
   "id": "51778779-9a0c-44f5-b590-c07b3e21088c",
   "metadata": {},
   "source": [
    "%%time\n",
    "# load the test part of Golos Crowd and remove samples with empty \"true\" transcriptions\n",
    "golos_crowd_test = load_dataset(\"bond005/sberdevices_golos_10h_crowd\", split=\"test\")\n",
    "golos_crowd_test = golos_crowd_test.filter(\n",
    "    lambda it1: (it1[\"transcription\"] is not None) and (len(it1[\"transcription\"].strip()) > 0)\n",
    ")"
   ],
   "outputs": []
  },
  {
   "cell_type": "code",
   "execution_count": 14,
   "id": "cd97c103-43fd-4e39-ad0f-2c02a0aaf5f9",
   "metadata": {},
   "source": [
    "%%time\n",
    "# load the test part of Golos Farfield and remove sampels with empty \"true\" transcriptions\n",
    "golos_farfield_test = load_dataset(\"bond005/sberdevices_golos_100h_farfield\", split=\"test\")\n",
    "golos_farfield_test = golos_farfield_test.filter(\n",
    "    lambda it2: (it2[\"transcription\"] is not None) and (len(it2[\"transcription\"].strip()) > 0)\n",
    ")"
   ],
   "outputs": []
  },
  {
   "cell_type": "code",
   "execution_count": 15,
   "id": "8ab6d4ae-c991-40ca-9d08-445f90b2a42f",
   "metadata": {},
   "source": [
    "PATH_MODEL = '/home/redalexdad/recognition_speech/wav2vec2-base-960h'"
   ],
   "outputs": []
  },
  {
   "cell_type": "code",
   "execution_count": 16,
   "id": "f68366c5-678e-4750-80a1-88a1d638d795",
   "metadata": {},
   "source": [
    "%%time\n",
    "# Проверка наличия модели в локальном пути\n",
    "if not os.path.exists(PATH_MODEL):\n",
    "    processor = Wav2Vec2Processor.from_pretrained(PATH_MODEL)\n",
    "    model = Wav2Vec2ForCTC.from_pretrained(PATH_MODEL).to(device)\n",
    "    print('Успешно модель загружена')\n",
    "else:\n",
    "    # Загрузка процессора из сети\n",
    "    processor = Wav2Vec2Processor.from_pretrained(\"facebook/wav2vec2-base-960h\")\n",
    "    processor.save_pretrained(PATH_MODEL)\n",
    "    \n",
    "    # Загрузка модели из сети\n",
    "    model = Wav2Vec2ForCTC.from_pretrained(\"facebook/wav2vec2-base-960h\").to(device)\n",
    "    model.save_pretrained(PATH_MODEL)\n",
    "    \n",
    "    print(f'Успешно процессор и модель скачаны и сохранены в пути {PATH_MODEL}')"
   ],
   "outputs": []
  },
  {
   "cell_type": "code",
   "execution_count": 17,
   "id": "16046bdf-2c62-4e04-84c2-761c0e09a8a1",
   "metadata": {},
   "source": [
    "%%time\n",
    "# recognize one sound\n",
    "def map_to_pred(batch):\n",
    "    # tokenize and vectorize\n",
    "    processed = processor(\n",
    "        batch[\"audio\"][\"array\"], sampling_rate=batch[\"audio\"][\"sampling_rate\"],\n",
    "        return_tensors=\"pt\", padding=\"longest\"\n",
    "    )\n",
    "    input_values = processed.input_values.to(\"cuda\")\n",
    "    \n",
    "    # Ensure attention_mask is present\n",
    "    if \"attention_mask\" in processed:\n",
    "        attention_mask = processed.attention_mask.to(\"cuda\")\n",
    "    else:\n",
    "        attention_mask = None\n",
    "\n",
    "    # recognize\n",
    "    with torch.no_grad():\n",
    "        logits = model(input_values, attention_mask=attention_mask).logits\n",
    "    predicted_ids = torch.argmax(logits, dim=-1)\n",
    "\n",
    "    # decode\n",
    "    transcription = processor.batch_decode(predicted_ids)\n",
    "    batch[\"text\"] = transcription[0]\n",
    "    return batch"
   ],
   "outputs": []
  },
  {
   "cell_type": "code",
   "execution_count": 18,
   "id": "cadc27ab-4bc4-4b01-bc09-d1690e4b7ec4",
   "metadata": {},
   "source": [
    "%%time\n",
    "# calculate WER and CER on the crowd domain\n",
    "crowd_result = golos_crowd_test.map(map_to_pred, remove_columns=[\"audio\"])\n",
    "crowd_wer = wer(crowd_result[\"transcription\"], crowd_result[\"text\"])\n",
    "crowd_cer = cer(crowd_result[\"transcription\"], crowd_result[\"text\"])\n",
    "print(\"Word error rate on the Crowd domain:\", crowd_wer)\n",
    "print(\"Character error rate on the Crowd domain:\", crowd_cer)"
   ],
   "outputs": []
  },
  {
   "cell_type": "code",
   "execution_count": 19,
   "id": "161a58ae-c3ec-45de-98fd-d4af3c4dce4d",
   "metadata": {},
   "source": [
    "%%time\n",
    "# calculate WER and CER on the farfield domain\n",
    "farfield_result = golos_farfield_test.map(map_to_pred, remove_columns=[\"audio\"])\n",
    "farfield_wer = wer(farfield_result[\"transcription\"], farfield_result[\"text\"])\n",
    "farfield_cer = cer(farfield_result[\"transcription\"], farfield_result[\"text\"])\n",
    "print(\"Word error rate on the Farfield domain:\", farfield_wer)\n",
    "print(\"Character error rate on the Farfield domain:\", farfield_cer)"
   ],
   "outputs": []
  },
  {
   "cell_type": "code",
   "execution_count": null,
   "id": "2496fcbc-de13-4c8c-9302-2d15dd79a2a7",
   "metadata": {},
   "source": [],
   "outputs": []
  }
 ],
 "metadata": {
  "kernelspec": {
   "display_name": "Python 3 (ipykernel)",
   "language": "python",
   "name": "python3"
  },
  "language_info": {
   "codemirror_mode": {
    "name": "ipython",
    "version": 3
   },
   "file_extension": ".py",
   "mimetype": "text/x-python",
   "name": "python",
   "nbconvert_exporter": "python",
   "pygments_lexer": "ipython3",
   "version": "3.9.18"
  }
 },
 "nbformat": 4,
 "nbformat_minor": 5
}
