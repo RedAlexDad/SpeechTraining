{
 "cells": [
  {
   "cell_type": "code",
   "execution_count": 10,
   "id": "43a745ae-a8b5-48aa-b75e-3d31de4b3141",
   "metadata": {},
   "outputs": [],
   "source": [
    "from transformers import AutoTokenizer, Wav2Vec2ForCTC, Wav2Vec2Processor\n",
    "import torch\n",
    "import torchaudio\n",
    "from datasets import load_dataset\n",
    "import re\n",
    "import jiwer"
   ]
  },
  {
   "cell_type": "code",
   "execution_count": 3,
   "id": "05baa034-21f2-4732-928e-08798bb8b584",
   "metadata": {},
   "outputs": [
    {
     "name": "stderr",
     "output_type": "stream",
     "text": [
      "/home/redalexdad/anaconda3/envs/dl_science/lib/python3.9/site-packages/transformers/configuration_utils.py:365: UserWarning: Passing `gradient_checkpointing` to a config initialization is deprecated and will be removed in v5 Transformers. Using `model.gradient_checkpointing_enable()` instead, or if you are using the `Trainer` API, pass `gradient_checkpointing=True` in your `TrainingArguments`.\n",
      "  warnings.warn(\n",
      "Some weights of the model checkpoint at Edresson/wav2vec2-large-100k-voxpopuli-ft-Common-Voice_plus_TTS-Dataset-russian were not used when initializing Wav2Vec2ForCTC: ['wav2vec2.encoder.pos_conv_embed.conv.weight_g', 'wav2vec2.encoder.pos_conv_embed.conv.weight_v']\n",
      "- This IS expected if you are initializing Wav2Vec2ForCTC from the checkpoint of a model trained on another task or with another architecture (e.g. initializing a BertForSequenceClassification model from a BertForPreTraining model).\n",
      "- This IS NOT expected if you are initializing Wav2Vec2ForCTC from the checkpoint of a model that you expect to be exactly identical (initializing a BertForSequenceClassification model from a BertForSequenceClassification model).\n",
      "Some weights of Wav2Vec2ForCTC were not initialized from the model checkpoint at Edresson/wav2vec2-large-100k-voxpopuli-ft-Common-Voice_plus_TTS-Dataset-russian and are newly initialized: ['wav2vec2.encoder.pos_conv_embed.conv.parametrizations.weight.original0', 'wav2vec2.encoder.pos_conv_embed.conv.parametrizations.weight.original1']\n",
      "You should probably TRAIN this model on a down-stream task to be able to use it for predictions and inference.\n"
     ]
    }
   ],
   "source": [
    "# Загрузка модели и токенизатора\n",
    "tokenizer = AutoTokenizer.from_pretrained(\"Edresson/wav2vec2-large-100k-voxpopuli-ft-Common-Voice_plus_TTS-Dataset-russian\")\n",
    "model = Wav2Vec2ForCTC.from_pretrained(\"Edresson/wav2vec2-large-100k-voxpopuli-ft-Common-Voice_plus_TTS-Dataset-russian\")"
   ]
  },
  {
   "cell_type": "code",
   "execution_count": 7,
   "id": "490e1854-09de-48b3-8816-274371e31bc5",
   "metadata": {},
   "outputs": [],
   "source": [
    "# Загрузка аудиофайла\n",
    "audio_path = \"./voice/000000_RUSLAN.wav\"\n",
    "resampler = torchaudio.transforms.Resample(orig_freq=48_000, new_freq=16_000)\n",
    "speech, _ = torchaudio.load(audio_path)\n",
    "input_values = resampler.forward(speech.squeeze(0)).numpy()"
   ]
  },
  {
   "cell_type": "code",
   "execution_count": 11,
   "id": "24128d6b-645d-4825-b5d2-56660c7a21f1",
   "metadata": {},
   "outputs": [],
   "source": [
    "# Токенизация и получение предсказания от модели\n",
    "input_values = torch.tensor(input_values).unsqueeze(0)  # добавляем размерность пакета\n",
    "with torch.no_grad():\n",
    "    logits = model(input_values).logits\n",
    "    predicted_ids = torch.argmax(logits, dim=-1)"
   ]
  },
  {
   "cell_type": "code",
   "execution_count": 12,
   "id": "c80216bd-b1a3-406a-bc7d-96d3279b0858",
   "metadata": {},
   "outputs": [],
   "source": [
    "# Декодирование предсказанных токенов в текст\n",
    "transcription = tokenizer.batch_decode(predicted_ids)[0]"
   ]
  },
  {
   "cell_type": "code",
   "execution_count": 13,
   "id": "5dc22c81-dae1-4e53-8614-48b940a8156b",
   "metadata": {},
   "outputs": [
    {
     "name": "stdout",
     "output_type": "stream",
     "text": [
      "Word Error Rate (WER): 133.33%\n"
     ]
    }
   ],
   "source": [
    "# Ваш код для загрузки и обработки субтитров\n",
    "# Например, вы можете использовать библиотеку jiwer для вычисления Word Error Rate (WER)\n",
    "# Убедитесь, что у вас есть правильные субтитры для сравнения\n",
    "reference_text = \"ваш текст субтитров\"\n",
    "wer_score = jiwer.wer(reference_text, transcription)\n",
    "print(\"Word Error Rate (WER): {:.2f}%\".format(wer_score*100))"
   ]
  },
  {
   "cell_type": "code",
   "execution_count": null,
   "id": "030ec4f9-3413-4eaf-9451-ffcea91d6f6b",
   "metadata": {},
   "outputs": [],
   "source": []
  },
  {
   "cell_type": "code",
   "execution_count": null,
   "id": "39fd76dc-049f-4881-9e8e-66beeae38db6",
   "metadata": {},
   "outputs": [],
   "source": []
  },
  {
   "cell_type": "code",
   "execution_count": null,
   "id": "c15b27a8-5e9c-4a71-be1a-74970ed25aa8",
   "metadata": {},
   "outputs": [],
   "source": []
  }
 ],
 "metadata": {
  "kernelspec": {
   "display_name": "Python 3 (ipykernel)",
   "language": "python",
   "name": "python3"
  },
  "language_info": {
   "codemirror_mode": {
    "name": "ipython",
    "version": 3
   },
   "file_extension": ".py",
   "mimetype": "text/x-python",
   "name": "python",
   "nbconvert_exporter": "python",
   "pygments_lexer": "ipython3",
   "version": "3.9.18"
  }
 },
 "nbformat": 4,
 "nbformat_minor": 5
}
