{
 "cells": [
  {
   "cell_type": "code",
   "execution_count": 10,
   "id": "43a745ae-a8b5-48aa-b75e-3d31de4b3141",
   "metadata": {},
   "source": [
    "from transformers import AutoTokenizer, Wav2Vec2ForCTC, Wav2Vec2Processor\n",
    "import torch\n",
    "import torchaudio\n",
    "from datasets import load_dataset\n",
    "import re\n",
    "import jiwer"
   ],
   "outputs": []
  },
  {
   "cell_type": "code",
   "execution_count": 3,
   "id": "05baa034-21f2-4732-928e-08798bb8b584",
   "metadata": {},
   "source": [
    "# Загрузка модели и токенизатора\n",
    "tokenizer = AutoTokenizer.from_pretrained(\"Edresson/wav2vec2-large-100k-voxpopuli-ft-Common-Voice_plus_TTS-Dataset-russian\")\n",
    "model = Wav2Vec2ForCTC.from_pretrained(\"Edresson/wav2vec2-large-100k-voxpopuli-ft-Common-Voice_plus_TTS-Dataset-russian\")"
   ],
   "outputs": []
  },
  {
   "cell_type": "code",
   "execution_count": 7,
   "id": "490e1854-09de-48b3-8816-274371e31bc5",
   "metadata": {},
   "source": [
    "# Загрузка аудиофайла\n",
    "audio_path = \"./voice/000000_RUSLAN.wav\"\n",
    "resampler = torchaudio.transforms.Resample(orig_freq=48_000, new_freq=16_000)\n",
    "speech, _ = torchaudio.load(audio_path)\n",
    "input_values = resampler.forward(speech.squeeze(0)).numpy()"
   ],
   "outputs": []
  },
  {
   "cell_type": "code",
   "execution_count": 11,
   "id": "24128d6b-645d-4825-b5d2-56660c7a21f1",
   "metadata": {},
   "source": [
    "# Токенизация и получение предсказания от модели\n",
    "input_values = torch.tensor(input_values).unsqueeze(0)  # добавляем размерность пакета\n",
    "with torch.no_grad():\n",
    "    logits = model(input_values).logits\n",
    "    predicted_ids = torch.argmax(logits, dim=-1)"
   ],
   "outputs": []
  },
  {
   "cell_type": "code",
   "execution_count": 12,
   "id": "c80216bd-b1a3-406a-bc7d-96d3279b0858",
   "metadata": {},
   "source": [
    "# Декодирование предсказанных токенов в текст\n",
    "transcription = tokenizer.batch_decode(predicted_ids)[0]"
   ],
   "outputs": []
  },
  {
   "cell_type": "code",
   "execution_count": 13,
   "id": "5dc22c81-dae1-4e53-8614-48b940a8156b",
   "metadata": {},
   "source": [
    "# Ваш код для загрузки и обработки субтитров\n",
    "# Например, вы можете использовать библиотеку jiwer для вычисления Word Error Rate (WER)\n",
    "# Убедитесь, что у вас есть правильные субтитры для сравнения\n",
    "reference_text = \"ваш текст субтитров\"\n",
    "wer_score = jiwer.wer(reference_text, transcription)\n",
    "print(\"Word Error Rate (WER): {:.2f}%\".format(wer_score*100))"
   ],
   "outputs": []
  },
  {
   "cell_type": "code",
   "execution_count": null,
   "id": "030ec4f9-3413-4eaf-9451-ffcea91d6f6b",
   "metadata": {},
   "source": [],
   "outputs": []
  },
  {
   "cell_type": "code",
   "execution_count": null,
   "id": "39fd76dc-049f-4881-9e8e-66beeae38db6",
   "metadata": {},
   "source": [],
   "outputs": []
  },
  {
   "cell_type": "code",
   "execution_count": null,
   "id": "c15b27a8-5e9c-4a71-be1a-74970ed25aa8",
   "metadata": {},
   "source": [],
   "outputs": []
  }
 ],
 "metadata": {
  "kernelspec": {
   "display_name": "Python 3 (ipykernel)",
   "language": "python",
   "name": "python3"
  },
  "language_info": {
   "codemirror_mode": {
    "name": "ipython",
    "version": 3
   },
   "file_extension": ".py",
   "mimetype": "text/x-python",
   "name": "python",
   "nbconvert_exporter": "python",
   "pygments_lexer": "ipython3",
   "version": "3.9.18"
  }
 },
 "nbformat": 4,
 "nbformat_minor": 5
}
