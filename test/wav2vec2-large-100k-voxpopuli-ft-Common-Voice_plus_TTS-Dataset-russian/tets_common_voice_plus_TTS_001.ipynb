{
 "cells": [
  {
   "cell_type": "markdown",
   "id": "b94bb74e-e644-477c-9c3f-5d7e278995cf",
   "metadata": {},
   "source": [
    "https://huggingface.co/Edresson/wav2vec2-large-100k-voxpopuli-ft-Common-Voice_plus_TTS-Dataset-russian"
   ]
  },
  {
   "cell_type": "code",
   "execution_count": 1,
   "id": "1350baca-6f8d-4cc8-be56-5fa7fa6324fe",
   "metadata": {},
   "source": [
    "from datasets import load_dataset\n",
    "from transformers import AutoTokenizer, Wav2Vec2ForCTC\n",
    "import torchaudio\n",
    "import re\n"
   ],
   "outputs": []
  },
  {
   "cell_type": "code",
   "execution_count": 2,
   "id": "3e21f99e-f028-423d-a1f2-6a2ba150a717",
   "metadata": {},
   "source": [
    "tokenizer = AutoTokenizer.from_pretrained(\"Edresson/wav2vec2-large-100k-voxpopuli-ft-Common-Voice_plus_TTS-Dataset-russian\")\n",
    "\n",
    "model = Wav2Vec2ForCTC.from_pretrained(\"Edresson/wav2vec2-large-100k-voxpopuli-ft-Common-Voice_plus_TTS-Dataset-russian\")"
   ],
   "outputs": []
  },
  {
   "cell_type": "code",
   "execution_count": 3,
   "id": "560be281-256c-47c4-b873-9637272bcd6e",
   "metadata": {},
   "source": [
    "# dataset = load_dataset(\"common_voice\", \"ru\", split=\"test\", data_dir=\"./cv-corpus-6.1-2020-12-11\", trust_remote_code=True)\n",
    "dataset = load_dataset(\"mozilla-foundation/common_voice_11_0\", \"ru\")\n",
    "\n",
    "resampler = torchaudio.transforms.Resample(orig_freq=48_000, new_freq=16_000)\n",
    "chars_to_ignore_regex = r\"[^A-Za-z0-9(),!?\\'\\`\\\"\\_\\n]\"\n",
    "\n",
    "def map_to_array(batch):\n",
    "    speech, _ = torchaudio.load(batch[\"path\"])\n",
    "    batch[\"speech\"] = resampler.forward(speech.squeeze(0)).numpy()\n",
    "    batch[\"sampling_rate\"] = resampler.new_freq\n",
    "    batch[\"sentence\"] = re.sub(chars_to_ignore_regex, '', batch[\"sentence\"]).lower().replace(\"â€™\", \"'\")\n",
    "    return batch"
   ],
   "outputs": []
  },
  {
   "cell_type": "code",
   "execution_count": 10,
   "id": "834a0cfb-a83e-443f-9c11-5bfc17066ba0",
   "metadata": {},
   "source": [
    "def map_to_pred(batch):\n",
    "    # Получаем логиты от модели\n",
    "    logits = model(batch[\"speech\"], attention_mask=batch[\"attention_mask\"]).logits\n",
    "    \n",
    "    # Извлекаем индексы максимальных значений для каждого элемента по последней размерности\n",
    "    predicted_ids = torch.argmax(logits, dim=-1)\n",
    "    \n",
    "    # Декодируем индексы в текст, используя процессор\n",
    "    predicted_text = processor.batch_decode(predicted_ids)\n",
    "    \n",
    "    # Избавляемся от лишних символов и приводим к нижнему регистру, если необходимо\n",
    "    predicted_text = re.sub(chars_to_ignore_regex, '', predicted_text).lower().replace(\"â€™\", \"'\")\n",
    "    \n",
    "    # Возвращаем предсказанный текст\n",
    "    return {\"predicted_text\": predicted_text}"
   ],
   "outputs": []
  },
  {
   "cell_type": "code",
   "execution_count": 5,
   "id": "80469e6d-c03c-4c11-ab47-7e5bd0d31c24",
   "metadata": {},
   "source": [
    "ds = dataset.map(map_to_array)"
   ],
   "outputs": []
  },
  {
   "cell_type": "code",
   "execution_count": 8,
   "id": "27d5937d-ddc7-48df-b733-e3b49268f1c4",
   "metadata": {},
   "source": [
    "ds['test']"
   ],
   "outputs": []
  },
  {
   "cell_type": "code",
   "execution_count": 9,
   "id": "43afc208-ed17-4e9c-9210-289e842022d2",
   "metadata": {},
   "source": [
    "result = ds.map(map_to_pred, batched=True, batch_size=1, remove_columns=list(ds['test'].features.keys()))"
   ],
   "outputs": []
  },
  {
   "cell_type": "code",
   "execution_count": null,
   "id": "6050dac7-c2a5-405e-b187-db006d2c42a6",
   "metadata": {},
   "source": [
    "print(wer.compute(predictions=result[\"predicted\"], references=result[\"target\"]))"
   ],
   "outputs": []
  }
 ],
 "metadata": {
  "kernelspec": {
   "display_name": "Python 3 (ipykernel)",
   "language": "python",
   "name": "python3"
  },
  "language_info": {
   "codemirror_mode": {
    "name": "ipython",
    "version": 3
   },
   "file_extension": ".py",
   "mimetype": "text/x-python",
   "name": "python",
   "nbconvert_exporter": "python",
   "pygments_lexer": "ipython3",
   "version": "3.9.18"
  }
 },
 "nbformat": 4,
 "nbformat_minor": 5
}
