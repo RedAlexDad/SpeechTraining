





# Для взаимодействия с системой
import sys
import os
import re
# Для работы с массивами чисел
import numpy as np 
# Для оценки качества распознавания речи
from jiwer import wer, cer, mer, wil
# Для вычисления расстояния Левенштейна
import Levenshtein
# Для статистического анализа данных
from scipy.stats import pearsonr, linregress
from statsmodels.tsa.stattools import adfuller
import pymannkendall as mk
# Для работы с базами данных PostgreSQL
import psycopg2
# Для работы с данными в формате DataFrame
import pandas as pd
# Для визуализации данных
import matplotlib.pyplot as plt
# Для работы со звуковыми файлами
import io
import soundfile as sf
import librosa
# Для обработки естественного языка
import nltk
import string
from nltk.stem import WordNetLemmatizer
# Для работы с различными сервисами распознавания речи
from AutomaticSpeechRecognitionYandex import AutomaticSpeechRecognitionYandex
from AutomaticSpeechRecognitionSaluteSpeech import AutomaticSpeechRecognitionSaluteSpeech
from AutomaticSpeechRecognitionMBART50 import AutomaticSpeechRecognitionMBART50

from tokens import FOLDER_ID, OAUTH, CLIENT_ID, CLIENT_SECRET





# Сбор список слов
from sentences_text import sentences_text





for theme, words in sentences_text.items():
    print(f"Тема: {theme}")
    print("Предложение:", words)
    print("\n")





df = pd.read_csv('database_preprocessing_metric.csv')


df.info()


df.head()


df.info()


# Преобразуем значения в столбце 'record_date' в datetime.date
df['record_date'] = df['record_date'].apply(lambda x: pd.Timestamp(x).date())


# Задаем начальную и конечную даты для фильтрации
start_date = pd.Timestamp('2024-06-16').date()
end_date = pd.Timestamp('2024-08-20').date()


# Преобразуем индексы MultiIndex в датафрейме к типу datetime64 для временной фильтрации
df_filtered = df.loc[(df['record_date'] >= start_date) & (df['record_date'] <= end_date)]


# Сгруппируем по датам и ID
df_filtered = df_filtered.groupby(['record_date', 'id']).sum()


df_filtered.head()


# Преобразуем первый уровень MultiIndex (даты) в DatetimeIndex
df_filtered.index = pd.to_datetime(df_filtered.index.get_level_values(0))

# Оставляем только числовые столбцы для группировки и агрегации
numeric_columns = df_filtered.select_dtypes(include=['float64', 'int64'])

# Устраняем дубликаты по дате, агрегируя их средним значением
df_filtered_numeric = numeric_columns.groupby(df_filtered.index).mean()

# Агрегируем метрики по дням, заполняя пропуски
daily_metrics = df_filtered_numeric.resample('D').asfreq()

# Заполняем пропуски методом ffill (линейно от предыдущих значений)
daily_metrics = daily_metrics.fillna(method='ffill')
# Заполняем пропуски нулями
# daily_metrics = daily_metrics.fillna(0)

# Функция для создания графика динамики по метрикам для одной модели
def plot_model_metrics(model_name):
    plt.figure(figsize=(14, 10))

    # WER, CER, MER, WIL, Levenshtein
    plt.subplot(3, 1, 1)
    plt.plot(daily_metrics.index, daily_metrics[f'WER_{model_name}'], label=f'WER', marker='o')
    plt.plot(daily_metrics.index, daily_metrics[f'CER_{model_name}'], label=f'CER', marker='o')
    plt.plot(daily_metrics.index, daily_metrics[f'MER_{model_name}'], label=f'MER', marker='o')
    plt.plot(daily_metrics.index, daily_metrics[f'WIL_{model_name}'], label=f'WIL', marker='o')
    # plt.plot(daily_metrics.index, daily_metrics[f'Levenshtein_{model_name}'], label=f'Levenshtein {model_name}', marker='o')
    plt.title(f'Динамика метрик {model_name}')
    plt.xlabel('Дата')
    plt.ylabel('Значение метрики')
    plt.legend()

    plt.tight_layout()
    plt.show()

# Построение графиков для каждой модели
models = ['yandex', 'salutespeech', 'mbart50']

for model in models:
    plot_model_metrics(model)





def plot_metrics(df, metrics, window=10): # Добавляем параметр window для размера окна
    df.index = pd.to_datetime(df.index.get_level_values(0))
    plt.figure(figsize=(12, 6))
    for metric in metrics:
        plt.plot(df.index, df[metric], label=metric, alpha=0.5)  # Построение графика исходных данных
        plt.plot(df.index, df[metric].rolling(window=window).mean(), label=f'{metric} (скользящее среднее, окно={window})')  # Построение скользящего среднего
    plt.xlabel('Дата')
    plt.ylabel('Значение метрики')
    plt.title('Динамика изменения метрик')
    plt.legend()
    plt.grid(True)
    plt.show()

# Отображаем динамику по метрикам Yandex
# metrics = ['WER_yandex', 'CER_yandex', 'MER_yandex', 'WIL_yandex']
metrics = ['WER_yandex']
# metrics = ['CER_yandex']
start_date = pd.Timestamp('2024-06-15').date()
end_date = pd.Timestamp('2024-08-20').date()
# plot_metrics(df.loc[(df['record_date'] >= start_date) & (df['record_date'] <= end_date)], metrics, window=5)
plot_metrics(df_filtered, metrics, window=5)








df_filtered.info()


metrics = ['WER_yandex', 'CER_yandex', 'MER_yandex', 'WIL_yandex']





def pearson_analysis(df, metric):
    df = df.copy()
    # Заполняем пропуски значением 0
    df[metric] = df[metric].fillna(0)  
    
    time_indices = np.arange(len(df))  # временной индекс
    corr, p_value = pearsonr(time_indices, df[metric].values)
    print(f"Корреляция Пирсона для {metric}: {corr:.5f}, p-value: {p_value:.5f}")
    # return corr, p_value

for metric in metrics:
    pearson_analysis(df_filtered, metric)





# 2. Линейная регрессия для выявления тренда
def linear_regression_analysis(df, metric):
    df = df.copy()
    # Заполняем пропуски значением 0
    df[metric] = df[metric].fillna(0)  
    
    time_indices = np.arange(len(df))
    slope, intercept, r_value, p_value, std_err = linregress(time_indices, df[metric])
    print(f"Линейная регрессия для {metric}: наклон: {slope:.4f}, R^2: {r_value**2:.5f}, p-value: {p_value:.4f}")
    # return slope, intercept, r_value**2, p_value

for metric in metrics:
    linear_regression_analysis(df_filtered, metric)





def mann_kendall_test(df, metric):
    df = df.copy()
    # Заполняем пропуски значением 0
    df[metric] = df[metric].fillna(0)  
    
    result = mk.original_test(df[metric].values)
    print(f"Манн-Кендалл тест для {metric}: {result.trend}, p-value: {result.p:.4f}, z: {result.z:.4f}")
    # return result

# Пример для метрики WER_yandex
for metric in metrics:
    mann_kendall_test(df_filtered, metric)









