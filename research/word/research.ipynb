{
 "cells": [
  {
   "cell_type": "markdown",
   "id": "74ead1b9-946d-43a5-bdfc-b0f9bf469f76",
   "metadata": {},
   "source": [
    "# Исследование по метрикам на основе данных моего произношения"
   ]
  },
  {
   "cell_type": "markdown",
   "id": "aa7ce1fa-186b-49e8-9bce-ab218c568312",
   "metadata": {},
   "source": [
    "## Импорт библиотеки"
   ]
  },
  {
   "cell_type": "code",
   "execution_count": 97,
   "id": "247a8484-d582-4cf6-a442-54741d19feec",
   "metadata": {},
   "source": [
    "# Импорт библиотеки\n",
    "import sys\n",
    "import os\n",
    "import re\n",
    "import numpy as np\n",
    "from jiwer import wer, cer, mer, wil\n",
    "\n",
    "import psycopg2\n",
    "import pandas as pd\n",
    "import matplotlib.pyplot as plt"
   ],
   "outputs": []
  },
  {
   "cell_type": "code",
   "execution_count": 2,
   "id": "3bc34561-8ea3-4dfe-ac41-ee3063c961d2",
   "metadata": {},
   "source": [
    "# Сбор список слов\n",
    "from collection import collection"
   ],
   "outputs": []
  },
  {
   "cell_type": "markdown",
   "id": "72703737-7281-4899-9c50-ff934a512a6f",
   "metadata": {},
   "source": [
    "## Коллекций слова"
   ]
  },
  {
   "cell_type": "code",
   "execution_count": 3,
   "id": "d040ee10-6b67-48c8-b68a-c9e35427b198",
   "metadata": {},
   "source": [
    "for theme, words in collection.items():\n",
    "    print(f\"Тема: {theme}\")\n",
    "    print(\"Слова:\", ', '.join(words))\n",
    "    print(\"\\n\")"
   ],
   "outputs": []
  },
  {
   "cell_type": "markdown",
   "id": "c76f6f5f-ddc3-4c61-bc88-96d91684434c",
   "metadata": {},
   "source": [
    "## Подключение к БД"
   ]
  },
  {
   "cell_type": "code",
   "execution_count": 4,
   "id": "469d19be-2b93-494f-ad91-3c4121983e26",
   "metadata": {},
   "source": [
    "# Соединение с БД\n",
    "conn = psycopg2.connect(\n",
    "    host=\"localhost\",\n",
    "    port=\"5432\",\n",
    "    database=\"dataset_speech_recognition\",\n",
    "    user=\"postgres\",\n",
    "    password=\"postgres\"\n",
    ")\n",
    "cur = conn.cursor()"
   ],
   "outputs": []
  },
  {
   "cell_type": "code",
   "execution_count": 5,
   "id": "bfd8ccbe-9096-4002-9560-c5b3ab976e4f",
   "metadata": {},
   "source": [
    "# Получение данных из таблицы\n",
    "cur.execute(\"SELECT * FROM recognition_data\")\n",
    "data = cur.fetchall()"
   ],
   "outputs": []
  },
  {
   "cell_type": "code",
   "execution_count": 6,
   "id": "1dd30922-2365-406c-86ec-b1e93f604a6a",
   "metadata": {},
   "source": [
    "# Закрытие соединения\n",
    "cur.close()\n",
    "conn.close()"
   ],
   "outputs": []
  },
  {
   "cell_type": "markdown",
   "id": "8e7a8f36-5dec-4e00-ada5-4d54edfa7fc8",
   "metadata": {},
   "source": [
    "## Создание и анализ датафрейма"
   ]
  },
  {
   "cell_type": "code",
   "execution_count": 7,
   "id": "9209e37b-9b21-4173-a464-a2807866d05d",
   "metadata": {},
   "source": [
    "# Создание DataFrame из полученных данных\n",
    "df = pd.DataFrame(data, columns=['id', 'data_recognition', 'transcription_word', 'word_for_check', 'date_recoding', 'wer', 'cer', 'mer', 'wil', 'iwer'])"
   ],
   "outputs": []
  },
  {
   "cell_type": "code",
   "execution_count": 8,
   "id": "0902bd9a-591e-41de-b6ca-5069e6283349",
   "metadata": {},
   "source": [
    "# Преобразование столбца date_recoding в формат datetime\n",
    "df['date_recoding'] = pd.to_datetime(df['date_recoding'])"
   ],
   "outputs": []
  },
  {
   "cell_type": "code",
   "execution_count": 9,
   "id": "c5282107-9e5c-4904-88bb-09b084912c37",
   "metadata": {},
   "source": [
    "df.info()"
   ],
   "outputs": []
  },
  {
   "cell_type": "code",
   "execution_count": 10,
   "id": "a8a1f38f-6e3d-40f8-ba61-c3346b72de2f",
   "metadata": {},
   "source": [
    "df.head()"
   ],
   "outputs": []
  },
  {
   "cell_type": "code",
   "execution_count": 11,
   "id": "4e0e9478-f57d-4810-8039-d1797c9575d7",
   "metadata": {},
   "source": [
    "# Экспорт DataFrame в CSV файл\n",
    "df.to_csv('database.csv', index=False)"
   ],
   "outputs": []
  },
  {
   "cell_type": "markdown",
   "id": "7bfa1409-b6ec-4eb3-bfa3-d5a96c16c52d",
   "metadata": {},
   "source": [
    "##### Поскольку модель выдавала текст с знаками и другие, поэтому будем устранять их и заново рассчитать метрику"
   ]
  },
  {
   "cell_type": "markdown",
   "id": "2b0eac8b-459b-473e-9339-89f03d1083cb",
   "metadata": {},
   "source": [
    "## Предобработка данных"
   ]
  },
  {
   "cell_type": "markdown",
   "id": "790741ce-bdb0-4e60-8576-287b11471571",
   "metadata": {},
   "source": [
    "### Изменение индеса в временный ряд"
   ]
  },
  {
   "cell_type": "code",
   "execution_count": 21,
   "id": "d9cb4f12-da0e-4942-9c91-9bbff09bb0f7",
   "metadata": {},
   "source": [
    "# Отбросим ненужные столбцы\n",
    "research_df = df.drop(['id', 'data_recognition'], axis=1)\n",
    "\n",
    "# Установим индекс по столбцу 'date_recoding'\n",
    "research_df = research_df.set_index('date_recoding')\n",
    "\n",
    "# Убедимся, что индекс отсортирован\n",
    "research_df = research_df.sort_index()"
   ],
   "outputs": []
  },
  {
   "cell_type": "code",
   "execution_count": 22,
   "id": "36b59a76-c021-4fde-bbf7-06c5cfbd9d97",
   "metadata": {},
   "source": [
    "research_df.info()"
   ],
   "outputs": []
  },
  {
   "cell_type": "code",
   "execution_count": 23,
   "id": "c684e2a4-26ba-4cb8-84be-c111709bcbcd",
   "metadata": {},
   "source": [
    "research_df.head()"
   ],
   "outputs": []
  },
  {
   "cell_type": "markdown",
   "id": "177ff5e9-9ffa-4509-b662-017877f7fa75",
   "metadata": {},
   "source": [
    "### Установка диапазона времени дат"
   ]
  },
  {
   "cell_type": "code",
   "execution_count": 25,
   "id": "37010126-a3b6-476f-bb7f-f36bf4c4c1a2",
   "metadata": {},
   "source": [
    "# Фильтруем данные по диапазону дат\n",
    "start_date = '2024-04-22'\n",
    "end_date = '2024-05-17'\n",
    "\n",
    "research_df = research_df.loc[start_date:end_date]"
   ],
   "outputs": []
  },
  {
   "cell_type": "markdown",
   "id": "d8e4f136-d818-4939-a5f3-c51547695fb9",
   "metadata": {},
   "source": [
    "### Удаление лишних знаков в тексте"
   ]
  },
  {
   "cell_type": "code",
   "execution_count": 26,
   "id": "2929eab2-e8ae-425f-ad41-b35b598ce0d5",
   "metadata": {},
   "source": [
    "def clean_text(text):\n",
    "    # Удаление всех знаков пунктуации\n",
    "    return re.sub(r'[^\\w\\s]', '', text)"
   ],
   "outputs": []
  },
  {
   "cell_type": "code",
   "execution_count": 27,
   "id": "05f1abe4-cb2c-412c-ad77-994c93cd6b20",
   "metadata": {},
   "source": [
    "research_df['transcription_word'] = research_df['transcription_word'].apply(clean_text)"
   ],
   "outputs": []
  },
  {
   "cell_type": "code",
   "execution_count": 28,
   "id": "5feb9931-5952-413a-804b-da4fa40d7923",
   "metadata": {},
   "source": [
    "research_df.head()"
   ],
   "outputs": []
  },
  {
   "cell_type": "markdown",
   "id": "29548256-7397-45ee-a89f-95ea397755f2",
   "metadata": {},
   "source": [
    "### Установка метрик"
   ]
  },
  {
   "cell_type": "code",
   "execution_count": 29,
   "id": "1d7a7f4e-2e55-4557-88f1-b6cdf7b5d578",
   "metadata": {},
   "source": [
    "def iwer(reference_sentence, hypothesis_sentence) -> float:\n",
    "    \"\"\"\n",
    "    Вычисляет Inflectional Word Error Rate (IWER) между предложением-эталоном и гипотезой.\n",
    "\n",
    "    Параметры:\n",
    "    reference_sentence (str): Предложение-эталон (правильный вариант).\n",
    "    hypothesis_sentence (str): Гипотеза (предсказанный вариант).\n",
    "\n",
    "    Возвращает:\n",
    "    float: Значение Inflectional Word Error Rate (IWER) в процентах.\n",
    "    \"\"\"\n",
    "    reference_words = reference_sentence.split()\n",
    "    hypothesis_words = hypothesis_sentence.split()\n",
    "\n",
    "    # Находим количество слов в предложении-эталоне\n",
    "    total_words = len(reference_words)\n",
    "\n",
    "    # Считаем количество неправильно распознанных слов\n",
    "    incorrect_words = sum(1 for ref, hyp in zip(reference_words, hypothesis_words) if ref != hyp)\n",
    "\n",
    "    # Вычисляем Inflectional Word Error Rate (IWER)\n",
    "    iwer_score = incorrect_words / total_words\n",
    "\n",
    "    return iwer_score"
   ],
   "outputs": []
  },
  {
   "cell_type": "code",
   "execution_count": 30,
   "id": "3d43a157-cb74-472d-b8eb-d0198b4ea1f1",
   "metadata": {},
   "source": [
    "def calculate_metrics(df):\n",
    "    df['wer'] = df.apply(lambda row: wer(row['word_for_check'], row['transcription_word']), axis=1)\n",
    "    df['cer'] = df.apply(lambda row: cer(row['word_for_check'], row['transcription_word']), axis=1)\n",
    "    df['mer'] = df.apply(lambda row: mer(row['word_for_check'], row['transcription_word']), axis=1)\n",
    "    df['wil'] = df.apply(lambda row: wil(row['word_for_check'], row['transcription_word']), axis=1)\n",
    "    df['iwer'] = df.apply(lambda row: iwer(row['word_for_check'], row['transcription_word']), axis=1)\n",
    "\n",
    "    return df"
   ],
   "outputs": []
  },
  {
   "cell_type": "code",
   "execution_count": 31,
   "id": "7f376a1c-1d3b-47e7-9c2d-c6d2bcb91ebf",
   "metadata": {},
   "source": [
    "# Вычисление метрик\n",
    "research_df = calculate_metrics(research_df)"
   ],
   "outputs": []
  },
  {
   "cell_type": "code",
   "execution_count": 32,
   "id": "c8fa7cd9-6028-4902-bb2c-27e1a8c8a74e",
   "metadata": {},
   "source": [
    "research_df.head(10)"
   ],
   "outputs": []
  },
  {
   "cell_type": "code",
   "execution_count": 33,
   "id": "1d707a56-7a56-4b01-97df-96317bc0bda1",
   "metadata": {},
   "source": [
    "research_df[research_df['word_for_check'] == 'робот'].head"
   ],
   "outputs": []
  },
  {
   "cell_type": "markdown",
   "id": "9f291645-7536-4b37-9566-12cbeb85baac",
   "metadata": {},
   "source": [
    "## Анализ данных"
   ]
  },
  {
   "cell_type": "code",
   "execution_count": 89,
   "id": "7e0ca56f-2cbb-41ae-8cd5-09223a3c535c",
   "metadata": {
    "scrolled": true
   },
   "source": [
    "# Сохраняем метрики\n",
    "metrics = ['wer', 'cer', 'mer', 'wil', 'iwer']\n",
    "\n",
    "# Словарь цветов для метрик\n",
    "colors = {\n",
    "    'wer': 'blue',\n",
    "    'cer': 'orange',\n",
    "    'mer': 'green',\n",
    "    'wil': 'black',\n",
    "    'iwer': 'purple'\n",
    "}"
   ],
   "outputs": []
  },
  {
   "cell_type": "markdown",
   "id": "b798f990-160e-4528-8a66-c53a30eda880",
   "metadata": {},
   "source": [
    "### Функция отрисовки графики"
   ]
  },
  {
   "cell_type": "code",
   "execution_count": 90,
   "id": "2fe53720-9ee0-4bcb-b89a-8b57fe8ffe40",
   "metadata": {},
   "source": [
    "def draw_plot(word):\n",
    "    # Фильтрация данных по слову\n",
    "    filtered_df = research_df[research_df['word_for_check'] == word].sort_index()\n",
    "\n",
    "    for metric in metrics:\n",
    "        # Построение графика\n",
    "        plt.figure(figsize=(15, 5))\n",
    "        plt.plot(filtered_df.index, filtered_df[metric], marker='o', linestyle='-', color=colors[metric], label=metric.upper())\n",
    "        \n",
    "        # Скользящее среднее\n",
    "        rolling_mean = filtered_df[metric].rolling(window=3).mean()\n",
    "        plt.plot(filtered_df.index, rolling_mean, color='red', linestyle='--', label=f'{metric.upper()} (3-дневное скользящее среднее)')\n",
    "        \n",
    "        plt.title(f'Динамика {metric.upper()} для слова \"{word}\"', fontweight='bold', fontsize=12)\n",
    "        plt.xlabel('Дата', fontweight='bold', fontsize=12)\n",
    "        plt.ylabel(metric.upper(), fontweight='bold', fontsize=12)\n",
    "        plt.grid(True)\n",
    "        plt.xticks(rotation=45)\n",
    "        \n",
    "        # Добавление надписей\n",
    "        for idx, row in filtered_df.iterrows():\n",
    "            plt.annotate(row['transcription_word'], (idx, row[metric]), textcoords=\"offset points\", xytext=(0,10), ha='center', rotation=45)\n",
    "        \n",
    "        plt.legend()\n",
    "        plt.tight_layout()\n",
    "        \n",
    "        # Показ графика\n",
    "        plt.show()"
   ],
   "outputs": []
  },
  {
   "cell_type": "markdown",
   "id": "4d7ef959-5ca3-4841-80bd-cb8b180b9ad0",
   "metadata": {},
   "source": [
    "### Слово \"Робот\""
   ]
  },
  {
   "cell_type": "code",
   "execution_count": 91,
   "id": "7a3613df-f9a5-495c-839a-d7f4ef5720ea",
   "metadata": {
    "scrolled": true
   },
   "source": [
    "draw_plot('робот')"
   ],
   "outputs": []
  },
  {
   "cell_type": "markdown",
   "id": "6d273cb4-4f94-4c86-b936-5f3b35704b32",
   "metadata": {},
   "source": [
    "### Слово \"Инженер\""
   ]
  },
  {
   "cell_type": "code",
   "execution_count": 60,
   "id": "1384be39-b722-4a1f-9c6f-8da50510dd02",
   "metadata": {
    "scrolled": true
   },
   "source": [
    "draw_plot('инженер')"
   ],
   "outputs": []
  },
  {
   "cell_type": "code",
   "execution_count": 107,
   "id": "245f6fb1-cb6c-4989-8c04-d04c0688e2f9",
   "metadata": {},
   "source": [
    "# Функция для вычисления изменений метрик\n",
    "def compute_metrics_change(group):\n",
    "    metrics = ['wer', 'cer', 'mer', 'wil', 'iwer']\n",
    "    changes = {metric: (group[metric].iloc[-1] - group[metric].iloc[0]) for metric in metrics}\n",
    "    \n",
    "    return changes"
   ],
   "outputs": []
  },
  {
   "cell_type": "code",
   "execution_count": 108,
   "id": "09127052-1fdf-4fdc-9d3b-3832278049e2",
   "metadata": {},
   "source": [
    "# Функция для построения графиков изменения метрик по темам\n",
    "def draw_change_plot_by_theme(collection):\n",
    "    metrics = ['wer', 'cer', 'mer', 'wil', 'iwer']\n",
    "\n",
    "    for theme, words in collection.items():\n",
    "        # Фильтрация данных по словам из текущей темы\n",
    "        theme_df = research_df[research_df['word_for_check'].isin(words)]\n",
    "\n",
    "        if theme_df.empty:\n",
    "            continue\n",
    "\n",
    "        # Группировка по слову и вычисление изменений метрик\n",
    "        grouped_df = theme_df.groupby('word_for_check')\n",
    "        changes = {word: compute_metrics_change(group) for word, group in grouped_df}\n",
    "\n",
    "        for metric in metrics:\n",
    "            # Создание графика для текущей метрики\n",
    "            plt.figure(figsize=(15, 5))\n",
    "            words = list(changes.keys())\n",
    "            values = [changes[word][metric] for word in words]\n",
    "\n",
    "            # Отфильтруем слова с некорректными значениями\n",
    "            words = [word for word, value in zip(words, values) if pd.notnull(value) and np.isfinite(value)]\n",
    "            values = [value for value in values if pd.notnull(value) and np.isfinite(value)]\n",
    "\n",
    "            # Определение направления изменения\n",
    "            arrows = ['↓' if val < 0 else '↑' for val in values]\n",
    "            labels = [f'{val:.2f} {arrow}' for val, arrow in zip(values, arrows)]\n",
    "            colors = ['green' if val < 0 else 'red' for val in values]\n",
    "\n",
    "            # Построение столбчатой диаграммы\n",
    "            plt.bar(words, values, color=colors)\n",
    "\n",
    "            # Добавление подписей\n",
    "            for i, (word, label) in enumerate(zip(words, labels)):\n",
    "                plt.text(i, values[i], label, ha='center', va='bottom' if values[i] < 0 else 'top')\n",
    "\n",
    "            plt.title(f'Изменение {metric.upper()} по теме \"{theme}\"', fontweight='bold', fontsize=12)\n",
    "            plt.xlabel('Слово', fontweight='bold', fontsize=12)\n",
    "            plt.ylabel(f'Изменение {metric.upper()}', fontweight='bold', fontsize=12)\n",
    "            plt.grid(True)\n",
    "            plt.xticks(rotation=45)\n",
    "            \n",
    "            plt.tight_layout()\n",
    "            plt.show()"
   ],
   "outputs": []
  },
  {
   "cell_type": "code",
   "execution_count": 109,
   "id": "aee0db02-c1c8-4f81-b968-91cae5a9836a",
   "metadata": {},
   "source": [
    "# Пример вызова функции\n",
    "draw_change_plot_by_theme(collection)"
   ],
   "outputs": []
  },
  {
   "cell_type": "code",
   "execution_count": null,
   "id": "0e8b49e1-4b72-4b3f-9ce1-29ba4392bb13",
   "metadata": {},
   "source": [],
   "outputs": []
  },
  {
   "cell_type": "code",
   "execution_count": null,
   "id": "4246b85a-b100-41a3-bf87-cb4f55e4212b",
   "metadata": {},
   "source": [],
   "outputs": []
  },
  {
   "cell_type": "code",
   "execution_count": null,
   "id": "f7d3852e-4a44-40a9-8c64-467ec0fe9f0e",
   "metadata": {},
   "source": [],
   "outputs": []
  },
  {
   "cell_type": "code",
   "execution_count": null,
   "id": "226e195d-97dc-4ac3-b3cc-bcd5c03d1308",
   "metadata": {},
   "source": [],
   "outputs": []
  },
  {
   "cell_type": "code",
   "execution_count": null,
   "id": "60c756c5-4935-44fa-b56c-c2cef6f03465",
   "metadata": {},
   "source": [],
   "outputs": []
  }
 ],
 "metadata": {
  "kernelspec": {
   "display_name": "Python 3 (ipykernel)",
   "language": "python",
   "name": "python3"
  },
  "language_info": {
   "codemirror_mode": {
    "name": "ipython",
    "version": 3
   },
   "file_extension": ".py",
   "mimetype": "text/x-python",
   "name": "python",
   "nbconvert_exporter": "python",
   "pygments_lexer": "ipython3",
   "version": "3.11.7"
  }
 },
 "nbformat": 4,
 "nbformat_minor": 5
}
