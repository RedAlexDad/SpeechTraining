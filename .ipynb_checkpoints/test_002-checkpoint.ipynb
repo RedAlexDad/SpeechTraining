{
 "cells": [
  {
   "cell_type": "code",
   "execution_count": 27,
   "id": "56bd8324-03af-431f-81e3-ffe716fa6fd0",
   "metadata": {},
   "outputs": [],
   "source": [
    "from datasets import load_dataset"
   ]
  },
  {
   "cell_type": "code",
   "execution_count": null,
   "id": "a2a27823-9ffd-47c4-88f5-7b2d76d19408",
   "metadata": {},
   "outputs": [],
   "source": [
    "cv_11 = load_dataset(\"mozilla-foundation/common_voice_11_0\", \"ru\", split=\"train\")"
   ]
  },
  {
   "cell_type": "code",
   "execution_count": null,
   "id": "22196aa7-0d69-4ab4-b0d4-564e1d84fc2a",
   "metadata": {},
   "outputs": [],
   "source": [
    "print(next(iter(cv_11)))"
   ]
  },
  {
   "cell_type": "code",
   "execution_count": null,
   "id": "655c50c6-3a7b-4b10-8302-c7e11d61c8e8",
   "metadata": {},
   "outputs": [],
   "source": []
  },
  {
   "cell_type": "code",
   "execution_count": null,
   "id": "89140e36-10ac-423d-ae82-08351b3ec0aa",
   "metadata": {},
   "outputs": [],
   "source": []
  },
  {
   "cell_type": "code",
   "execution_count": null,
   "id": "1e07f41d-6f65-4e16-b288-fe0297c65be9",
   "metadata": {},
   "outputs": [],
   "source": []
  },
  {
   "cell_type": "code",
   "execution_count": null,
   "id": "a3e71e00-f99d-4464-b827-2d92cc57b0c1",
   "metadata": {},
   "outputs": [],
   "source": []
  },
  {
   "cell_type": "code",
   "execution_count": null,
   "id": "316fda84-b501-4a3e-b4d1-3b3a33ee3610",
   "metadata": {},
   "outputs": [],
   "source": []
  },
  {
   "cell_type": "code",
   "execution_count": null,
   "id": "cd525854-d877-4449-b9b7-7cf8b4d78135",
   "metadata": {},
   "outputs": [],
   "source": []
  },
  {
   "cell_type": "code",
   "execution_count": null,
   "id": "7fe110c0-fc04-4a75-a9fa-306819569e24",
   "metadata": {},
   "outputs": [],
   "source": []
  },
  {
   "cell_type": "code",
   "execution_count": null,
   "id": "ac6efa07-6b91-41b3-959f-18dee0d25429",
   "metadata": {},
   "outputs": [],
   "source": []
  },
  {
   "cell_type": "code",
   "execution_count": null,
   "id": "72118e5d-72fe-408a-acf4-0c8dda6e059a",
   "metadata": {},
   "outputs": [],
   "source": []
  },
  {
   "cell_type": "code",
   "execution_count": null,
   "id": "541a5147-c6aa-4e38-be8d-bd7f287539bc",
   "metadata": {},
   "outputs": [],
   "source": []
  },
  {
   "cell_type": "code",
   "execution_count": null,
   "id": "fa8e8692-24ea-4764-b0cb-2813fc3d5937",
   "metadata": {},
   "outputs": [],
   "source": []
  },
  {
   "cell_type": "code",
   "execution_count": null,
   "id": "e52976aa-a028-4034-b21a-90b36fd66069",
   "metadata": {},
   "outputs": [],
   "source": []
  },
  {
   "cell_type": "code",
   "execution_count": null,
   "id": "1c57a9b8-9941-4772-8bf2-ece36f31a26c",
   "metadata": {},
   "outputs": [],
   "source": []
  },
  {
   "cell_type": "code",
   "execution_count": null,
   "id": "894f53fd-8c64-4c77-8509-8d07d991a8b9",
   "metadata": {},
   "outputs": [],
   "source": []
  },
  {
   "cell_type": "code",
   "execution_count": null,
   "id": "f570380d-aab5-4ae1-8ea3-4fbc53846431",
   "metadata": {},
   "outputs": [],
   "source": []
  }
 ],
 "metadata": {
  "kernelspec": {
   "display_name": "Python 3 (ipykernel)",
   "language": "python",
   "name": "python3"
  },
  "language_info": {
   "codemirror_mode": {
    "name": "ipython",
    "version": 3
   },
   "file_extension": ".py",
   "mimetype": "text/x-python",
   "name": "python",
   "nbconvert_exporter": "python",
   "pygments_lexer": "ipython3",
   "version": "3.9.18"
  }
 },
 "nbformat": 4,
 "nbformat_minor": 5
}
